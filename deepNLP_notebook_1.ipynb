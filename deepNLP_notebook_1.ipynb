{
  "cells": [
    {
      "cell_type": "markdown",
      "metadata": {
        "colab_type": "text",
        "id": "view-in-github"
      },
      "source": [
        "<a href=\"https://colab.research.google.com/github/mitramir55/Kaggle-NLP-text-classification/blob/main/deepNLP_notebook_1.ipynb\" target=\"_parent\"><img src=\"https://colab.research.google.com/assets/colab-badge.svg\" alt=\"Open In Colab\"/></a>"
      ]
    },
    {
      "cell_type": "code",
      "execution_count": 1,
      "metadata": {
        "colab": {
          "base_uri": "https://localhost:8080/",
          "height": 17
        },
        "id": "O-e7TxC-rTuP",
        "outputId": "4f033d7d-a718-4c0a-f831-df8b3838f1b4"
      },
      "outputs": [
        {
          "data": {
            "text/html": [
              "        <script type=\"text/javascript\">\n",
              "        window.PlotlyConfig = {MathJaxConfig: 'local'};\n",
              "        if (window.MathJax && window.MathJax.Hub && window.MathJax.Hub.Config) {window.MathJax.Hub.Config({SVG: {font: \"STIX-Web\"}});}\n",
              "        if (typeof require !== 'undefined') {\n",
              "        require.undef(\"plotly\");\n",
              "        requirejs.config({\n",
              "            paths: {\n",
              "                'plotly': ['https://cdn.plot.ly/plotly-2.12.1.min']\n",
              "            }\n",
              "        });\n",
              "        require(['plotly'], function(Plotly) {\n",
              "            window._Plotly = Plotly;\n",
              "        });\n",
              "        }\n",
              "        </script>\n",
              "        "
            ]
          },
          "metadata": {},
          "output_type": "display_data"
        }
      ],
      "source": [
        "# This Python 3 environment comes with many helpful analytics libraries installed\n",
        "# It is defined by the kaggle/python docker image: https://github.com/kaggle/docker-python\n",
        "# For example, here's several helpful packages to load in \n",
        "\n",
        "import numpy as np # linear algebra\n",
        "import pandas as pd # data processing, CSV file I/O (e.g. pd.read_csv)\n",
        "\n",
        "# Input data files are available in the \"../input/\" directory.\n",
        "# For example, running this (by clicking run or pressing Shift+Enter) will list the files in the input directory\n",
        "\n",
        "import pandas as pd\n",
        "import numpy as np\n",
        "import re\n",
        "import string\n",
        "import nltk\n",
        "import matplotlib as plty\n",
        "import matplotlib.pyplot as plt\n",
        "import seaborn as sns\n",
        "%matplotlib inline\n",
        "import sklearn\n",
        "\n",
        "\n",
        "import numpy as np\n",
        "import pandas as pd\n",
        "import seaborn as sns\n",
        "import matplotlib.pyplot as plt\n",
        "from subprocess import check_output\n",
        "\n",
        "%matplotlib inline\n",
        "import plotly.offline as py\n",
        "py.init_notebook_mode(connected=True)\n",
        "import plotly.graph_objs as go\n",
        "import plotly.tools as tls\n",
        "\n",
        "import plotly.graph_objs as go"
      ]
    },
    {
      "cell_type": "code",
      "execution_count": 2,
      "metadata": {
        "id": "Wef3ZCOarZLj"
      },
      "outputs": [],
      "source": [
        "pd.set_option('display.max_colwidth', None)"
      ]
    },
    {
      "cell_type": "code",
      "execution_count": 3,
      "metadata": {
        "colab": {
          "base_uri": "https://localhost:8080/",
          "height": 97,
          "resources": {
            "http://localhost:8080/nbextensions/google.colab/files.js": {
              "data": "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",
              "headers": [
                [
                  "content-type",
                  "application/javascript"
                ]
              ],
              "ok": true,
              "status": 200,
              "status_text": ""
            }
          }
        },
        "id": "Jrqo-T2trwmQ",
        "outputId": "5f9035a8-7945-47b2-9987-ab2be7c7d103"
      },
      "outputs": [],
      "source": [
        "df = pd.read_csv(\"data/Sheet_1.csv\")"
      ]
    },
    {
      "cell_type": "code",
      "execution_count": 4,
      "metadata": {},
      "outputs": [],
      "source": [
        "df.dropna(inplace=True, axis=1 )"
      ]
    },
    {
      "cell_type": "code",
      "execution_count": 5,
      "metadata": {
        "id": "5yikenequtdl"
      },
      "outputs": [
        {
          "data": {
            "text/html": [
              "<div>\n",
              "<style scoped>\n",
              "    .dataframe tbody tr th:only-of-type {\n",
              "        vertical-align: middle;\n",
              "    }\n",
              "\n",
              "    .dataframe tbody tr th {\n",
              "        vertical-align: top;\n",
              "    }\n",
              "\n",
              "    .dataframe thead th {\n",
              "        text-align: right;\n",
              "    }\n",
              "</style>\n",
              "<table border=\"1\" class=\"dataframe\">\n",
              "  <thead>\n",
              "    <tr style=\"text-align: right;\">\n",
              "      <th></th>\n",
              "      <th>response_id</th>\n",
              "      <th>class</th>\n",
              "      <th>response_text</th>\n",
              "    </tr>\n",
              "  </thead>\n",
              "  <tbody>\n",
              "    <tr>\n",
              "      <th>0</th>\n",
              "      <td>response_1</td>\n",
              "      <td>not_flagged</td>\n",
              "      <td>I try and avoid this sort of conflict</td>\n",
              "    </tr>\n",
              "    <tr>\n",
              "      <th>1</th>\n",
              "      <td>response_2</td>\n",
              "      <td>flagged</td>\n",
              "      <td>Had a friend open up to me about his mental addiction to weed and how it was taking over his life and making him depressed</td>\n",
              "    </tr>\n",
              "    <tr>\n",
              "      <th>2</th>\n",
              "      <td>response_3</td>\n",
              "      <td>flagged</td>\n",
              "      <td>I saved a girl from suicide once. She was going to swallow a bunch of pills and I talked her out of it in a very calm, loving way.</td>\n",
              "    </tr>\n",
              "    <tr>\n",
              "      <th>3</th>\n",
              "      <td>response_4</td>\n",
              "      <td>not_flagged</td>\n",
              "      <td>i cant think of one really...i think i may have indirectly</td>\n",
              "    </tr>\n",
              "    <tr>\n",
              "      <th>4</th>\n",
              "      <td>response_5</td>\n",
              "      <td>not_flagged</td>\n",
              "      <td>Only really one friend who doesn't fit into the any of the above categories. Her therapist calls it spiraling.\" Anyway she pretty much calls me any time she is frustrated by something with  her boyfriend to ask me if it's logical or not. Before they would just fight and he would call her crazy. Now she asks me if it's ok he didn't say \"please\" when he said  \"hand me the remote.\"</td>\n",
              "    </tr>\n",
              "  </tbody>\n",
              "</table>\n",
              "</div>"
            ],
            "text/plain": [
              "  response_id        class  \\\n",
              "0  response_1  not_flagged   \n",
              "1  response_2      flagged   \n",
              "2  response_3      flagged   \n",
              "3  response_4  not_flagged   \n",
              "4  response_5  not_flagged   \n",
              "\n",
              "                                                                                                                                                                                                                                                                                                                                                                                   response_text  \n",
              "0                                                                                                                                                                                                                                                                                                                                                          I try and avoid this sort of conflict  \n",
              "1                                                                                                                                                                                                                                                                     Had a friend open up to me about his mental addiction to weed and how it was taking over his life and making him depressed  \n",
              "2                                                                                                                                                                                                                                                             I saved a girl from suicide once. She was going to swallow a bunch of pills and I talked her out of it in a very calm, loving way.  \n",
              "3                                                                                                                                                                                                                                                                                                                                     i cant think of one really...i think i may have indirectly  \n",
              "4  Only really one friend who doesn't fit into the any of the above categories. Her therapist calls it spiraling.\" Anyway she pretty much calls me any time she is frustrated by something with  her boyfriend to ask me if it's logical or not. Before they would just fight and he would call her crazy. Now she asks me if it's ok he didn't say \"please\" when he said  \"hand me the remote.\"  "
            ]
          },
          "execution_count": 5,
          "metadata": {},
          "output_type": "execute_result"
        }
      ],
      "source": [
        "df.head()"
      ]
    },
    {
      "cell_type": "code",
      "execution_count": 6,
      "metadata": {},
      "outputs": [
        {
          "data": {
            "application/vnd.plotly.v1+json": {
              "config": {
                "plotlyServerURL": "https://plot.ly"
              },
              "data": [
                {
                  "alignmentgroup": "True",
                  "bingroup": "x",
                  "hovertemplate": "class=%{x}<br>count=%{y}<extra></extra>",
                  "legendgroup": "",
                  "marker": {
                    "color": "#636efa",
                    "pattern": {
                      "shape": ""
                    }
                  },
                  "name": "",
                  "offsetgroup": "",
                  "orientation": "v",
                  "showlegend": false,
                  "type": "histogram",
                  "x": [
                    "not_flagged",
                    "flagged",
                    "flagged",
                    "not_flagged",
                    "not_flagged",
                    "not_flagged",
                    "flagged",
                    "flagged",
                    "not_flagged",
                    "flagged",
                    "not_flagged",
                    "flagged",
                    "not_flagged",
                    "not_flagged",
                    "not_flagged",
                    "flagged",
                    "not_flagged",
                    "not_flagged",
                    "not_flagged",
                    "not_flagged",
                    "not_flagged",
                    "flagged",
                    "flagged",
                    "not_flagged",
                    "not_flagged",
                    "flagged",
                    "flagged",
                    "not_flagged",
                    "flagged",
                    "not_flagged",
                    "not_flagged",
                    "not_flagged",
                    "not_flagged",
                    "not_flagged",
                    "not_flagged",
                    "not_flagged",
                    "flagged",
                    "not_flagged",
                    "flagged",
                    "not_flagged",
                    "flagged",
                    "not_flagged",
                    "not_flagged",
                    "not_flagged",
                    "not_flagged",
                    "not_flagged",
                    "not_flagged",
                    "not_flagged",
                    "flagged",
                    "not_flagged",
                    "not_flagged",
                    "flagged",
                    "not_flagged",
                    "not_flagged",
                    "not_flagged",
                    "not_flagged",
                    "not_flagged",
                    "flagged",
                    "not_flagged",
                    "flagged",
                    "not_flagged",
                    "flagged",
                    "not_flagged",
                    "not_flagged",
                    "flagged",
                    "not_flagged",
                    "not_flagged",
                    "not_flagged",
                    "not_flagged",
                    "not_flagged",
                    "not_flagged",
                    "not_flagged",
                    "flagged",
                    "not_flagged",
                    "flagged",
                    "not_flagged",
                    "flagged",
                    "not_flagged",
                    "flagged",
                    "not_flagged"
                  ],
                  "xaxis": "x",
                  "yaxis": "y"
                }
              ],
              "layout": {
                "barmode": "relative",
                "legend": {
                  "tracegroupgap": 0
                },
                "margin": {
                  "t": 60
                },
                "template": {
                  "data": {
                    "bar": [
                      {
                        "error_x": {
                          "color": "#2a3f5f"
                        },
                        "error_y": {
                          "color": "#2a3f5f"
                        },
                        "marker": {
                          "line": {
                            "color": "#E5ECF6",
                            "width": 0.5
                          },
                          "pattern": {
                            "fillmode": "overlay",
                            "size": 10,
                            "solidity": 0.2
                          }
                        },
                        "type": "bar"
                      }
                    ],
                    "barpolar": [
                      {
                        "marker": {
                          "line": {
                            "color": "#E5ECF6",
                            "width": 0.5
                          },
                          "pattern": {
                            "fillmode": "overlay",
                            "size": 10,
                            "solidity": 0.2
                          }
                        },
                        "type": "barpolar"
                      }
                    ],
                    "carpet": [
                      {
                        "aaxis": {
                          "endlinecolor": "#2a3f5f",
                          "gridcolor": "white",
                          "linecolor": "white",
                          "minorgridcolor": "white",
                          "startlinecolor": "#2a3f5f"
                        },
                        "baxis": {
                          "endlinecolor": "#2a3f5f",
                          "gridcolor": "white",
                          "linecolor": "white",
                          "minorgridcolor": "white",
                          "startlinecolor": "#2a3f5f"
                        },
                        "type": "carpet"
                      }
                    ],
                    "choropleth": [
                      {
                        "colorbar": {
                          "outlinewidth": 0,
                          "ticks": ""
                        },
                        "type": "choropleth"
                      }
                    ],
                    "contour": [
                      {
                        "colorbar": {
                          "outlinewidth": 0,
                          "ticks": ""
                        },
                        "colorscale": [
                          [
                            0,
                            "#0d0887"
                          ],
                          [
                            0.1111111111111111,
                            "#46039f"
                          ],
                          [
                            0.2222222222222222,
                            "#7201a8"
                          ],
                          [
                            0.3333333333333333,
                            "#9c179e"
                          ],
                          [
                            0.4444444444444444,
                            "#bd3786"
                          ],
                          [
                            0.5555555555555556,
                            "#d8576b"
                          ],
                          [
                            0.6666666666666666,
                            "#ed7953"
                          ],
                          [
                            0.7777777777777778,
                            "#fb9f3a"
                          ],
                          [
                            0.8888888888888888,
                            "#fdca26"
                          ],
                          [
                            1,
                            "#f0f921"
                          ]
                        ],
                        "type": "contour"
                      }
                    ],
                    "contourcarpet": [
                      {
                        "colorbar": {
                          "outlinewidth": 0,
                          "ticks": ""
                        },
                        "type": "contourcarpet"
                      }
                    ],
                    "heatmap": [
                      {
                        "colorbar": {
                          "outlinewidth": 0,
                          "ticks": ""
                        },
                        "colorscale": [
                          [
                            0,
                            "#0d0887"
                          ],
                          [
                            0.1111111111111111,
                            "#46039f"
                          ],
                          [
                            0.2222222222222222,
                            "#7201a8"
                          ],
                          [
                            0.3333333333333333,
                            "#9c179e"
                          ],
                          [
                            0.4444444444444444,
                            "#bd3786"
                          ],
                          [
                            0.5555555555555556,
                            "#d8576b"
                          ],
                          [
                            0.6666666666666666,
                            "#ed7953"
                          ],
                          [
                            0.7777777777777778,
                            "#fb9f3a"
                          ],
                          [
                            0.8888888888888888,
                            "#fdca26"
                          ],
                          [
                            1,
                            "#f0f921"
                          ]
                        ],
                        "type": "heatmap"
                      }
                    ],
                    "heatmapgl": [
                      {
                        "colorbar": {
                          "outlinewidth": 0,
                          "ticks": ""
                        },
                        "colorscale": [
                          [
                            0,
                            "#0d0887"
                          ],
                          [
                            0.1111111111111111,
                            "#46039f"
                          ],
                          [
                            0.2222222222222222,
                            "#7201a8"
                          ],
                          [
                            0.3333333333333333,
                            "#9c179e"
                          ],
                          [
                            0.4444444444444444,
                            "#bd3786"
                          ],
                          [
                            0.5555555555555556,
                            "#d8576b"
                          ],
                          [
                            0.6666666666666666,
                            "#ed7953"
                          ],
                          [
                            0.7777777777777778,
                            "#fb9f3a"
                          ],
                          [
                            0.8888888888888888,
                            "#fdca26"
                          ],
                          [
                            1,
                            "#f0f921"
                          ]
                        ],
                        "type": "heatmapgl"
                      }
                    ],
                    "histogram": [
                      {
                        "marker": {
                          "pattern": {
                            "fillmode": "overlay",
                            "size": 10,
                            "solidity": 0.2
                          }
                        },
                        "type": "histogram"
                      }
                    ],
                    "histogram2d": [
                      {
                        "colorbar": {
                          "outlinewidth": 0,
                          "ticks": ""
                        },
                        "colorscale": [
                          [
                            0,
                            "#0d0887"
                          ],
                          [
                            0.1111111111111111,
                            "#46039f"
                          ],
                          [
                            0.2222222222222222,
                            "#7201a8"
                          ],
                          [
                            0.3333333333333333,
                            "#9c179e"
                          ],
                          [
                            0.4444444444444444,
                            "#bd3786"
                          ],
                          [
                            0.5555555555555556,
                            "#d8576b"
                          ],
                          [
                            0.6666666666666666,
                            "#ed7953"
                          ],
                          [
                            0.7777777777777778,
                            "#fb9f3a"
                          ],
                          [
                            0.8888888888888888,
                            "#fdca26"
                          ],
                          [
                            1,
                            "#f0f921"
                          ]
                        ],
                        "type": "histogram2d"
                      }
                    ],
                    "histogram2dcontour": [
                      {
                        "colorbar": {
                          "outlinewidth": 0,
                          "ticks": ""
                        },
                        "colorscale": [
                          [
                            0,
                            "#0d0887"
                          ],
                          [
                            0.1111111111111111,
                            "#46039f"
                          ],
                          [
                            0.2222222222222222,
                            "#7201a8"
                          ],
                          [
                            0.3333333333333333,
                            "#9c179e"
                          ],
                          [
                            0.4444444444444444,
                            "#bd3786"
                          ],
                          [
                            0.5555555555555556,
                            "#d8576b"
                          ],
                          [
                            0.6666666666666666,
                            "#ed7953"
                          ],
                          [
                            0.7777777777777778,
                            "#fb9f3a"
                          ],
                          [
                            0.8888888888888888,
                            "#fdca26"
                          ],
                          [
                            1,
                            "#f0f921"
                          ]
                        ],
                        "type": "histogram2dcontour"
                      }
                    ],
                    "mesh3d": [
                      {
                        "colorbar": {
                          "outlinewidth": 0,
                          "ticks": ""
                        },
                        "type": "mesh3d"
                      }
                    ],
                    "parcoords": [
                      {
                        "line": {
                          "colorbar": {
                            "outlinewidth": 0,
                            "ticks": ""
                          }
                        },
                        "type": "parcoords"
                      }
                    ],
                    "pie": [
                      {
                        "automargin": true,
                        "type": "pie"
                      }
                    ],
                    "scatter": [
                      {
                        "fillpattern": {
                          "fillmode": "overlay",
                          "size": 10,
                          "solidity": 0.2
                        },
                        "type": "scatter"
                      }
                    ],
                    "scatter3d": [
                      {
                        "line": {
                          "colorbar": {
                            "outlinewidth": 0,
                            "ticks": ""
                          }
                        },
                        "marker": {
                          "colorbar": {
                            "outlinewidth": 0,
                            "ticks": ""
                          }
                        },
                        "type": "scatter3d"
                      }
                    ],
                    "scattercarpet": [
                      {
                        "marker": {
                          "colorbar": {
                            "outlinewidth": 0,
                            "ticks": ""
                          }
                        },
                        "type": "scattercarpet"
                      }
                    ],
                    "scattergeo": [
                      {
                        "marker": {
                          "colorbar": {
                            "outlinewidth": 0,
                            "ticks": ""
                          }
                        },
                        "type": "scattergeo"
                      }
                    ],
                    "scattergl": [
                      {
                        "marker": {
                          "colorbar": {
                            "outlinewidth": 0,
                            "ticks": ""
                          }
                        },
                        "type": "scattergl"
                      }
                    ],
                    "scattermapbox": [
                      {
                        "marker": {
                          "colorbar": {
                            "outlinewidth": 0,
                            "ticks": ""
                          }
                        },
                        "type": "scattermapbox"
                      }
                    ],
                    "scatterpolar": [
                      {
                        "marker": {
                          "colorbar": {
                            "outlinewidth": 0,
                            "ticks": ""
                          }
                        },
                        "type": "scatterpolar"
                      }
                    ],
                    "scatterpolargl": [
                      {
                        "marker": {
                          "colorbar": {
                            "outlinewidth": 0,
                            "ticks": ""
                          }
                        },
                        "type": "scatterpolargl"
                      }
                    ],
                    "scatterternary": [
                      {
                        "marker": {
                          "colorbar": {
                            "outlinewidth": 0,
                            "ticks": ""
                          }
                        },
                        "type": "scatterternary"
                      }
                    ],
                    "surface": [
                      {
                        "colorbar": {
                          "outlinewidth": 0,
                          "ticks": ""
                        },
                        "colorscale": [
                          [
                            0,
                            "#0d0887"
                          ],
                          [
                            0.1111111111111111,
                            "#46039f"
                          ],
                          [
                            0.2222222222222222,
                            "#7201a8"
                          ],
                          [
                            0.3333333333333333,
                            "#9c179e"
                          ],
                          [
                            0.4444444444444444,
                            "#bd3786"
                          ],
                          [
                            0.5555555555555556,
                            "#d8576b"
                          ],
                          [
                            0.6666666666666666,
                            "#ed7953"
                          ],
                          [
                            0.7777777777777778,
                            "#fb9f3a"
                          ],
                          [
                            0.8888888888888888,
                            "#fdca26"
                          ],
                          [
                            1,
                            "#f0f921"
                          ]
                        ],
                        "type": "surface"
                      }
                    ],
                    "table": [
                      {
                        "cells": {
                          "fill": {
                            "color": "#EBF0F8"
                          },
                          "line": {
                            "color": "white"
                          }
                        },
                        "header": {
                          "fill": {
                            "color": "#C8D4E3"
                          },
                          "line": {
                            "color": "white"
                          }
                        },
                        "type": "table"
                      }
                    ]
                  },
                  "layout": {
                    "annotationdefaults": {
                      "arrowcolor": "#2a3f5f",
                      "arrowhead": 0,
                      "arrowwidth": 1
                    },
                    "autotypenumbers": "strict",
                    "coloraxis": {
                      "colorbar": {
                        "outlinewidth": 0,
                        "ticks": ""
                      }
                    },
                    "colorscale": {
                      "diverging": [
                        [
                          0,
                          "#8e0152"
                        ],
                        [
                          0.1,
                          "#c51b7d"
                        ],
                        [
                          0.2,
                          "#de77ae"
                        ],
                        [
                          0.3,
                          "#f1b6da"
                        ],
                        [
                          0.4,
                          "#fde0ef"
                        ],
                        [
                          0.5,
                          "#f7f7f7"
                        ],
                        [
                          0.6,
                          "#e6f5d0"
                        ],
                        [
                          0.7,
                          "#b8e186"
                        ],
                        [
                          0.8,
                          "#7fbc41"
                        ],
                        [
                          0.9,
                          "#4d9221"
                        ],
                        [
                          1,
                          "#276419"
                        ]
                      ],
                      "sequential": [
                        [
                          0,
                          "#0d0887"
                        ],
                        [
                          0.1111111111111111,
                          "#46039f"
                        ],
                        [
                          0.2222222222222222,
                          "#7201a8"
                        ],
                        [
                          0.3333333333333333,
                          "#9c179e"
                        ],
                        [
                          0.4444444444444444,
                          "#bd3786"
                        ],
                        [
                          0.5555555555555556,
                          "#d8576b"
                        ],
                        [
                          0.6666666666666666,
                          "#ed7953"
                        ],
                        [
                          0.7777777777777778,
                          "#fb9f3a"
                        ],
                        [
                          0.8888888888888888,
                          "#fdca26"
                        ],
                        [
                          1,
                          "#f0f921"
                        ]
                      ],
                      "sequentialminus": [
                        [
                          0,
                          "#0d0887"
                        ],
                        [
                          0.1111111111111111,
                          "#46039f"
                        ],
                        [
                          0.2222222222222222,
                          "#7201a8"
                        ],
                        [
                          0.3333333333333333,
                          "#9c179e"
                        ],
                        [
                          0.4444444444444444,
                          "#bd3786"
                        ],
                        [
                          0.5555555555555556,
                          "#d8576b"
                        ],
                        [
                          0.6666666666666666,
                          "#ed7953"
                        ],
                        [
                          0.7777777777777778,
                          "#fb9f3a"
                        ],
                        [
                          0.8888888888888888,
                          "#fdca26"
                        ],
                        [
                          1,
                          "#f0f921"
                        ]
                      ]
                    },
                    "colorway": [
                      "#636efa",
                      "#EF553B",
                      "#00cc96",
                      "#ab63fa",
                      "#FFA15A",
                      "#19d3f3",
                      "#FF6692",
                      "#B6E880",
                      "#FF97FF",
                      "#FECB52"
                    ],
                    "font": {
                      "color": "#2a3f5f"
                    },
                    "geo": {
                      "bgcolor": "white",
                      "lakecolor": "white",
                      "landcolor": "#E5ECF6",
                      "showlakes": true,
                      "showland": true,
                      "subunitcolor": "white"
                    },
                    "hoverlabel": {
                      "align": "left"
                    },
                    "hovermode": "closest",
                    "mapbox": {
                      "style": "light"
                    },
                    "paper_bgcolor": "white",
                    "plot_bgcolor": "#E5ECF6",
                    "polar": {
                      "angularaxis": {
                        "gridcolor": "white",
                        "linecolor": "white",
                        "ticks": ""
                      },
                      "bgcolor": "#E5ECF6",
                      "radialaxis": {
                        "gridcolor": "white",
                        "linecolor": "white",
                        "ticks": ""
                      }
                    },
                    "scene": {
                      "xaxis": {
                        "backgroundcolor": "#E5ECF6",
                        "gridcolor": "white",
                        "gridwidth": 2,
                        "linecolor": "white",
                        "showbackground": true,
                        "ticks": "",
                        "zerolinecolor": "white"
                      },
                      "yaxis": {
                        "backgroundcolor": "#E5ECF6",
                        "gridcolor": "white",
                        "gridwidth": 2,
                        "linecolor": "white",
                        "showbackground": true,
                        "ticks": "",
                        "zerolinecolor": "white"
                      },
                      "zaxis": {
                        "backgroundcolor": "#E5ECF6",
                        "gridcolor": "white",
                        "gridwidth": 2,
                        "linecolor": "white",
                        "showbackground": true,
                        "ticks": "",
                        "zerolinecolor": "white"
                      }
                    },
                    "shapedefaults": {
                      "line": {
                        "color": "#2a3f5f"
                      }
                    },
                    "ternary": {
                      "aaxis": {
                        "gridcolor": "white",
                        "linecolor": "white",
                        "ticks": ""
                      },
                      "baxis": {
                        "gridcolor": "white",
                        "linecolor": "white",
                        "ticks": ""
                      },
                      "bgcolor": "#E5ECF6",
                      "caxis": {
                        "gridcolor": "white",
                        "linecolor": "white",
                        "ticks": ""
                      }
                    },
                    "title": {
                      "x": 0.05
                    },
                    "xaxis": {
                      "automargin": true,
                      "gridcolor": "white",
                      "linecolor": "white",
                      "ticks": "",
                      "title": {
                        "standoff": 15
                      },
                      "zerolinecolor": "white",
                      "zerolinewidth": 2
                    },
                    "yaxis": {
                      "automargin": true,
                      "gridcolor": "white",
                      "linecolor": "white",
                      "ticks": "",
                      "title": {
                        "standoff": 15
                      },
                      "zerolinecolor": "white",
                      "zerolinewidth": 2
                    }
                  }
                },
                "xaxis": {
                  "anchor": "y",
                  "domain": [
                    0,
                    1
                  ],
                  "title": {
                    "text": "class"
                  }
                },
                "yaxis": {
                  "anchor": "x",
                  "domain": [
                    0,
                    1
                  ],
                  "title": {
                    "text": "count"
                  }
                }
              }
            },
            "text/html": [
              "<div>                            <div id=\"e26c5180-f518-4811-b513-f09994eaccc7\" class=\"plotly-graph-div\" style=\"height:525px; width:100%;\"></div>            <script type=\"text/javascript\">                require([\"plotly\"], function(Plotly) {                    window.PLOTLYENV=window.PLOTLYENV || {};                                    if (document.getElementById(\"e26c5180-f518-4811-b513-f09994eaccc7\")) {                    Plotly.newPlot(                        \"e26c5180-f518-4811-b513-f09994eaccc7\",                        [{\"alignmentgroup\":\"True\",\"bingroup\":\"x\",\"hovertemplate\":\"class=%{x}<br>count=%{y}<extra></extra>\",\"legendgroup\":\"\",\"marker\":{\"color\":\"#636efa\",\"pattern\":{\"shape\":\"\"}},\"name\":\"\",\"offsetgroup\":\"\",\"orientation\":\"v\",\"showlegend\":false,\"x\":[\"not_flagged\",\"flagged\",\"flagged\",\"not_flagged\",\"not_flagged\",\"not_flagged\",\"flagged\",\"flagged\",\"not_flagged\",\"flagged\",\"not_flagged\",\"flagged\",\"not_flagged\",\"not_flagged\",\"not_flagged\",\"flagged\",\"not_flagged\",\"not_flagged\",\"not_flagged\",\"not_flagged\",\"not_flagged\",\"flagged\",\"flagged\",\"not_flagged\",\"not_flagged\",\"flagged\",\"flagged\",\"not_flagged\",\"flagged\",\"not_flagged\",\"not_flagged\",\"not_flagged\",\"not_flagged\",\"not_flagged\",\"not_flagged\",\"not_flagged\",\"flagged\",\"not_flagged\",\"flagged\",\"not_flagged\",\"flagged\",\"not_flagged\",\"not_flagged\",\"not_flagged\",\"not_flagged\",\"not_flagged\",\"not_flagged\",\"not_flagged\",\"flagged\",\"not_flagged\",\"not_flagged\",\"flagged\",\"not_flagged\",\"not_flagged\",\"not_flagged\",\"not_flagged\",\"not_flagged\",\"flagged\",\"not_flagged\",\"flagged\",\"not_flagged\",\"flagged\",\"not_flagged\",\"not_flagged\",\"flagged\",\"not_flagged\",\"not_flagged\",\"not_flagged\",\"not_flagged\",\"not_flagged\",\"not_flagged\",\"not_flagged\",\"flagged\",\"not_flagged\",\"flagged\",\"not_flagged\",\"flagged\",\"not_flagged\",\"flagged\",\"not_flagged\"],\"xaxis\":\"x\",\"yaxis\":\"y\",\"type\":\"histogram\"}],                        {\"template\":{\"data\":{\"histogram2dcontour\":[{\"type\":\"histogram2dcontour\",\"colorbar\":{\"outlinewidth\":0,\"ticks\":\"\"},\"colorscale\":[[0.0,\"#0d0887\"],[0.1111111111111111,\"#46039f\"],[0.2222222222222222,\"#7201a8\"],[0.3333333333333333,\"#9c179e\"],[0.4444444444444444,\"#bd3786\"],[0.5555555555555556,\"#d8576b\"],[0.6666666666666666,\"#ed7953\"],[0.7777777777777778,\"#fb9f3a\"],[0.8888888888888888,\"#fdca26\"],[1.0,\"#f0f921\"]]}],\"choropleth\":[{\"type\":\"choropleth\",\"colorbar\":{\"outlinewidth\":0,\"ticks\":\"\"}}],\"histogram2d\":[{\"type\":\"histogram2d\",\"colorbar\":{\"outlinewidth\":0,\"ticks\":\"\"},\"colorscale\":[[0.0,\"#0d0887\"],[0.1111111111111111,\"#46039f\"],[0.2222222222222222,\"#7201a8\"],[0.3333333333333333,\"#9c179e\"],[0.4444444444444444,\"#bd3786\"],[0.5555555555555556,\"#d8576b\"],[0.6666666666666666,\"#ed7953\"],[0.7777777777777778,\"#fb9f3a\"],[0.8888888888888888,\"#fdca26\"],[1.0,\"#f0f921\"]]}],\"heatmap\":[{\"type\":\"heatmap\",\"colorbar\":{\"outlinewidth\":0,\"ticks\":\"\"},\"colorscale\":[[0.0,\"#0d0887\"],[0.1111111111111111,\"#46039f\"],[0.2222222222222222,\"#7201a8\"],[0.3333333333333333,\"#9c179e\"],[0.4444444444444444,\"#bd3786\"],[0.5555555555555556,\"#d8576b\"],[0.6666666666666666,\"#ed7953\"],[0.7777777777777778,\"#fb9f3a\"],[0.8888888888888888,\"#fdca26\"],[1.0,\"#f0f921\"]]}],\"heatmapgl\":[{\"type\":\"heatmapgl\",\"colorbar\":{\"outlinewidth\":0,\"ticks\":\"\"},\"colorscale\":[[0.0,\"#0d0887\"],[0.1111111111111111,\"#46039f\"],[0.2222222222222222,\"#7201a8\"],[0.3333333333333333,\"#9c179e\"],[0.4444444444444444,\"#bd3786\"],[0.5555555555555556,\"#d8576b\"],[0.6666666666666666,\"#ed7953\"],[0.7777777777777778,\"#fb9f3a\"],[0.8888888888888888,\"#fdca26\"],[1.0,\"#f0f921\"]]}],\"contourcarpet\":[{\"type\":\"contourcarpet\",\"colorbar\":{\"outlinewidth\":0,\"ticks\":\"\"}}],\"contour\":[{\"type\":\"contour\",\"colorbar\":{\"outlinewidth\":0,\"ticks\":\"\"},\"colorscale\":[[0.0,\"#0d0887\"],[0.1111111111111111,\"#46039f\"],[0.2222222222222222,\"#7201a8\"],[0.3333333333333333,\"#9c179e\"],[0.4444444444444444,\"#bd3786\"],[0.5555555555555556,\"#d8576b\"],[0.6666666666666666,\"#ed7953\"],[0.7777777777777778,\"#fb9f3a\"],[0.8888888888888888,\"#fdca26\"],[1.0,\"#f0f921\"]]}],\"surface\":[{\"type\":\"surface\",\"colorbar\":{\"outlinewidth\":0,\"ticks\":\"\"},\"colorscale\":[[0.0,\"#0d0887\"],[0.1111111111111111,\"#46039f\"],[0.2222222222222222,\"#7201a8\"],[0.3333333333333333,\"#9c179e\"],[0.4444444444444444,\"#bd3786\"],[0.5555555555555556,\"#d8576b\"],[0.6666666666666666,\"#ed7953\"],[0.7777777777777778,\"#fb9f3a\"],[0.8888888888888888,\"#fdca26\"],[1.0,\"#f0f921\"]]}],\"mesh3d\":[{\"type\":\"mesh3d\",\"colorbar\":{\"outlinewidth\":0,\"ticks\":\"\"}}],\"scatter\":[{\"fillpattern\":{\"fillmode\":\"overlay\",\"size\":10,\"solidity\":0.2},\"type\":\"scatter\"}],\"parcoords\":[{\"type\":\"parcoords\",\"line\":{\"colorbar\":{\"outlinewidth\":0,\"ticks\":\"\"}}}],\"scatterpolargl\":[{\"type\":\"scatterpolargl\",\"marker\":{\"colorbar\":{\"outlinewidth\":0,\"ticks\":\"\"}}}],\"bar\":[{\"error_x\":{\"color\":\"#2a3f5f\"},\"error_y\":{\"color\":\"#2a3f5f\"},\"marker\":{\"line\":{\"color\":\"#E5ECF6\",\"width\":0.5},\"pattern\":{\"fillmode\":\"overlay\",\"size\":10,\"solidity\":0.2}},\"type\":\"bar\"}],\"scattergeo\":[{\"type\":\"scattergeo\",\"marker\":{\"colorbar\":{\"outlinewidth\":0,\"ticks\":\"\"}}}],\"scatterpolar\":[{\"type\":\"scatterpolar\",\"marker\":{\"colorbar\":{\"outlinewidth\":0,\"ticks\":\"\"}}}],\"histogram\":[{\"marker\":{\"pattern\":{\"fillmode\":\"overlay\",\"size\":10,\"solidity\":0.2}},\"type\":\"histogram\"}],\"scattergl\":[{\"type\":\"scattergl\",\"marker\":{\"colorbar\":{\"outlinewidth\":0,\"ticks\":\"\"}}}],\"scatter3d\":[{\"type\":\"scatter3d\",\"line\":{\"colorbar\":{\"outlinewidth\":0,\"ticks\":\"\"}},\"marker\":{\"colorbar\":{\"outlinewidth\":0,\"ticks\":\"\"}}}],\"scattermapbox\":[{\"type\":\"scattermapbox\",\"marker\":{\"colorbar\":{\"outlinewidth\":0,\"ticks\":\"\"}}}],\"scatterternary\":[{\"type\":\"scatterternary\",\"marker\":{\"colorbar\":{\"outlinewidth\":0,\"ticks\":\"\"}}}],\"scattercarpet\":[{\"type\":\"scattercarpet\",\"marker\":{\"colorbar\":{\"outlinewidth\":0,\"ticks\":\"\"}}}],\"carpet\":[{\"aaxis\":{\"endlinecolor\":\"#2a3f5f\",\"gridcolor\":\"white\",\"linecolor\":\"white\",\"minorgridcolor\":\"white\",\"startlinecolor\":\"#2a3f5f\"},\"baxis\":{\"endlinecolor\":\"#2a3f5f\",\"gridcolor\":\"white\",\"linecolor\":\"white\",\"minorgridcolor\":\"white\",\"startlinecolor\":\"#2a3f5f\"},\"type\":\"carpet\"}],\"table\":[{\"cells\":{\"fill\":{\"color\":\"#EBF0F8\"},\"line\":{\"color\":\"white\"}},\"header\":{\"fill\":{\"color\":\"#C8D4E3\"},\"line\":{\"color\":\"white\"}},\"type\":\"table\"}],\"barpolar\":[{\"marker\":{\"line\":{\"color\":\"#E5ECF6\",\"width\":0.5},\"pattern\":{\"fillmode\":\"overlay\",\"size\":10,\"solidity\":0.2}},\"type\":\"barpolar\"}],\"pie\":[{\"automargin\":true,\"type\":\"pie\"}]},\"layout\":{\"autotypenumbers\":\"strict\",\"colorway\":[\"#636efa\",\"#EF553B\",\"#00cc96\",\"#ab63fa\",\"#FFA15A\",\"#19d3f3\",\"#FF6692\",\"#B6E880\",\"#FF97FF\",\"#FECB52\"],\"font\":{\"color\":\"#2a3f5f\"},\"hovermode\":\"closest\",\"hoverlabel\":{\"align\":\"left\"},\"paper_bgcolor\":\"white\",\"plot_bgcolor\":\"#E5ECF6\",\"polar\":{\"bgcolor\":\"#E5ECF6\",\"angularaxis\":{\"gridcolor\":\"white\",\"linecolor\":\"white\",\"ticks\":\"\"},\"radialaxis\":{\"gridcolor\":\"white\",\"linecolor\":\"white\",\"ticks\":\"\"}},\"ternary\":{\"bgcolor\":\"#E5ECF6\",\"aaxis\":{\"gridcolor\":\"white\",\"linecolor\":\"white\",\"ticks\":\"\"},\"baxis\":{\"gridcolor\":\"white\",\"linecolor\":\"white\",\"ticks\":\"\"},\"caxis\":{\"gridcolor\":\"white\",\"linecolor\":\"white\",\"ticks\":\"\"}},\"coloraxis\":{\"colorbar\":{\"outlinewidth\":0,\"ticks\":\"\"}},\"colorscale\":{\"sequential\":[[0.0,\"#0d0887\"],[0.1111111111111111,\"#46039f\"],[0.2222222222222222,\"#7201a8\"],[0.3333333333333333,\"#9c179e\"],[0.4444444444444444,\"#bd3786\"],[0.5555555555555556,\"#d8576b\"],[0.6666666666666666,\"#ed7953\"],[0.7777777777777778,\"#fb9f3a\"],[0.8888888888888888,\"#fdca26\"],[1.0,\"#f0f921\"]],\"sequentialminus\":[[0.0,\"#0d0887\"],[0.1111111111111111,\"#46039f\"],[0.2222222222222222,\"#7201a8\"],[0.3333333333333333,\"#9c179e\"],[0.4444444444444444,\"#bd3786\"],[0.5555555555555556,\"#d8576b\"],[0.6666666666666666,\"#ed7953\"],[0.7777777777777778,\"#fb9f3a\"],[0.8888888888888888,\"#fdca26\"],[1.0,\"#f0f921\"]],\"diverging\":[[0,\"#8e0152\"],[0.1,\"#c51b7d\"],[0.2,\"#de77ae\"],[0.3,\"#f1b6da\"],[0.4,\"#fde0ef\"],[0.5,\"#f7f7f7\"],[0.6,\"#e6f5d0\"],[0.7,\"#b8e186\"],[0.8,\"#7fbc41\"],[0.9,\"#4d9221\"],[1,\"#276419\"]]},\"xaxis\":{\"gridcolor\":\"white\",\"linecolor\":\"white\",\"ticks\":\"\",\"title\":{\"standoff\":15},\"zerolinecolor\":\"white\",\"automargin\":true,\"zerolinewidth\":2},\"yaxis\":{\"gridcolor\":\"white\",\"linecolor\":\"white\",\"ticks\":\"\",\"title\":{\"standoff\":15},\"zerolinecolor\":\"white\",\"automargin\":true,\"zerolinewidth\":2},\"scene\":{\"xaxis\":{\"backgroundcolor\":\"#E5ECF6\",\"gridcolor\":\"white\",\"linecolor\":\"white\",\"showbackground\":true,\"ticks\":\"\",\"zerolinecolor\":\"white\",\"gridwidth\":2},\"yaxis\":{\"backgroundcolor\":\"#E5ECF6\",\"gridcolor\":\"white\",\"linecolor\":\"white\",\"showbackground\":true,\"ticks\":\"\",\"zerolinecolor\":\"white\",\"gridwidth\":2},\"zaxis\":{\"backgroundcolor\":\"#E5ECF6\",\"gridcolor\":\"white\",\"linecolor\":\"white\",\"showbackground\":true,\"ticks\":\"\",\"zerolinecolor\":\"white\",\"gridwidth\":2}},\"shapedefaults\":{\"line\":{\"color\":\"#2a3f5f\"}},\"annotationdefaults\":{\"arrowcolor\":\"#2a3f5f\",\"arrowhead\":0,\"arrowwidth\":1},\"geo\":{\"bgcolor\":\"white\",\"landcolor\":\"#E5ECF6\",\"subunitcolor\":\"white\",\"showland\":true,\"showlakes\":true,\"lakecolor\":\"white\"},\"title\":{\"x\":0.05},\"mapbox\":{\"style\":\"light\"}}},\"xaxis\":{\"anchor\":\"y\",\"domain\":[0.0,1.0],\"title\":{\"text\":\"class\"}},\"yaxis\":{\"anchor\":\"x\",\"domain\":[0.0,1.0],\"title\":{\"text\":\"count\"}},\"legend\":{\"tracegroupgap\":0},\"margin\":{\"t\":60},\"barmode\":\"relative\"},                        {\"responsive\": true}                    ).then(function(){\n",
              "                            \n",
              "var gd = document.getElementById('e26c5180-f518-4811-b513-f09994eaccc7');\n",
              "var x = new MutationObserver(function (mutations, observer) {{\n",
              "        var display = window.getComputedStyle(gd).display;\n",
              "        if (!display || display === 'none') {{\n",
              "            console.log([gd, 'removed!']);\n",
              "            Plotly.purge(gd);\n",
              "            observer.disconnect();\n",
              "        }}\n",
              "}});\n",
              "\n",
              "// Listen for the removal of the full notebook cells\n",
              "var notebookContainer = gd.closest('#notebook-container');\n",
              "if (notebookContainer) {{\n",
              "    x.observe(notebookContainer, {childList: true});\n",
              "}}\n",
              "\n",
              "// Listen for the clearing of the current output cell\n",
              "var outputEl = gd.closest('.output');\n",
              "if (outputEl) {{\n",
              "    x.observe(outputEl, {childList: true});\n",
              "}}\n",
              "\n",
              "                        })                };                });            </script>        </div>"
            ]
          },
          "metadata": {},
          "output_type": "display_data"
        }
      ],
      "source": [
        "import plotly.express as px\n",
        "fig = px.histogram(df, x='class')\n",
        "fig.show()"
      ]
    },
    {
      "cell_type": "code",
      "execution_count": 8,
      "metadata": {},
      "outputs": [],
      "source": [
        "flagged_df = df[df['class']=='flagged'].loc[:,'response_text'].values\n",
        "not_flagged_df = df[df['class']=='not_flagged'].loc[:,'response_text'].values"
      ]
    },
    {
      "cell_type": "markdown",
      "metadata": {},
      "source": [
        "- TFIDF\n",
        "Count of this word in documents / count of documents with this word"
      ]
    },
    {
      "cell_type": "code",
      "execution_count": 7,
      "metadata": {},
      "outputs": [],
      "source": [
        "from sklearn.feature_extraction.text import TfidfVectorizer\n",
        "\n"
      ]
    },
    {
      "cell_type": "code",
      "execution_count": null,
      "metadata": {},
      "outputs": [],
      "source": []
    },
    {
      "cell_type": "code",
      "execution_count": null,
      "metadata": {},
      "outputs": [],
      "source": [
        "def get_tfidf_words_and_array(df):\n",
        "\n",
        "    vectorizer = TfidfVectorizer(stop_words='english')\n",
        "    transformed_data = vectorizer.fit_transform(flagged_df).toarray()\n",
        "    words = vectorizer.get_feature_names_out()\n",
        "    \n",
        "    return transformed_data, words"
      ]
    },
    {
      "cell_type": "code",
      "execution_count": null,
      "metadata": {},
      "outputs": [],
      "source": [
        "def create_tfidf_df(transformed_data, words):\n",
        "    \"\"\"\n",
        "    gets an array of tfidf scores and words of the document\n",
        "    then places them in a dataset\n",
        "    \"\"\"\n",
        "\n",
        "    df = pd.DataFrame(data=transformed_data, columns=words).sum().sort_values().reset_index()\n",
        "\n",
        "    col_names = ['word', 'tfidf_score_sum']\n",
        "    default_col_names = df.columns\n",
        "\n",
        "    df.rename(columns={default_col_names[i]:col_names[i] for i in range(len(col_names))}, inplace=True)\n",
        "\n",
        "    return df"
      ]
    },
    {
      "cell_type": "code",
      "execution_count": null,
      "metadata": {},
      "outputs": [],
      "source": []
    },
    {
      "cell_type": "code",
      "execution_count": null,
      "metadata": {},
      "outputs": [],
      "source": []
    },
    {
      "cell_type": "code",
      "execution_count": null,
      "metadata": {},
      "outputs": [],
      "source": [
        "flagged_words_df = pd.DataFrame(data=transformed_data, columns=tfidf_words).sum().sort_values().reset_index()\n",
        "col_names = ['word', 'tfidf_score_sum']\n",
        "default_col_names = flagged_words_df.columns\n",
        "flagged_words_df.rename(columns={default_col_names[i]:col_names[i] for i in range(len(col_names))}, inplace=True)"
      ]
    },
    {
      "cell_type": "code",
      "execution_count": 10,
      "metadata": {},
      "outputs": [],
      "source": [
        "flagged_transformed_data = vectorizer.fit_transform(flagged_df).toarray()\n",
        "flagged_tfidf_words = vectorizer.get_feature_names_out()\n",
        "\n",
        "not_flagged_transformed_data = vectorizer.fit_transform(not_flagged_df).toarray()\n",
        "not_flagged_tfidf_words = vectorizer.get_feature_names_out()"
      ]
    },
    {
      "cell_type": "code",
      "execution_count": null,
      "metadata": {},
      "outputs": [],
      "source": []
    },
    {
      "cell_type": "code",
      "execution_count": null,
      "metadata": {},
      "outputs": [],
      "source": []
    },
    {
      "cell_type": "code",
      "execution_count": 20,
      "metadata": {},
      "outputs": [],
      "source": [
        "flagged_words_df = pd.DataFrame(data=transformed_data, columns=tfidf_words).sum().sort_values().reset_index()\n",
        "col_names = ['word', 'tfidf_score_sum']\n",
        "default_col_names = flagged_words_df.columns\n",
        "flagged_words_df.rename(columns={default_col_names[i]:col_names[i] for i in range(len(col_names))}, inplace=True)"
      ]
    },
    {
      "cell_type": "code",
      "execution_count": 21,
      "metadata": {},
      "outputs": [
        {
          "data": {
            "text/html": [
              "<div>\n",
              "<style scoped>\n",
              "    .dataframe tbody tr th:only-of-type {\n",
              "        vertical-align: middle;\n",
              "    }\n",
              "\n",
              "    .dataframe tbody tr th {\n",
              "        vertical-align: top;\n",
              "    }\n",
              "\n",
              "    .dataframe thead th {\n",
              "        text-align: right;\n",
              "    }\n",
              "</style>\n",
              "<table border=\"1\" class=\"dataframe\">\n",
              "  <thead>\n",
              "    <tr style=\"text-align: right;\">\n",
              "      <th></th>\n",
              "      <th>word</th>\n",
              "      <th>tfidf_score_sum</th>\n",
              "    </tr>\n",
              "  </thead>\n",
              "  <tbody>\n",
              "    <tr>\n",
              "      <th>0</th>\n",
              "      <td>1n</td>\n",
              "      <td>0.083991</td>\n",
              "    </tr>\n",
              "    <tr>\n",
              "      <th>1</th>\n",
              "      <td>hung</td>\n",
              "      <td>0.083991</td>\n",
              "    </tr>\n",
              "    <tr>\n",
              "      <th>2</th>\n",
              "      <td>cause</td>\n",
              "      <td>0.083991</td>\n",
              "    </tr>\n",
              "    <tr>\n",
              "      <th>3</th>\n",
              "      <td>flickers</td>\n",
              "      <td>0.083991</td>\n",
              "    </tr>\n",
              "    <tr>\n",
              "      <th>4</th>\n",
              "      <td>sustained</td>\n",
              "      <td>0.083991</td>\n",
              "    </tr>\n",
              "    <tr>\n",
              "      <th>...</th>\n",
              "      <td>...</td>\n",
              "      <td>...</td>\n",
              "    </tr>\n",
              "    <tr>\n",
              "      <th>295</th>\n",
              "      <td>best</td>\n",
              "      <td>1.023522</td>\n",
              "    </tr>\n",
              "    <tr>\n",
              "      <th>296</th>\n",
              "      <td>going</td>\n",
              "      <td>1.246730</td>\n",
              "    </tr>\n",
              "    <tr>\n",
              "      <th>297</th>\n",
              "      <td>friends</td>\n",
              "      <td>1.287589</td>\n",
              "    </tr>\n",
              "    <tr>\n",
              "      <th>298</th>\n",
              "      <td>depression</td>\n",
              "      <td>1.388962</td>\n",
              "    </tr>\n",
              "    <tr>\n",
              "      <th>299</th>\n",
              "      <td>friend</td>\n",
              "      <td>1.929634</td>\n",
              "    </tr>\n",
              "  </tbody>\n",
              "</table>\n",
              "<p>300 rows × 2 columns</p>\n",
              "</div>"
            ],
            "text/plain": [
              "           word  tfidf_score_sum\n",
              "0            1n         0.083991\n",
              "1          hung         0.083991\n",
              "2         cause         0.083991\n",
              "3      flickers         0.083991\n",
              "4     sustained         0.083991\n",
              "..          ...              ...\n",
              "295        best         1.023522\n",
              "296       going         1.246730\n",
              "297     friends         1.287589\n",
              "298  depression         1.388962\n",
              "299      friend         1.929634\n",
              "\n",
              "[300 rows x 2 columns]"
            ]
          },
          "execution_count": 21,
          "metadata": {},
          "output_type": "execute_result"
        }
      ],
      "source": [
        "flagged_words_df"
      ]
    },
    {
      "cell_type": "markdown",
      "metadata": {},
      "source": [
        "clean the data"
      ]
    },
    {
      "cell_type": "code",
      "execution_count": 14,
      "metadata": {},
      "outputs": [
        {
          "name": "stderr",
          "output_type": "stream",
          "text": [
            "[nltk_data] Downloading package stopwords to\n",
            "[nltk_data]     C:\\Users\\mitra\\AppData\\Roaming\\nltk_data...\n",
            "[nltk_data]   Package stopwords is already up-to-date!\n",
            "[nltk_data] Downloading package punkt to\n",
            "[nltk_data]     C:\\Users\\mitra\\AppData\\Roaming\\nltk_data...\n",
            "[nltk_data]   Package punkt is already up-to-date!\n"
          ]
        }
      ],
      "source": [
        "import nltk\n",
        "nltk.download('stopwords')\n",
        "nltk.download('punkt')\n",
        "from nltk.corpus import stopwords\n",
        "from nltk.tokenize import word_tokenize\n",
        "\n",
        "stop_words = set(stopwords.words('english'))"
      ]
    },
    {
      "cell_type": "code",
      "execution_count": 30,
      "metadata": {},
      "outputs": [],
      "source": [
        "splitted_words = [df.loc[i, 'response_text'].split(\" \") for i in range(len(df))]\n",
        "tokenized_words = [word_tokenize(df.loc[i, 'response_text']) for i in range(len(df))]"
      ]
    },
    {
      "cell_type": "code",
      "execution_count": 41,
      "metadata": {},
      "outputs": [],
      "source": [
        "filtered_splitted_sents = [[w for w in splitted_words_i if not w.lower() in stop_words] for splitted_words_i in splitted_words]\n",
        "filtered_tokenized_sents = [[w for w in tokenized_words_i if not w.lower() in stop_words] for tokenized_words_i in tokenized_words]"
      ]
    },
    {
      "cell_type": "code",
      "execution_count": 47,
      "metadata": {},
      "outputs": [
        {
          "data": {
            "text/plain": [
              "['this', 'is', 'shit', '.', 'I', \"'m\", 'done']"
            ]
          },
          "execution_count": 47,
          "metadata": {},
          "output_type": "execute_result"
        }
      ],
      "source": [
        "word_tokenize(\"this is shit. I'm done\")"
      ]
    },
    {
      "cell_type": "code",
      "execution_count": 43,
      "metadata": {},
      "outputs": [],
      "source": [
        "not_equal_idx = [i for i in range(len(df)) if filtered_tokenized_sents[i] != filtered_splitted_sents[i]]"
      ]
    },
    {
      "cell_type": "code",
      "execution_count": 13,
      "metadata": {},
      "outputs": [],
      "source": [
        "punc = string.punctuation\n",
        "\n",
        "def remove_punc(text):\n",
        "    return text.translate(str.maketrans('', '', punc))"
      ]
    },
    {
      "cell_type": "code",
      "execution_count": null,
      "metadata": {},
      "outputs": [],
      "source": []
    },
    {
      "cell_type": "code",
      "execution_count": 12,
      "metadata": {},
      "outputs": [],
      "source": [
        "import regex as re\n",
        "\n",
        "def remove_stopwords(list_of_words):\n",
        "    filtered_list = [w for w in list_of_words if not w.lower() in stop_words]\n",
        "    return filtered_list\n",
        "\n",
        "def check_punct(list_of_words):\n",
        "    \"\"\"\n",
        "    look at the tokenized text. if there was any punctuation, it is redundant.\n",
        "    \"\"\"\n",
        "    filtered_list = []\n",
        "    for word in list_of_words:\n",
        "        if re.findall(\"[()!><.,`?']\", word):\n",
        "            pass\n",
        "        else: filtered_list.append(word)\n",
        "        \n",
        "    return filtered_list\n"
      ]
    },
    {
      "cell_type": "code",
      "execution_count": 73,
      "metadata": {},
      "outputs": [],
      "source": [
        "\"\"\"\n",
        "tokenized_sents = [word_tokenize(df.loc[i, 'response_text']) for i in range(len(df))]\n",
        "\n",
        "filtered_tokenized_sents = [remove_stopwords(tokenized_list) for tokenized_list in tokenized_sents]\n",
        "filtered_tokenized_sents = [check_punct(tokenized_list) for tokenized_list in filtered_tokenized_sents]\n",
        "\"\"\""
      ]
    },
    {
      "cell_type": "code",
      "execution_count": 11,
      "metadata": {},
      "outputs": [],
      "source": [
        "def clean_and_tokenize(text):\n",
        "\n",
        "    word_list = word_tokenize(text)\n",
        "    word_list = remove_stopwords(word_list)\n",
        "    word_list = check_punct(word_list)\n",
        "    \n",
        "    return word_list"
      ]
    },
    {
      "cell_type": "code",
      "execution_count": 81,
      "metadata": {},
      "outputs": [],
      "source": [
        "df.loc[:, 'cleaned_word_list'] = df.loc[:, 'response_text'].apply(lambda t: clean_and_tokenize(t))"
      ]
    },
    {
      "cell_type": "markdown",
      "metadata": {},
      "source": [
        "Flagged\n"
      ]
    },
    {
      "cell_type": "code",
      "execution_count": 86,
      "metadata": {},
      "outputs": [
        {
          "data": {
            "text/html": [
              "<div>\n",
              "<style scoped>\n",
              "    .dataframe tbody tr th:only-of-type {\n",
              "        vertical-align: middle;\n",
              "    }\n",
              "\n",
              "    .dataframe tbody tr th {\n",
              "        vertical-align: top;\n",
              "    }\n",
              "\n",
              "    .dataframe thead th {\n",
              "        text-align: right;\n",
              "    }\n",
              "</style>\n",
              "<table border=\"1\" class=\"dataframe\">\n",
              "  <thead>\n",
              "    <tr style=\"text-align: right;\">\n",
              "      <th></th>\n",
              "      <th>response_id</th>\n",
              "      <th>class</th>\n",
              "      <th>response_text</th>\n",
              "      <th>cleaned_word_list</th>\n",
              "    </tr>\n",
              "  </thead>\n",
              "  <tbody>\n",
              "    <tr>\n",
              "      <th>0</th>\n",
              "      <td>response_1</td>\n",
              "      <td>not_flagged</td>\n",
              "      <td>I try and avoid this sort of conflict</td>\n",
              "      <td>[try, avoid, sort, conflict]</td>\n",
              "    </tr>\n",
              "  </tbody>\n",
              "</table>\n",
              "</div>"
            ],
            "text/plain": [
              "  response_id        class                          response_text  \\\n",
              "0  response_1  not_flagged  I try and avoid this sort of conflict   \n",
              "\n",
              "              cleaned_word_list  \n",
              "0  [try, avoid, sort, conflict]  "
            ]
          },
          "execution_count": 86,
          "metadata": {},
          "output_type": "execute_result"
        }
      ],
      "source": [
        "df.head(1)"
      ]
    },
    {
      "cell_type": "code",
      "execution_count": null,
      "metadata": {},
      "outputs": [],
      "source": []
    },
    {
      "cell_type": "code",
      "execution_count": 97,
      "metadata": {},
      "outputs": [
        {
          "data": {
            "application/vnd.plotly.v1+json": {
              "config": {
                "plotlyServerURL": "https://plot.ly"
              },
              "data": [
                {
                  "alignmentgroup": "True",
                  "hovertemplate": "words=%{x}<br>frequency=%{y}<br>color=%{marker.color}<extra></extra>",
                  "legendgroup": "",
                  "marker": {
                    "color": [
                      13,
                      10,
                      9,
                      7,
                      6,
                      6,
                      6,
                      6,
                      6,
                      5,
                      5,
                      5,
                      5,
                      5,
                      4,
                      4,
                      4,
                      4,
                      4,
                      4,
                      4,
                      3,
                      3,
                      3,
                      3,
                      3,
                      3,
                      3,
                      3,
                      3
                    ],
                    "coloraxis": "coloraxis",
                    "pattern": {
                      "shape": ""
                    }
                  },
                  "name": "",
                  "offsetgroup": "",
                  "orientation": "v",
                  "showlegend": false,
                  "textposition": "auto",
                  "type": "bar",
                  "x": [
                    "friend",
                    "people",
                    "friends",
                    "would",
                    "going",
                    "get",
                    "helped",
                    "depression",
                    "help",
                    "addiction",
                    "talk",
                    "anxiety",
                    "best",
                    "school",
                    "life",
                    "talked",
                    "issues",
                    "go",
                    "back",
                    "one",
                    "try",
                    "suicide",
                    "way",
                    "could",
                    "severe",
                    "personal",
                    "got",
                    "year",
                    "tried",
                    "everything"
                  ],
                  "xaxis": "x",
                  "y": [
                    13,
                    10,
                    9,
                    7,
                    6,
                    6,
                    6,
                    6,
                    6,
                    5,
                    5,
                    5,
                    5,
                    5,
                    4,
                    4,
                    4,
                    4,
                    4,
                    4,
                    4,
                    3,
                    3,
                    3,
                    3,
                    3,
                    3,
                    3,
                    3,
                    3
                  ],
                  "yaxis": "y"
                }
              ],
              "layout": {
                "barmode": "relative",
                "coloraxis": {
                  "colorbar": {
                    "title": {
                      "text": "color"
                    }
                  },
                  "colorscale": [
                    [
                      0,
                      "#0d0887"
                    ],
                    [
                      0.1111111111111111,
                      "#46039f"
                    ],
                    [
                      0.2222222222222222,
                      "#7201a8"
                    ],
                    [
                      0.3333333333333333,
                      "#9c179e"
                    ],
                    [
                      0.4444444444444444,
                      "#bd3786"
                    ],
                    [
                      0.5555555555555556,
                      "#d8576b"
                    ],
                    [
                      0.6666666666666666,
                      "#ed7953"
                    ],
                    [
                      0.7777777777777778,
                      "#fb9f3a"
                    ],
                    [
                      0.8888888888888888,
                      "#fdca26"
                    ],
                    [
                      1,
                      "#f0f921"
                    ]
                  ]
                },
                "legend": {
                  "tracegroupgap": 0
                },
                "template": {
                  "data": {
                    "bar": [
                      {
                        "error_x": {
                          "color": "#2a3f5f"
                        },
                        "error_y": {
                          "color": "#2a3f5f"
                        },
                        "marker": {
                          "line": {
                            "color": "#E5ECF6",
                            "width": 0.5
                          },
                          "pattern": {
                            "fillmode": "overlay",
                            "size": 10,
                            "solidity": 0.2
                          }
                        },
                        "type": "bar"
                      }
                    ],
                    "barpolar": [
                      {
                        "marker": {
                          "line": {
                            "color": "#E5ECF6",
                            "width": 0.5
                          },
                          "pattern": {
                            "fillmode": "overlay",
                            "size": 10,
                            "solidity": 0.2
                          }
                        },
                        "type": "barpolar"
                      }
                    ],
                    "carpet": [
                      {
                        "aaxis": {
                          "endlinecolor": "#2a3f5f",
                          "gridcolor": "white",
                          "linecolor": "white",
                          "minorgridcolor": "white",
                          "startlinecolor": "#2a3f5f"
                        },
                        "baxis": {
                          "endlinecolor": "#2a3f5f",
                          "gridcolor": "white",
                          "linecolor": "white",
                          "minorgridcolor": "white",
                          "startlinecolor": "#2a3f5f"
                        },
                        "type": "carpet"
                      }
                    ],
                    "choropleth": [
                      {
                        "colorbar": {
                          "outlinewidth": 0,
                          "ticks": ""
                        },
                        "type": "choropleth"
                      }
                    ],
                    "contour": [
                      {
                        "colorbar": {
                          "outlinewidth": 0,
                          "ticks": ""
                        },
                        "colorscale": [
                          [
                            0,
                            "#0d0887"
                          ],
                          [
                            0.1111111111111111,
                            "#46039f"
                          ],
                          [
                            0.2222222222222222,
                            "#7201a8"
                          ],
                          [
                            0.3333333333333333,
                            "#9c179e"
                          ],
                          [
                            0.4444444444444444,
                            "#bd3786"
                          ],
                          [
                            0.5555555555555556,
                            "#d8576b"
                          ],
                          [
                            0.6666666666666666,
                            "#ed7953"
                          ],
                          [
                            0.7777777777777778,
                            "#fb9f3a"
                          ],
                          [
                            0.8888888888888888,
                            "#fdca26"
                          ],
                          [
                            1,
                            "#f0f921"
                          ]
                        ],
                        "type": "contour"
                      }
                    ],
                    "contourcarpet": [
                      {
                        "colorbar": {
                          "outlinewidth": 0,
                          "ticks": ""
                        },
                        "type": "contourcarpet"
                      }
                    ],
                    "heatmap": [
                      {
                        "colorbar": {
                          "outlinewidth": 0,
                          "ticks": ""
                        },
                        "colorscale": [
                          [
                            0,
                            "#0d0887"
                          ],
                          [
                            0.1111111111111111,
                            "#46039f"
                          ],
                          [
                            0.2222222222222222,
                            "#7201a8"
                          ],
                          [
                            0.3333333333333333,
                            "#9c179e"
                          ],
                          [
                            0.4444444444444444,
                            "#bd3786"
                          ],
                          [
                            0.5555555555555556,
                            "#d8576b"
                          ],
                          [
                            0.6666666666666666,
                            "#ed7953"
                          ],
                          [
                            0.7777777777777778,
                            "#fb9f3a"
                          ],
                          [
                            0.8888888888888888,
                            "#fdca26"
                          ],
                          [
                            1,
                            "#f0f921"
                          ]
                        ],
                        "type": "heatmap"
                      }
                    ],
                    "heatmapgl": [
                      {
                        "colorbar": {
                          "outlinewidth": 0,
                          "ticks": ""
                        },
                        "colorscale": [
                          [
                            0,
                            "#0d0887"
                          ],
                          [
                            0.1111111111111111,
                            "#46039f"
                          ],
                          [
                            0.2222222222222222,
                            "#7201a8"
                          ],
                          [
                            0.3333333333333333,
                            "#9c179e"
                          ],
                          [
                            0.4444444444444444,
                            "#bd3786"
                          ],
                          [
                            0.5555555555555556,
                            "#d8576b"
                          ],
                          [
                            0.6666666666666666,
                            "#ed7953"
                          ],
                          [
                            0.7777777777777778,
                            "#fb9f3a"
                          ],
                          [
                            0.8888888888888888,
                            "#fdca26"
                          ],
                          [
                            1,
                            "#f0f921"
                          ]
                        ],
                        "type": "heatmapgl"
                      }
                    ],
                    "histogram": [
                      {
                        "marker": {
                          "pattern": {
                            "fillmode": "overlay",
                            "size": 10,
                            "solidity": 0.2
                          }
                        },
                        "type": "histogram"
                      }
                    ],
                    "histogram2d": [
                      {
                        "colorbar": {
                          "outlinewidth": 0,
                          "ticks": ""
                        },
                        "colorscale": [
                          [
                            0,
                            "#0d0887"
                          ],
                          [
                            0.1111111111111111,
                            "#46039f"
                          ],
                          [
                            0.2222222222222222,
                            "#7201a8"
                          ],
                          [
                            0.3333333333333333,
                            "#9c179e"
                          ],
                          [
                            0.4444444444444444,
                            "#bd3786"
                          ],
                          [
                            0.5555555555555556,
                            "#d8576b"
                          ],
                          [
                            0.6666666666666666,
                            "#ed7953"
                          ],
                          [
                            0.7777777777777778,
                            "#fb9f3a"
                          ],
                          [
                            0.8888888888888888,
                            "#fdca26"
                          ],
                          [
                            1,
                            "#f0f921"
                          ]
                        ],
                        "type": "histogram2d"
                      }
                    ],
                    "histogram2dcontour": [
                      {
                        "colorbar": {
                          "outlinewidth": 0,
                          "ticks": ""
                        },
                        "colorscale": [
                          [
                            0,
                            "#0d0887"
                          ],
                          [
                            0.1111111111111111,
                            "#46039f"
                          ],
                          [
                            0.2222222222222222,
                            "#7201a8"
                          ],
                          [
                            0.3333333333333333,
                            "#9c179e"
                          ],
                          [
                            0.4444444444444444,
                            "#bd3786"
                          ],
                          [
                            0.5555555555555556,
                            "#d8576b"
                          ],
                          [
                            0.6666666666666666,
                            "#ed7953"
                          ],
                          [
                            0.7777777777777778,
                            "#fb9f3a"
                          ],
                          [
                            0.8888888888888888,
                            "#fdca26"
                          ],
                          [
                            1,
                            "#f0f921"
                          ]
                        ],
                        "type": "histogram2dcontour"
                      }
                    ],
                    "mesh3d": [
                      {
                        "colorbar": {
                          "outlinewidth": 0,
                          "ticks": ""
                        },
                        "type": "mesh3d"
                      }
                    ],
                    "parcoords": [
                      {
                        "line": {
                          "colorbar": {
                            "outlinewidth": 0,
                            "ticks": ""
                          }
                        },
                        "type": "parcoords"
                      }
                    ],
                    "pie": [
                      {
                        "automargin": true,
                        "type": "pie"
                      }
                    ],
                    "scatter": [
                      {
                        "fillpattern": {
                          "fillmode": "overlay",
                          "size": 10,
                          "solidity": 0.2
                        },
                        "type": "scatter"
                      }
                    ],
                    "scatter3d": [
                      {
                        "line": {
                          "colorbar": {
                            "outlinewidth": 0,
                            "ticks": ""
                          }
                        },
                        "marker": {
                          "colorbar": {
                            "outlinewidth": 0,
                            "ticks": ""
                          }
                        },
                        "type": "scatter3d"
                      }
                    ],
                    "scattercarpet": [
                      {
                        "marker": {
                          "colorbar": {
                            "outlinewidth": 0,
                            "ticks": ""
                          }
                        },
                        "type": "scattercarpet"
                      }
                    ],
                    "scattergeo": [
                      {
                        "marker": {
                          "colorbar": {
                            "outlinewidth": 0,
                            "ticks": ""
                          }
                        },
                        "type": "scattergeo"
                      }
                    ],
                    "scattergl": [
                      {
                        "marker": {
                          "colorbar": {
                            "outlinewidth": 0,
                            "ticks": ""
                          }
                        },
                        "type": "scattergl"
                      }
                    ],
                    "scattermapbox": [
                      {
                        "marker": {
                          "colorbar": {
                            "outlinewidth": 0,
                            "ticks": ""
                          }
                        },
                        "type": "scattermapbox"
                      }
                    ],
                    "scatterpolar": [
                      {
                        "marker": {
                          "colorbar": {
                            "outlinewidth": 0,
                            "ticks": ""
                          }
                        },
                        "type": "scatterpolar"
                      }
                    ],
                    "scatterpolargl": [
                      {
                        "marker": {
                          "colorbar": {
                            "outlinewidth": 0,
                            "ticks": ""
                          }
                        },
                        "type": "scatterpolargl"
                      }
                    ],
                    "scatterternary": [
                      {
                        "marker": {
                          "colorbar": {
                            "outlinewidth": 0,
                            "ticks": ""
                          }
                        },
                        "type": "scatterternary"
                      }
                    ],
                    "surface": [
                      {
                        "colorbar": {
                          "outlinewidth": 0,
                          "ticks": ""
                        },
                        "colorscale": [
                          [
                            0,
                            "#0d0887"
                          ],
                          [
                            0.1111111111111111,
                            "#46039f"
                          ],
                          [
                            0.2222222222222222,
                            "#7201a8"
                          ],
                          [
                            0.3333333333333333,
                            "#9c179e"
                          ],
                          [
                            0.4444444444444444,
                            "#bd3786"
                          ],
                          [
                            0.5555555555555556,
                            "#d8576b"
                          ],
                          [
                            0.6666666666666666,
                            "#ed7953"
                          ],
                          [
                            0.7777777777777778,
                            "#fb9f3a"
                          ],
                          [
                            0.8888888888888888,
                            "#fdca26"
                          ],
                          [
                            1,
                            "#f0f921"
                          ]
                        ],
                        "type": "surface"
                      }
                    ],
                    "table": [
                      {
                        "cells": {
                          "fill": {
                            "color": "#EBF0F8"
                          },
                          "line": {
                            "color": "white"
                          }
                        },
                        "header": {
                          "fill": {
                            "color": "#C8D4E3"
                          },
                          "line": {
                            "color": "white"
                          }
                        },
                        "type": "table"
                      }
                    ]
                  },
                  "layout": {
                    "annotationdefaults": {
                      "arrowcolor": "#2a3f5f",
                      "arrowhead": 0,
                      "arrowwidth": 1
                    },
                    "autotypenumbers": "strict",
                    "coloraxis": {
                      "colorbar": {
                        "outlinewidth": 0,
                        "ticks": ""
                      }
                    },
                    "colorscale": {
                      "diverging": [
                        [
                          0,
                          "#8e0152"
                        ],
                        [
                          0.1,
                          "#c51b7d"
                        ],
                        [
                          0.2,
                          "#de77ae"
                        ],
                        [
                          0.3,
                          "#f1b6da"
                        ],
                        [
                          0.4,
                          "#fde0ef"
                        ],
                        [
                          0.5,
                          "#f7f7f7"
                        ],
                        [
                          0.6,
                          "#e6f5d0"
                        ],
                        [
                          0.7,
                          "#b8e186"
                        ],
                        [
                          0.8,
                          "#7fbc41"
                        ],
                        [
                          0.9,
                          "#4d9221"
                        ],
                        [
                          1,
                          "#276419"
                        ]
                      ],
                      "sequential": [
                        [
                          0,
                          "#0d0887"
                        ],
                        [
                          0.1111111111111111,
                          "#46039f"
                        ],
                        [
                          0.2222222222222222,
                          "#7201a8"
                        ],
                        [
                          0.3333333333333333,
                          "#9c179e"
                        ],
                        [
                          0.4444444444444444,
                          "#bd3786"
                        ],
                        [
                          0.5555555555555556,
                          "#d8576b"
                        ],
                        [
                          0.6666666666666666,
                          "#ed7953"
                        ],
                        [
                          0.7777777777777778,
                          "#fb9f3a"
                        ],
                        [
                          0.8888888888888888,
                          "#fdca26"
                        ],
                        [
                          1,
                          "#f0f921"
                        ]
                      ],
                      "sequentialminus": [
                        [
                          0,
                          "#0d0887"
                        ],
                        [
                          0.1111111111111111,
                          "#46039f"
                        ],
                        [
                          0.2222222222222222,
                          "#7201a8"
                        ],
                        [
                          0.3333333333333333,
                          "#9c179e"
                        ],
                        [
                          0.4444444444444444,
                          "#bd3786"
                        ],
                        [
                          0.5555555555555556,
                          "#d8576b"
                        ],
                        [
                          0.6666666666666666,
                          "#ed7953"
                        ],
                        [
                          0.7777777777777778,
                          "#fb9f3a"
                        ],
                        [
                          0.8888888888888888,
                          "#fdca26"
                        ],
                        [
                          1,
                          "#f0f921"
                        ]
                      ]
                    },
                    "colorway": [
                      "#636efa",
                      "#EF553B",
                      "#00cc96",
                      "#ab63fa",
                      "#FFA15A",
                      "#19d3f3",
                      "#FF6692",
                      "#B6E880",
                      "#FF97FF",
                      "#FECB52"
                    ],
                    "font": {
                      "color": "#2a3f5f"
                    },
                    "geo": {
                      "bgcolor": "white",
                      "lakecolor": "white",
                      "landcolor": "#E5ECF6",
                      "showlakes": true,
                      "showland": true,
                      "subunitcolor": "white"
                    },
                    "hoverlabel": {
                      "align": "left"
                    },
                    "hovermode": "closest",
                    "mapbox": {
                      "style": "light"
                    },
                    "paper_bgcolor": "white",
                    "plot_bgcolor": "#E5ECF6",
                    "polar": {
                      "angularaxis": {
                        "gridcolor": "white",
                        "linecolor": "white",
                        "ticks": ""
                      },
                      "bgcolor": "#E5ECF6",
                      "radialaxis": {
                        "gridcolor": "white",
                        "linecolor": "white",
                        "ticks": ""
                      }
                    },
                    "scene": {
                      "xaxis": {
                        "backgroundcolor": "#E5ECF6",
                        "gridcolor": "white",
                        "gridwidth": 2,
                        "linecolor": "white",
                        "showbackground": true,
                        "ticks": "",
                        "zerolinecolor": "white"
                      },
                      "yaxis": {
                        "backgroundcolor": "#E5ECF6",
                        "gridcolor": "white",
                        "gridwidth": 2,
                        "linecolor": "white",
                        "showbackground": true,
                        "ticks": "",
                        "zerolinecolor": "white"
                      },
                      "zaxis": {
                        "backgroundcolor": "#E5ECF6",
                        "gridcolor": "white",
                        "gridwidth": 2,
                        "linecolor": "white",
                        "showbackground": true,
                        "ticks": "",
                        "zerolinecolor": "white"
                      }
                    },
                    "shapedefaults": {
                      "line": {
                        "color": "#2a3f5f"
                      }
                    },
                    "ternary": {
                      "aaxis": {
                        "gridcolor": "white",
                        "linecolor": "white",
                        "ticks": ""
                      },
                      "baxis": {
                        "gridcolor": "white",
                        "linecolor": "white",
                        "ticks": ""
                      },
                      "bgcolor": "#E5ECF6",
                      "caxis": {
                        "gridcolor": "white",
                        "linecolor": "white",
                        "ticks": ""
                      }
                    },
                    "title": {
                      "x": 0.05
                    },
                    "xaxis": {
                      "automargin": true,
                      "gridcolor": "white",
                      "linecolor": "white",
                      "ticks": "",
                      "title": {
                        "standoff": 15
                      },
                      "zerolinecolor": "white",
                      "zerolinewidth": 2
                    },
                    "yaxis": {
                      "automargin": true,
                      "gridcolor": "white",
                      "linecolor": "white",
                      "ticks": "",
                      "title": {
                        "standoff": 15
                      },
                      "zerolinecolor": "white",
                      "zerolinewidth": 2
                    }
                  }
                },
                "title": {
                  "text": "Frequency of words seen in <b> Flagged </b>records"
                },
                "xaxis": {
                  "anchor": "y",
                  "domain": [
                    0,
                    1
                  ],
                  "tickangle": -45,
                  "title": {
                    "text": "words"
                  }
                },
                "yaxis": {
                  "anchor": "x",
                  "domain": [
                    0,
                    1
                  ],
                  "title": {
                    "text": "frequency"
                  }
                }
              }
            },
            "text/html": [
              "<div>                            <div id=\"ecaa84f9-50bc-4bc6-951a-72472edae4d7\" class=\"plotly-graph-div\" style=\"height:525px; width:100%;\"></div>            <script type=\"text/javascript\">                require([\"plotly\"], function(Plotly) {                    window.PLOTLYENV=window.PLOTLYENV || {};                                    if (document.getElementById(\"ecaa84f9-50bc-4bc6-951a-72472edae4d7\")) {                    Plotly.newPlot(                        \"ecaa84f9-50bc-4bc6-951a-72472edae4d7\",                        [{\"alignmentgroup\":\"True\",\"hovertemplate\":\"words=%{x}<br>frequency=%{y}<br>color=%{marker.color}<extra></extra>\",\"legendgroup\":\"\",\"marker\":{\"color\":[13,10,9,7,6,6,6,6,6,5,5,5,5,5,4,4,4,4,4,4,4,3,3,3,3,3,3,3,3,3],\"coloraxis\":\"coloraxis\",\"pattern\":{\"shape\":\"\"}},\"name\":\"\",\"offsetgroup\":\"\",\"orientation\":\"v\",\"showlegend\":false,\"textposition\":\"auto\",\"x\":[\"friend\",\"people\",\"friends\",\"would\",\"going\",\"get\",\"helped\",\"depression\",\"help\",\"addiction\",\"talk\",\"anxiety\",\"best\",\"school\",\"life\",\"talked\",\"issues\",\"go\",\"back\",\"one\",\"try\",\"suicide\",\"way\",\"could\",\"severe\",\"personal\",\"got\",\"year\",\"tried\",\"everything\"],\"xaxis\":\"x\",\"y\":[13,10,9,7,6,6,6,6,6,5,5,5,5,5,4,4,4,4,4,4,4,3,3,3,3,3,3,3,3,3],\"yaxis\":\"y\",\"type\":\"bar\"}],                        {\"template\":{\"data\":{\"histogram2dcontour\":[{\"type\":\"histogram2dcontour\",\"colorbar\":{\"outlinewidth\":0,\"ticks\":\"\"},\"colorscale\":[[0.0,\"#0d0887\"],[0.1111111111111111,\"#46039f\"],[0.2222222222222222,\"#7201a8\"],[0.3333333333333333,\"#9c179e\"],[0.4444444444444444,\"#bd3786\"],[0.5555555555555556,\"#d8576b\"],[0.6666666666666666,\"#ed7953\"],[0.7777777777777778,\"#fb9f3a\"],[0.8888888888888888,\"#fdca26\"],[1.0,\"#f0f921\"]]}],\"choropleth\":[{\"type\":\"choropleth\",\"colorbar\":{\"outlinewidth\":0,\"ticks\":\"\"}}],\"histogram2d\":[{\"type\":\"histogram2d\",\"colorbar\":{\"outlinewidth\":0,\"ticks\":\"\"},\"colorscale\":[[0.0,\"#0d0887\"],[0.1111111111111111,\"#46039f\"],[0.2222222222222222,\"#7201a8\"],[0.3333333333333333,\"#9c179e\"],[0.4444444444444444,\"#bd3786\"],[0.5555555555555556,\"#d8576b\"],[0.6666666666666666,\"#ed7953\"],[0.7777777777777778,\"#fb9f3a\"],[0.8888888888888888,\"#fdca26\"],[1.0,\"#f0f921\"]]}],\"heatmap\":[{\"type\":\"heatmap\",\"colorbar\":{\"outlinewidth\":0,\"ticks\":\"\"},\"colorscale\":[[0.0,\"#0d0887\"],[0.1111111111111111,\"#46039f\"],[0.2222222222222222,\"#7201a8\"],[0.3333333333333333,\"#9c179e\"],[0.4444444444444444,\"#bd3786\"],[0.5555555555555556,\"#d8576b\"],[0.6666666666666666,\"#ed7953\"],[0.7777777777777778,\"#fb9f3a\"],[0.8888888888888888,\"#fdca26\"],[1.0,\"#f0f921\"]]}],\"heatmapgl\":[{\"type\":\"heatmapgl\",\"colorbar\":{\"outlinewidth\":0,\"ticks\":\"\"},\"colorscale\":[[0.0,\"#0d0887\"],[0.1111111111111111,\"#46039f\"],[0.2222222222222222,\"#7201a8\"],[0.3333333333333333,\"#9c179e\"],[0.4444444444444444,\"#bd3786\"],[0.5555555555555556,\"#d8576b\"],[0.6666666666666666,\"#ed7953\"],[0.7777777777777778,\"#fb9f3a\"],[0.8888888888888888,\"#fdca26\"],[1.0,\"#f0f921\"]]}],\"contourcarpet\":[{\"type\":\"contourcarpet\",\"colorbar\":{\"outlinewidth\":0,\"ticks\":\"\"}}],\"contour\":[{\"type\":\"contour\",\"colorbar\":{\"outlinewidth\":0,\"ticks\":\"\"},\"colorscale\":[[0.0,\"#0d0887\"],[0.1111111111111111,\"#46039f\"],[0.2222222222222222,\"#7201a8\"],[0.3333333333333333,\"#9c179e\"],[0.4444444444444444,\"#bd3786\"],[0.5555555555555556,\"#d8576b\"],[0.6666666666666666,\"#ed7953\"],[0.7777777777777778,\"#fb9f3a\"],[0.8888888888888888,\"#fdca26\"],[1.0,\"#f0f921\"]]}],\"surface\":[{\"type\":\"surface\",\"colorbar\":{\"outlinewidth\":0,\"ticks\":\"\"},\"colorscale\":[[0.0,\"#0d0887\"],[0.1111111111111111,\"#46039f\"],[0.2222222222222222,\"#7201a8\"],[0.3333333333333333,\"#9c179e\"],[0.4444444444444444,\"#bd3786\"],[0.5555555555555556,\"#d8576b\"],[0.6666666666666666,\"#ed7953\"],[0.7777777777777778,\"#fb9f3a\"],[0.8888888888888888,\"#fdca26\"],[1.0,\"#f0f921\"]]}],\"mesh3d\":[{\"type\":\"mesh3d\",\"colorbar\":{\"outlinewidth\":0,\"ticks\":\"\"}}],\"scatter\":[{\"fillpattern\":{\"fillmode\":\"overlay\",\"size\":10,\"solidity\":0.2},\"type\":\"scatter\"}],\"parcoords\":[{\"type\":\"parcoords\",\"line\":{\"colorbar\":{\"outlinewidth\":0,\"ticks\":\"\"}}}],\"scatterpolargl\":[{\"type\":\"scatterpolargl\",\"marker\":{\"colorbar\":{\"outlinewidth\":0,\"ticks\":\"\"}}}],\"bar\":[{\"error_x\":{\"color\":\"#2a3f5f\"},\"error_y\":{\"color\":\"#2a3f5f\"},\"marker\":{\"line\":{\"color\":\"#E5ECF6\",\"width\":0.5},\"pattern\":{\"fillmode\":\"overlay\",\"size\":10,\"solidity\":0.2}},\"type\":\"bar\"}],\"scattergeo\":[{\"type\":\"scattergeo\",\"marker\":{\"colorbar\":{\"outlinewidth\":0,\"ticks\":\"\"}}}],\"scatterpolar\":[{\"type\":\"scatterpolar\",\"marker\":{\"colorbar\":{\"outlinewidth\":0,\"ticks\":\"\"}}}],\"histogram\":[{\"marker\":{\"pattern\":{\"fillmode\":\"overlay\",\"size\":10,\"solidity\":0.2}},\"type\":\"histogram\"}],\"scattergl\":[{\"type\":\"scattergl\",\"marker\":{\"colorbar\":{\"outlinewidth\":0,\"ticks\":\"\"}}}],\"scatter3d\":[{\"type\":\"scatter3d\",\"line\":{\"colorbar\":{\"outlinewidth\":0,\"ticks\":\"\"}},\"marker\":{\"colorbar\":{\"outlinewidth\":0,\"ticks\":\"\"}}}],\"scattermapbox\":[{\"type\":\"scattermapbox\",\"marker\":{\"colorbar\":{\"outlinewidth\":0,\"ticks\":\"\"}}}],\"scatterternary\":[{\"type\":\"scatterternary\",\"marker\":{\"colorbar\":{\"outlinewidth\":0,\"ticks\":\"\"}}}],\"scattercarpet\":[{\"type\":\"scattercarpet\",\"marker\":{\"colorbar\":{\"outlinewidth\":0,\"ticks\":\"\"}}}],\"carpet\":[{\"aaxis\":{\"endlinecolor\":\"#2a3f5f\",\"gridcolor\":\"white\",\"linecolor\":\"white\",\"minorgridcolor\":\"white\",\"startlinecolor\":\"#2a3f5f\"},\"baxis\":{\"endlinecolor\":\"#2a3f5f\",\"gridcolor\":\"white\",\"linecolor\":\"white\",\"minorgridcolor\":\"white\",\"startlinecolor\":\"#2a3f5f\"},\"type\":\"carpet\"}],\"table\":[{\"cells\":{\"fill\":{\"color\":\"#EBF0F8\"},\"line\":{\"color\":\"white\"}},\"header\":{\"fill\":{\"color\":\"#C8D4E3\"},\"line\":{\"color\":\"white\"}},\"type\":\"table\"}],\"barpolar\":[{\"marker\":{\"line\":{\"color\":\"#E5ECF6\",\"width\":0.5},\"pattern\":{\"fillmode\":\"overlay\",\"size\":10,\"solidity\":0.2}},\"type\":\"barpolar\"}],\"pie\":[{\"automargin\":true,\"type\":\"pie\"}]},\"layout\":{\"autotypenumbers\":\"strict\",\"colorway\":[\"#636efa\",\"#EF553B\",\"#00cc96\",\"#ab63fa\",\"#FFA15A\",\"#19d3f3\",\"#FF6692\",\"#B6E880\",\"#FF97FF\",\"#FECB52\"],\"font\":{\"color\":\"#2a3f5f\"},\"hovermode\":\"closest\",\"hoverlabel\":{\"align\":\"left\"},\"paper_bgcolor\":\"white\",\"plot_bgcolor\":\"#E5ECF6\",\"polar\":{\"bgcolor\":\"#E5ECF6\",\"angularaxis\":{\"gridcolor\":\"white\",\"linecolor\":\"white\",\"ticks\":\"\"},\"radialaxis\":{\"gridcolor\":\"white\",\"linecolor\":\"white\",\"ticks\":\"\"}},\"ternary\":{\"bgcolor\":\"#E5ECF6\",\"aaxis\":{\"gridcolor\":\"white\",\"linecolor\":\"white\",\"ticks\":\"\"},\"baxis\":{\"gridcolor\":\"white\",\"linecolor\":\"white\",\"ticks\":\"\"},\"caxis\":{\"gridcolor\":\"white\",\"linecolor\":\"white\",\"ticks\":\"\"}},\"coloraxis\":{\"colorbar\":{\"outlinewidth\":0,\"ticks\":\"\"}},\"colorscale\":{\"sequential\":[[0.0,\"#0d0887\"],[0.1111111111111111,\"#46039f\"],[0.2222222222222222,\"#7201a8\"],[0.3333333333333333,\"#9c179e\"],[0.4444444444444444,\"#bd3786\"],[0.5555555555555556,\"#d8576b\"],[0.6666666666666666,\"#ed7953\"],[0.7777777777777778,\"#fb9f3a\"],[0.8888888888888888,\"#fdca26\"],[1.0,\"#f0f921\"]],\"sequentialminus\":[[0.0,\"#0d0887\"],[0.1111111111111111,\"#46039f\"],[0.2222222222222222,\"#7201a8\"],[0.3333333333333333,\"#9c179e\"],[0.4444444444444444,\"#bd3786\"],[0.5555555555555556,\"#d8576b\"],[0.6666666666666666,\"#ed7953\"],[0.7777777777777778,\"#fb9f3a\"],[0.8888888888888888,\"#fdca26\"],[1.0,\"#f0f921\"]],\"diverging\":[[0,\"#8e0152\"],[0.1,\"#c51b7d\"],[0.2,\"#de77ae\"],[0.3,\"#f1b6da\"],[0.4,\"#fde0ef\"],[0.5,\"#f7f7f7\"],[0.6,\"#e6f5d0\"],[0.7,\"#b8e186\"],[0.8,\"#7fbc41\"],[0.9,\"#4d9221\"],[1,\"#276419\"]]},\"xaxis\":{\"gridcolor\":\"white\",\"linecolor\":\"white\",\"ticks\":\"\",\"title\":{\"standoff\":15},\"zerolinecolor\":\"white\",\"automargin\":true,\"zerolinewidth\":2},\"yaxis\":{\"gridcolor\":\"white\",\"linecolor\":\"white\",\"ticks\":\"\",\"title\":{\"standoff\":15},\"zerolinecolor\":\"white\",\"automargin\":true,\"zerolinewidth\":2},\"scene\":{\"xaxis\":{\"backgroundcolor\":\"#E5ECF6\",\"gridcolor\":\"white\",\"linecolor\":\"white\",\"showbackground\":true,\"ticks\":\"\",\"zerolinecolor\":\"white\",\"gridwidth\":2},\"yaxis\":{\"backgroundcolor\":\"#E5ECF6\",\"gridcolor\":\"white\",\"linecolor\":\"white\",\"showbackground\":true,\"ticks\":\"\",\"zerolinecolor\":\"white\",\"gridwidth\":2},\"zaxis\":{\"backgroundcolor\":\"#E5ECF6\",\"gridcolor\":\"white\",\"linecolor\":\"white\",\"showbackground\":true,\"ticks\":\"\",\"zerolinecolor\":\"white\",\"gridwidth\":2}},\"shapedefaults\":{\"line\":{\"color\":\"#2a3f5f\"}},\"annotationdefaults\":{\"arrowcolor\":\"#2a3f5f\",\"arrowhead\":0,\"arrowwidth\":1},\"geo\":{\"bgcolor\":\"white\",\"landcolor\":\"#E5ECF6\",\"subunitcolor\":\"white\",\"showland\":true,\"showlakes\":true,\"lakecolor\":\"white\"},\"title\":{\"x\":0.05},\"mapbox\":{\"style\":\"light\"}}},\"xaxis\":{\"anchor\":\"y\",\"domain\":[0.0,1.0],\"title\":{\"text\":\"words\"},\"tickangle\":-45},\"yaxis\":{\"anchor\":\"x\",\"domain\":[0.0,1.0],\"title\":{\"text\":\"frequency\"}},\"coloraxis\":{\"colorbar\":{\"title\":{\"text\":\"color\"}},\"colorscale\":[[0.0,\"#0d0887\"],[0.1111111111111111,\"#46039f\"],[0.2222222222222222,\"#7201a8\"],[0.3333333333333333,\"#9c179e\"],[0.4444444444444444,\"#bd3786\"],[0.5555555555555556,\"#d8576b\"],[0.6666666666666666,\"#ed7953\"],[0.7777777777777778,\"#fb9f3a\"],[0.8888888888888888,\"#fdca26\"],[1.0,\"#f0f921\"]]},\"legend\":{\"tracegroupgap\":0},\"title\":{\"text\":\"Frequency of words seen in <b> Flagged </b>records\"},\"barmode\":\"relative\"},                        {\"responsive\": true}                    ).then(function(){\n",
              "                            \n",
              "var gd = document.getElementById('ecaa84f9-50bc-4bc6-951a-72472edae4d7');\n",
              "var x = new MutationObserver(function (mutations, observer) {{\n",
              "        var display = window.getComputedStyle(gd).display;\n",
              "        if (!display || display === 'none') {{\n",
              "            console.log([gd, 'removed!']);\n",
              "            Plotly.purge(gd);\n",
              "            observer.disconnect();\n",
              "        }}\n",
              "}});\n",
              "\n",
              "// Listen for the removal of the full notebook cells\n",
              "var notebookContainer = gd.closest('#notebook-container');\n",
              "if (notebookContainer) {{\n",
              "    x.observe(notebookContainer, {childList: true});\n",
              "}}\n",
              "\n",
              "// Listen for the clearing of the current output cell\n",
              "var outputEl = gd.closest('.output');\n",
              "if (outputEl) {{\n",
              "    x.observe(outputEl, {childList: true});\n",
              "}}\n",
              "\n",
              "                        })                };                });            </script>        </div>"
            ]
          },
          "metadata": {},
          "output_type": "display_data"
        }
      ],
      "source": [
        "flagged_words_dict = count_words(df[df['class']=='flagged'].cleaned_word_list)\n",
        "\n",
        "n = 30\n",
        "\n",
        "words = [k for (k, v) in flagged_words_dict.items()][:n]\n",
        "count = [v for (k, v) in flagged_words_dict.items()][:n]\n",
        "\n",
        "fig = px.bar(x=words, y=count, color=count,\n",
        " title='Frequency of words seen in <b> Flagged </b>records', labels={'x': 'words', 'y': 'frequency'})\n",
        "fig.update_xaxes(tickangle= -45)  \n",
        "fig.show()"
      ]
    },
    {
      "cell_type": "code",
      "execution_count": null,
      "metadata": {},
      "outputs": [],
      "source": []
    },
    {
      "cell_type": "code",
      "execution_count": 77,
      "metadata": {},
      "outputs": [],
      "source": [
        "def count_words(tokens_arrays):\n",
        "    count_dict = {}\n",
        "    for array_ in tokens_arrays:\n",
        "        for word in array_:\n",
        "            try: count_dict[word] +=1\n",
        "            except: count_dict[word] = 1\n",
        "\n",
        "    # sort \n",
        "    sorted_count_dict = {k:v for k,v in sorted(count_dict.items(), key=lambda item: item[1], reverse=True)}\n",
        "    return sorted_count_dict"
      ]
    },
    {
      "cell_type": "code",
      "execution_count": 78,
      "metadata": {},
      "outputs": [],
      "source": [
        "flagged_words_count_dict = count_words(filtered_tokenized_sents)"
      ]
    },
    {
      "cell_type": "code",
      "execution_count": null,
      "metadata": {},
      "outputs": [],
      "source": []
    },
    {
      "cell_type": "code",
      "execution_count": null,
      "metadata": {},
      "outputs": [],
      "source": []
    },
    {
      "cell_type": "code",
      "execution_count": null,
      "metadata": {},
      "outputs": [],
      "source": []
    },
    {
      "cell_type": "code",
      "execution_count": null,
      "metadata": {},
      "outputs": [],
      "source": [
        "\n"
      ]
    },
    {
      "cell_type": "code",
      "execution_count": null,
      "metadata": {},
      "outputs": [],
      "source": [
        "df.loc[:, 'tokenized_words'] = [df.loc[i, 'response_text'].lower().split(\" \") for i in range(len(df))]"
      ]
    },
    {
      "cell_type": "code",
      "execution_count": 24,
      "metadata": {},
      "outputs": [
        {
          "data": {
            "text/plain": [
              "[['I', 'try', 'and', 'avoid', 'this', 'sort', 'of', 'conflict'],\n",
              " ['Had',\n",
              "  'a',\n",
              "  'friend',\n",
              "  'open',\n",
              "  'up',\n",
              "  'to',\n",
              "  'me',\n",
              "  'about',\n",
              "  'his',\n",
              "  'mental',\n",
              "  'addiction',\n",
              "  'to',\n",
              "  'weed',\n",
              "  'and',\n",
              "  'how',\n",
              "  'it',\n",
              "  'was',\n",
              "  'taking',\n",
              "  'over',\n",
              "  'his',\n",
              "  'life',\n",
              "  'and',\n",
              "  'making',\n",
              "  'him',\n",
              "  'depressed'],\n",
              " ['I',\n",
              "  'saved',\n",
              "  'a',\n",
              "  'girl',\n",
              "  'from',\n",
              "  'suicide',\n",
              "  'once.',\n",
              "  'She',\n",
              "  'was',\n",
              "  'going',\n",
              "  'to',\n",
              "  'swallow',\n",
              "  'a',\n",
              "  'bunch',\n",
              "  'of',\n",
              "  'pills',\n",
              "  'and',\n",
              "  'I',\n",
              "  'talked',\n",
              "  'her',\n",
              "  'out',\n",
              "  'of',\n",
              "  'it',\n",
              "  'in',\n",
              "  'a',\n",
              "  'very',\n",
              "  'calm,',\n",
              "  'loving',\n",
              "  'way.'],\n",
              " ['i',\n",
              "  'cant',\n",
              "  'think',\n",
              "  'of',\n",
              "  'one',\n",
              "  'really...i',\n",
              "  'think',\n",
              "  'i',\n",
              "  'may',\n",
              "  'have',\n",
              "  'indirectly'],\n",
              " ['Only',\n",
              "  'really',\n",
              "  'one',\n",
              "  'friend',\n",
              "  'who',\n",
              "  \"doesn't\",\n",
              "  'fit',\n",
              "  'into',\n",
              "  'the',\n",
              "  'any',\n",
              "  'of',\n",
              "  'the',\n",
              "  'above',\n",
              "  'categories.',\n",
              "  'Her',\n",
              "  'therapist',\n",
              "  'calls',\n",
              "  'it',\n",
              "  'spiraling.\"',\n",
              "  'Anyway',\n",
              "  'she',\n",
              "  'pretty',\n",
              "  'much',\n",
              "  'calls',\n",
              "  'me',\n",
              "  'any',\n",
              "  'time',\n",
              "  'she',\n",
              "  'is',\n",
              "  'frustrated',\n",
              "  'by',\n",
              "  'something',\n",
              "  'with',\n",
              "  '',\n",
              "  'her',\n",
              "  'boyfriend',\n",
              "  'to',\n",
              "  'ask',\n",
              "  'me',\n",
              "  'if',\n",
              "  \"it's\",\n",
              "  'logical',\n",
              "  'or',\n",
              "  'not.',\n",
              "  'Before',\n",
              "  'they',\n",
              "  'would',\n",
              "  'just',\n",
              "  'fight',\n",
              "  'and',\n",
              "  'he',\n",
              "  'would',\n",
              "  'call',\n",
              "  'her',\n",
              "  'crazy.',\n",
              "  'Now',\n",
              "  'she',\n",
              "  'asks',\n",
              "  'me',\n",
              "  'if',\n",
              "  \"it's\",\n",
              "  'ok',\n",
              "  'he',\n",
              "  \"didn't\",\n",
              "  'say',\n",
              "  '\"please\"',\n",
              "  'when',\n",
              "  'he',\n",
              "  'said',\n",
              "  '',\n",
              "  '\"hand',\n",
              "  'me',\n",
              "  'the',\n",
              "  'remote.\"'],\n",
              " ['a',\n",
              "  'couple',\n",
              "  'of',\n",
              "  'years',\n",
              "  'ago',\n",
              "  'my',\n",
              "  'friends',\n",
              "  'was',\n",
              "  'going',\n",
              "  'to',\n",
              "  'switch',\n",
              "  'school',\n",
              "  'because',\n",
              "  'of',\n",
              "  'low',\n",
              "  'self',\n",
              "  'esteem',\n",
              "  'too.',\n",
              "  'I',\n",
              "  'helped',\n",
              "  'him',\n",
              "  'overcome',\n",
              "  'that',\n",
              "  'shit',\n",
              "  'too'],\n",
              " ['Roommate',\n",
              "  'when',\n",
              "  'he',\n",
              "  'was',\n",
              "  'going',\n",
              "  'through',\n",
              "  'death',\n",
              "  'and',\n",
              "  'loss',\n",
              "  'of',\n",
              "  'a',\n",
              "  'gf.',\n",
              "  'Did',\n",
              "  'anything',\n",
              "  'to',\n",
              "  'get',\n",
              "  'him',\n",
              "  'out',\n",
              "  'of',\n",
              "  'his',\n",
              "  'bedroom.'],\n",
              " [\"i've\",\n",
              "  'had',\n",
              "  'a',\n",
              "  'couple',\n",
              "  'of',\n",
              "  'friends',\n",
              "  '(you',\n",
              "  'could',\n",
              "  'say',\n",
              "  'more',\n",
              "  'than',\n",
              "  'friends)',\n",
              "  'with',\n",
              "  'quite',\n",
              "  'severe',\n",
              "  'depression/',\n",
              "  'emotional',\n",
              "  'problems.',\n",
              "  'i',\n",
              "  'helped',\n",
              "  'for',\n",
              "  'a',\n",
              "  'while',\n",
              "  'but',\n",
              "  'eventually',\n",
              "  'both',\n",
              "  'relationships',\n",
              "  'started',\n",
              "  'to',\n",
              "  'suffer',\n",
              "  'as',\n",
              "  'a',\n",
              "  'result',\n",
              "  'of',\n",
              "  'both',\n",
              "  'our',\n",
              "  'personal',\n",
              "  'problems'],\n",
              " ['Listened',\n",
              "  'to',\n",
              "  'someone',\n",
              "  'talk',\n",
              "  'about',\n",
              "  'relationship',\n",
              "  'troubles.',\n",
              "  'Offered',\n",
              "  'some',\n",
              "  'advice',\n",
              "  'from',\n",
              "  'personal',\n",
              "  'experience.'],\n",
              " ['I',\n",
              "  'will',\n",
              "  'always',\n",
              "  'listen.',\n",
              "  'I',\n",
              "  'comforted',\n",
              "  'my',\n",
              "  'sister',\n",
              "  'when',\n",
              "  'she',\n",
              "  'lost',\n",
              "  'her',\n",
              "  'virgity',\n",
              "  'the',\n",
              "  'same',\n",
              "  'night',\n",
              "  'she',\n",
              "  'walked',\n",
              "  'in',\n",
              "  'on',\n",
              "  'her',\n",
              "  'boyfriend',\n",
              "  'cutting',\n",
              "  'himself,',\n",
              "  'and',\n",
              "  'then',\n",
              "  'our',\n",
              "  'parents',\n",
              "  'found',\n",
              "  'out',\n",
              "  'she',\n",
              "  'threw',\n",
              "  'a',\n",
              "  'house',\n",
              "  'part.',\n",
              "  'Simply',\n",
              "  'bring',\n",
              "  'supportive',\n",
              "  'was',\n",
              "  'my',\n",
              "  'focus.'],\n",
              " ['Took',\n",
              "  'a',\n",
              "  'week',\n",
              "  'off',\n",
              "  'work,',\n",
              "  'packed',\n",
              "  'up',\n",
              "  'the',\n",
              "  'car',\n",
              "  'and',\n",
              "  'picked',\n",
              "  'up',\n",
              "  'a',\n",
              "  'friend',\n",
              "  'who',\n",
              "  'was',\n",
              "  'on',\n",
              "  'the',\n",
              "  'verge',\n",
              "  'of',\n",
              "  'losing',\n",
              "  'it',\n",
              "  'and',\n",
              "  'went',\n",
              "  'camping/surfing',\n",
              "  'for',\n",
              "  'a',\n",
              "  'week.',\n",
              "  'His',\n",
              "  'parents',\n",
              "  'were',\n",
              "  'a',\n",
              "  'big',\n",
              "  'part',\n",
              "  'of',\n",
              "  'the',\n",
              "  'problem',\n",
              "  'and',\n",
              "  'being',\n",
              "  'away',\n",
              "  'from',\n",
              "  'them',\n",
              "  'and',\n",
              "  'others',\n",
              "  'and',\n",
              "  'physical',\n",
              "  'activity',\n",
              "  'every',\n",
              "  'day',\n",
              "  'for',\n",
              "  'a',\n",
              "  'week.',\n",
              "  'but',\n",
              "  'more',\n",
              "  'just',\n",
              "  'being',\n",
              "  'around',\n",
              "  'helped',\n",
              "  'i',\n",
              "  'feel.'],\n",
              " ['On',\n",
              "  'the',\n",
              "  'memorial',\n",
              "  'anniversary',\n",
              "  'of',\n",
              "  'my',\n",
              "  'friends',\n",
              "  'father',\n",
              "  'I',\n",
              "  'was',\n",
              "  'with',\n",
              "  'him',\n",
              "  'to',\n",
              "  'give',\n",
              "  'support',\n",
              "  'and',\n",
              "  'remind',\n",
              "  'him',\n",
              "  'that',\n",
              "  \"he's\",\n",
              "  'not',\n",
              "  'alone.'],\n",
              " ['Anxious', 'girlfriend', 'always', 'needs', 'my', 'help'],\n",
              " ['Never'],\n",
              " ['You', 'as', 'a', 'mom'],\n",
              " ['ex',\n",
              "  'gf',\n",
              "  'was',\n",
              "  'a',\n",
              "  'cutter/suicidal,',\n",
              "  'got',\n",
              "  'her',\n",
              "  'out',\n",
              "  'of',\n",
              "  'her',\n",
              "  'own',\n",
              "  'issues',\n",
              "  'while',\n",
              "  'slowly',\n",
              "  'dying',\n",
              "  'inside.'],\n",
              " ['I',\n",
              "  'have',\n",
              "  'helped',\n",
              "  'advise',\n",
              "  'friends',\n",
              "  'who',\n",
              "  'have',\n",
              "  'faced',\n",
              "  'circumstances',\n",
              "  'similar',\n",
              "  'to',\n",
              "  'mine'],\n",
              " [\"I've\", 'helped', 'friends', 'out', 'before'],\n",
              " ['A',\n",
              "  'friend',\n",
              "  'that',\n",
              "  'is',\n",
              "  'a',\n",
              "  'girl',\n",
              "  'and',\n",
              "  'just',\n",
              "  'talk',\n",
              "  'to',\n",
              "  'her',\n",
              "  'tryin',\n",
              "  'to',\n",
              "  'make',\n",
              "  'her',\n",
              "  'feel',\n",
              "  'better'],\n",
              " ['expressing',\n",
              "  'concern',\n",
              "  'and',\n",
              "  'openness',\n",
              "  'to',\n",
              "  'friends',\n",
              "  'when',\n",
              "  'they',\n",
              "  'are',\n",
              "  'dealing',\n",
              "  'with',\n",
              "  'troubles.',\n",
              "  'letting',\n",
              "  'them',\n",
              "  'know',\n",
              "  'they',\n",
              "  'can',\n",
              "  'fell',\n",
              "  'open',\n",
              "  'for',\n",
              "  'dialog.'],\n",
              " ['listening', 'to', \"girlfriend's\", 'problems'],\n",
              " ['Friend',\n",
              "  'was',\n",
              "  'thinking',\n",
              "  'about',\n",
              "  'suicide,',\n",
              "  'after',\n",
              "  'a',\n",
              "  'few',\n",
              "  'days',\n",
              "  'I',\n",
              "  'managed',\n",
              "  'to',\n",
              "  'talk',\n",
              "  'her',\n",
              "  'down.'],\n",
              " ['Having',\n",
              "  'gone',\n",
              "  'through',\n",
              "  'depression',\n",
              "  'and',\n",
              "  'anxiety',\n",
              "  'myself,',\n",
              "  'I',\n",
              "  'understand',\n",
              "  'the',\n",
              "  'struggles',\n",
              "  'and',\n",
              "  'have',\n",
              "  'a',\n",
              "  'few',\n",
              "  'personal',\n",
              "  'methods',\n",
              "  'to',\n",
              "  'cope',\n",
              "  'when',\n",
              "  'stuff',\n",
              "  'hits.',\n",
              "  'Having',\n",
              "  'this',\n",
              "  'knowledge',\n",
              "  'has',\n",
              "  'allowed',\n",
              "  'me',\n",
              "  'to',\n",
              "  'help',\n",
              "  'several',\n",
              "  'people',\n",
              "  'on',\n",
              "  'the',\n",
              "  'internet',\n",
              "  'as',\n",
              "  'well',\n",
              "  'as',\n",
              "  'my',\n",
              "  'other',\n",
              "  'friends',\n",
              "  'when',\n",
              "  'they',\n",
              "  'have',\n",
              "  'faced',\n",
              "  'similar',\n",
              "  'issues',\n",
              "  'and',\n",
              "  'talk',\n",
              "  'to',\n",
              "  'me',\n",
              "  'about',\n",
              "  'them.',\n",
              "  'I',\n",
              "  'understand',\n",
              "  'how',\n",
              "  'important',\n",
              "  'listening',\n",
              "  'is',\n",
              "  'and',\n",
              "  'offer',\n",
              "  'my',\n",
              "  'experiences',\n",
              "  'to',\n",
              "  'help',\n",
              "  'them',\n",
              "  'get',\n",
              "  'through',\n",
              "  'what',\n",
              "  'they',\n",
              "  'face.'],\n",
              " ['Sometimes',\n",
              "  'my',\n",
              "  'friends',\n",
              "  'bring',\n",
              "  'up',\n",
              "  'issues',\n",
              "  'they',\n",
              "  'are',\n",
              "  'having',\n",
              "  'with',\n",
              "  'themselves,',\n",
              "  'and',\n",
              "  'I',\n",
              "  'feel',\n",
              "  'that',\n",
              "  'I',\n",
              "  'give',\n",
              "  'them',\n",
              "  'good',\n",
              "  'advice',\n",
              "  'and',\n",
              "  'make',\n",
              "  'them',\n",
              "  'feel',\n",
              "  'adequate',\n",
              "  'and',\n",
              "  'normal.',\n",
              "  'I',\n",
              "  'just',\n",
              "  'try',\n",
              "  'to',\n",
              "  'be',\n",
              "  'kind',\n",
              "  'and',\n",
              "  'helpful',\n",
              "  'and',\n",
              "  'honest.'],\n",
              " ['never',\n",
              "  'i',\n",
              "  'guess',\n",
              "  'people',\n",
              "  'dont',\n",
              "  'see',\n",
              "  'me',\n",
              "  'as',\n",
              "  'a',\n",
              "  'guy',\n",
              "  'they',\n",
              "  'would',\n",
              "  'go',\n",
              "  'to'],\n",
              " ['Last',\n",
              "  'year,',\n",
              "  'my',\n",
              "  'best',\n",
              "  'friend',\n",
              "  'was',\n",
              "  'diagnosed',\n",
              "  'with',\n",
              "  'anxiety',\n",
              "  'disorder',\n",
              "  'and',\n",
              "  'depression.',\n",
              "  'She',\n",
              "  'tried',\n",
              "  'to',\n",
              "  'commit',\n",
              "  'suicide.',\n",
              "  'I',\n",
              "  'tried',\n",
              "  'my',\n",
              "  'best',\n",
              "  'to',\n",
              "  'be',\n",
              "  'there',\n",
              "  'for',\n",
              "  'her',\n",
              "  'the',\n",
              "  'entire',\n",
              "  'time',\n",
              "  'throughout',\n",
              "  'her',\n",
              "  'recovery.'],\n",
              " ['Cleaning',\n",
              "  'up',\n",
              "  'my',\n",
              "  \"friend's\",\n",
              "  'campsite',\n",
              "  'and',\n",
              "  'slightly',\n",
              "  'helping',\n",
              "  'him',\n",
              "  'while',\n",
              "  'he',\n",
              "  'was',\n",
              "  'living',\n",
              "  'all',\n",
              "  'summer',\n",
              "  'as',\n",
              "  'an',\n",
              "  'alcoholic',\n",
              "  'in',\n",
              "  'the',\n",
              "  'Mt.',\n",
              "  'Hood',\n",
              "  'woods.'],\n",
              " ['i',\n",
              "  'listen',\n",
              "  'pretty',\n",
              "  'damn',\n",
              "  'well.',\n",
              "  'better',\n",
              "  'at',\n",
              "  'that',\n",
              "  'as',\n",
              "  'apposed',\n",
              "  'to',\n",
              "  'telling',\n",
              "  'my',\n",
              "  'own',\n",
              "  'story.'],\n",
              " ['Helping',\n",
              "  'a',\n",
              "  'friend',\n",
              "  'through',\n",
              "  'dealing',\n",
              "  'with',\n",
              "  'his',\n",
              "  'alcoholic',\n",
              "  'mother.'],\n",
              " ['I',\n",
              "  'used',\n",
              "  'to',\n",
              "  'tutor',\n",
              "  'homeless',\n",
              "  'men',\n",
              "  'at',\n",
              "  'a',\n",
              "  'shelter',\n",
              "  'to',\n",
              "  'help',\n",
              "  'them',\n",
              "  'obtain',\n",
              "  'their',\n",
              "  \"GED's.\",\n",
              "  'They',\n",
              "  'were',\n",
              "  'all',\n",
              "  'age',\n",
              "  '50+',\n",
              "  'and',\n",
              "  'some',\n",
              "  'of',\n",
              "  'them',\n",
              "  'were',\n",
              "  'even',\n",
              "  'reading',\n",
              "  'at',\n",
              "  'a',\n",
              "  'first',\n",
              "  'grade',\n",
              "  'level.'],\n",
              " ['I', 'am', 'a', 'high', 'school', 'teacher', 'so', 'almost', 'everyday.'],\n",
              " ['Friends',\n",
              "  'often',\n",
              "  'come',\n",
              "  'to',\n",
              "  'me',\n",
              "  'to',\n",
              "  'talk',\n",
              "  'about',\n",
              "  'the',\n",
              "  'issues',\n",
              "  'that',\n",
              "  \"they're\",\n",
              "  'facing',\n",
              "  'in',\n",
              "  'life.'],\n",
              " ['Summer',\n",
              "  'camp,',\n",
              "  'countless',\n",
              "  'kids',\n",
              "  'have',\n",
              "  'the',\n",
              "  'same',\n",
              "  'issue.',\n",
              "  'I',\n",
              "  'tell',\n",
              "  'them',\n",
              "  'i',\n",
              "  'how',\n",
              "  'it',\n",
              "  'is',\n",
              "  'when',\n",
              "  'you',\n",
              "  'cant',\n",
              "  'listen',\n",
              "  'or',\n",
              "  'are',\n",
              "  'restless.'],\n",
              " ['Haha.',\n",
              "  'In',\n",
              "  'eight',\n",
              "  'grade,',\n",
              "  'kid',\n",
              "  'got',\n",
              "  'rejected',\n",
              "  'twice.',\n",
              "  'Wanted',\n",
              "  'her',\n",
              "  'to',\n",
              "  'sign',\n",
              "  'his',\n",
              "  'yearbook',\n",
              "  'but',\n",
              "  'he',\n",
              "  'was',\n",
              "  'too',\n",
              "  'nervous.',\n",
              "  'I',\n",
              "  'told',\n",
              "  'him',\n",
              "  'she',\n",
              "  \"doesn't\",\n",
              "  'really',\n",
              "  'care',\n",
              "  'about',\n",
              "  'rejecting',\n",
              "  'him',\n",
              "  'and',\n",
              "  'she',\n",
              "  'thinks',\n",
              "  'no',\n",
              "  'less',\n",
              "  'of',\n",
              "  'him.',\n",
              "  'He',\n",
              "  'did',\n",
              "  'it.',\n",
              "  '',\n",
              "  '',\n",
              "  '',\n",
              "  'Probably',\n",
              "  'more,',\n",
              "  'but',\n",
              "  \"that's\",\n",
              "  'what',\n",
              "  'comes',\n",
              "  'up',\n",
              "  'off',\n",
              "  'the',\n",
              "  'top',\n",
              "  'of',\n",
              "  'my',\n",
              "  'head.'],\n",
              " [\"Don't\",\n",
              "  'have',\n",
              "  'a',\n",
              "  'specific',\n",
              "  'example',\n",
              "  'but',\n",
              "  'just',\n",
              "  'letting',\n",
              "  'people',\n",
              "  'know',\n",
              "  \"you're\",\n",
              "  'there',\n",
              "  'if',\n",
              "  'they',\n",
              "  'want',\n",
              "  'to',\n",
              "  'talk.'],\n",
              " ['Some',\n",
              "  'of',\n",
              "  'my',\n",
              "  'friends',\n",
              "  'have',\n",
              "  'gone',\n",
              "  'through',\n",
              "  'the',\n",
              "  'same',\n",
              "  'type',\n",
              "  'of',\n",
              "  'struggle',\n",
              "  'I',\n",
              "  'have',\n",
              "  'been',\n",
              "  'through.',\n",
              "  'I',\n",
              "  'let',\n",
              "  'them',\n",
              "  'know',\n",
              "  'that',\n",
              "  'they',\n",
              "  'could',\n",
              "  'talk',\n",
              "  'to',\n",
              "  'me',\n",
              "  'about',\n",
              "  'anything',\n",
              "  'and',\n",
              "  'that',\n",
              "  'being',\n",
              "  'honest',\n",
              "  'with',\n",
              "  'yourself',\n",
              "  'even',\n",
              "  'if',\n",
              "  'the',\n",
              "  'truth',\n",
              "  'hurts',\n",
              "  'is',\n",
              "  'the',\n",
              "  'best',\n",
              "  'way',\n",
              "  'to',\n",
              "  'start',\n",
              "  'to',\n",
              "  'get',\n",
              "  'back',\n",
              "  'up.'],\n",
              " ['Friend',\n",
              "  'who',\n",
              "  'had',\n",
              "  'big',\n",
              "  'addiction',\n",
              "  'issues,',\n",
              "  'ended',\n",
              "  'up',\n",
              "  'being',\n",
              "  'completely',\n",
              "  'isolated,',\n",
              "  'skipped',\n",
              "  'school,',\n",
              "  'and',\n",
              "  'had',\n",
              "  'a',\n",
              "  'very',\n",
              "  'low',\n",
              "  'self',\n",
              "  'esteem.',\n",
              "  'I',\n",
              "  'convinced',\n",
              "  'him',\n",
              "  'to',\n",
              "  'go',\n",
              "  'see',\n",
              "  'a',\n",
              "  'doc',\n",
              "  'together,',\n",
              "  'and',\n",
              "  'promised',\n",
              "  'him',\n",
              "  'that',\n",
              "  'i',\n",
              "  'would',\n",
              "  'go',\n",
              "  'through',\n",
              "  'everything',\n",
              "  'with',\n",
              "  'him.',\n",
              "  'He',\n",
              "  'went',\n",
              "  'to',\n",
              "  'rehab',\n",
              "  'for',\n",
              "  'a',\n",
              "  'few',\n",
              "  'months',\n",
              "  'and',\n",
              "  'now',\n",
              "  \"he's\",\n",
              "  'clean.',\n",
              "  'But',\n",
              "  'the',\n",
              "  'complete',\n",
              "  'lack',\n",
              "  'of',\n",
              "  'support',\n",
              "  'from',\n",
              "  'his',\n",
              "  'family,',\n",
              "  'from',\n",
              "  'school,',\n",
              "  'changed',\n",
              "  'him.',\n",
              "  'I',\n",
              "  'think',\n",
              "  'it',\n",
              "  'was',\n",
              "  'too',\n",
              "  'late',\n",
              "  'when',\n",
              "  'I',\n",
              "  'helped',\n",
              "  'him',\n",
              "  '(he',\n",
              "  'was',\n",
              "  'like',\n",
              "  'that',\n",
              "  'for',\n",
              "  '5',\n",
              "  'months)',\n",
              "  'and',\n",
              "  \"he'll\",\n",
              "  'never',\n",
              "  'be',\n",
              "  'the',\n",
              "  'same',\n",
              "  'as',\n",
              "  'before.'],\n",
              " [\"I've\",\n",
              "  'always',\n",
              "  'been',\n",
              "  'a',\n",
              "  'good',\n",
              "  'listener',\n",
              "  'for',\n",
              "  'people',\n",
              "  'and',\n",
              "  'I',\n",
              "  'think',\n",
              "  'a',\n",
              "  'lot',\n",
              "  'of',\n",
              "  'people',\n",
              "  'just',\n",
              "  'want',\n",
              "  'to',\n",
              "  'be',\n",
              "  'heard',\n",
              "  'and',\n",
              "  'not',\n",
              "  'necessarily',\n",
              "  'fixed.',\n",
              "  'They',\n",
              "  'just',\n",
              "  'need',\n",
              "  'to',\n",
              "  'express',\n",
              "  'themselves',\n",
              "  'to',\n",
              "  'relief',\n",
              "  'their',\n",
              "  'thoughts',\n",
              "  'to',\n",
              "  'others',\n",
              "  'so',\n",
              "  \"they're\",\n",
              "  'not',\n",
              "  'trapped',\n",
              "  'so',\n",
              "  'much',\n",
              "  'within',\n",
              "  'the',\n",
              "  'confines',\n",
              "  'of',\n",
              "  'their',\n",
              "  'own',\n",
              "  'head.',\n",
              "  '',\n",
              "  \"I've\",\n",
              "  'always',\n",
              "  'lent',\n",
              "  'an',\n",
              "  'ear',\n",
              "  'for',\n",
              "  'someone',\n",
              "  'to',\n",
              "  'speak',\n",
              "  'to.'],\n",
              " ['One',\n",
              "  'of',\n",
              "  'my',\n",
              "  'best',\n",
              "  'friends',\n",
              "  'was',\n",
              "  'diagnosed',\n",
              "  'with',\n",
              "  'cancer',\n",
              "  'and',\n",
              "  'I',\n",
              "  'did',\n",
              "  'as',\n",
              "  'much',\n",
              "  'as',\n",
              "  'I',\n",
              "  'could',\n",
              "  'for',\n",
              "  'him',\n",
              "  'during',\n",
              "  'that',\n",
              "  'time.',\n",
              "  'I',\n",
              "  'visited',\n",
              "  'him',\n",
              "  'almost',\n",
              "  'every',\n",
              "  'day',\n",
              "  'when',\n",
              "  'he',\n",
              "  'was',\n",
              "  'in',\n",
              "  'treatment',\n",
              "  'just',\n",
              "  'so',\n",
              "  'he',\n",
              "  \"didn't\",\n",
              "  'have',\n",
              "  'to',\n",
              "  'be',\n",
              "  'alone',\n",
              "  'or',\n",
              "  'anything.',\n",
              "  'When',\n",
              "  'he',\n",
              "  'came',\n",
              "  'back',\n",
              "  'to',\n",
              "  'school',\n",
              "  'I',\n",
              "  'helped',\n",
              "  'him',\n",
              "  'get',\n",
              "  'caught',\n",
              "  'up',\n",
              "  'with',\n",
              "  'school',\n",
              "  'work',\n",
              "  'too.'],\n",
              " ['I',\n",
              "  \"don't\",\n",
              "  'think',\n",
              "  \"I'm\",\n",
              "  'qualified',\n",
              "  'to',\n",
              "  'be',\n",
              "  'a',\n",
              "  'serious',\n",
              "  'resource',\n",
              "  'for',\n",
              "  'someone',\n",
              "  'else.'],\n",
              " ['Many',\n",
              "  'times',\n",
              "  'for',\n",
              "  'my',\n",
              "  'one',\n",
              "  'friend',\n",
              "  'who',\n",
              "  'tried',\n",
              "  'hard',\n",
              "  'drugs',\n",
              "  '(cocaine)',\n",
              "  'and',\n",
              "  'was',\n",
              "  'dealing',\n",
              "  'with',\n",
              "  'depression',\n",
              "  'because',\n",
              "  'of',\n",
              "  'girls'],\n",
              " ['A',\n",
              "  'lot',\n",
              "  'for',\n",
              "  'my',\n",
              "  'friends.',\n",
              "  'When',\n",
              "  'they',\n",
              "  'have',\n",
              "  'had',\n",
              "  'girl',\n",
              "  'problems,',\n",
              "  'or',\n",
              "  'have',\n",
              "  'just',\n",
              "  'been',\n",
              "  'down',\n",
              "  'in',\n",
              "  'the',\n",
              "  'dumps',\n",
              "  'about',\n",
              "  'life.',\n",
              "  'I',\n",
              "  'always',\n",
              "  'try',\n",
              "  'to',\n",
              "  'look',\n",
              "  'on',\n",
              "  'the',\n",
              "  'positive',\n",
              "  'side',\n",
              "  'of',\n",
              "  'life,',\n",
              "  'and',\n",
              "  'I',\n",
              "  'try',\n",
              "  'to',\n",
              "  'reflect',\n",
              "  'that',\n",
              "  'on',\n",
              "  'my',\n",
              "  \"friends'\",\n",
              "  'lives',\n",
              "  'as',\n",
              "  'well.'],\n",
              " [\"I'm\",\n",
              "  'the',\n",
              "  'theripist',\n",
              "  'of',\n",
              "  'my',\n",
              "  'friends,',\n",
              "  'they',\n",
              "  'always',\n",
              "  'come',\n",
              "  'to',\n",
              "  'me'],\n",
              " ['Describe?', '', '', '', 'Nah'],\n",
              " ['My',\n",
              "  'brother',\n",
              "  'went',\n",
              "  'through',\n",
              "  'the',\n",
              "  'same',\n",
              "  'struggles',\n",
              "  'I',\n",
              "  'did,',\n",
              "  'after',\n",
              "  'i',\n",
              "  'found',\n",
              "  'help',\n",
              "  'I',\n",
              "  'was',\n",
              "  'able',\n",
              "  'to',\n",
              "  'set',\n",
              "  'him',\n",
              "  'on',\n",
              "  'the',\n",
              "  'path',\n",
              "  'to',\n",
              "  'healing.'],\n",
              " ['Friend',\n",
              "  'got',\n",
              "  'dumped',\n",
              "  'by',\n",
              "  'girl',\n",
              "  'he',\n",
              "  'had',\n",
              "  'been',\n",
              "  'in',\n",
              "  'a',\n",
              "  'relationship',\n",
              "  'in',\n",
              "  'for',\n",
              "  '2',\n",
              "  'years.',\n",
              "  'I',\n",
              "  'stayed',\n",
              "  'by',\n",
              "  'his',\n",
              "  'side',\n",
              "  'until',\n",
              "  'he',\n",
              "  'stopped',\n",
              "  'feeling',\n",
              "  'bad',\n",
              "  'about',\n",
              "  'it.',\n",
              "  'I',\n",
              "  'was',\n",
              "  'there',\n",
              "  'for',\n",
              "  'him.'],\n",
              " ['I',\n",
              "  'open',\n",
              "  'myself',\n",
              "  'to',\n",
              "  'any',\n",
              "  'friend',\n",
              "  'in',\n",
              "  'need',\n",
              "  'of',\n",
              "  'emotional',\n",
              "  'support.'],\n",
              " ['GF',\n",
              "  'and',\n",
              "  'I',\n",
              "  'help',\n",
              "  'her',\n",
              "  'through',\n",
              "  'a',\n",
              "  'lot',\n",
              "  'of',\n",
              "  'shit',\n",
              "  'because',\n",
              "  'I',\n",
              "  'myself',\n",
              "  'have',\n",
              "  'been',\n",
              "  'through',\n",
              "  'a',\n",
              "  'lot',\n",
              "  'of',\n",
              "  'shit.'],\n",
              " ['I',\n",
              "  'had',\n",
              "  'a',\n",
              "  'friend',\n",
              "  'that',\n",
              "  'would',\n",
              "  'go',\n",
              "  'off',\n",
              "  'about',\n",
              "  'girls',\n",
              "  'and',\n",
              "  'get',\n",
              "  'super',\n",
              "  'depressed.',\n",
              "  'He',\n",
              "  'told',\n",
              "  'me',\n",
              "  'he',\n",
              "  'was',\n",
              "  'going',\n",
              "  'to',\n",
              "  'kill',\n",
              "  'himself',\n",
              "  'one',\n",
              "  'night',\n",
              "  'and',\n",
              "  'I',\n",
              "  'drove',\n",
              "  '1n',\n",
              "  'hour',\n",
              "  'and',\n",
              "  'a',\n",
              "  'half',\n",
              "  'to',\n",
              "  'go',\n",
              "  'look',\n",
              "  'for',\n",
              "  'him.',\n",
              "  'By',\n",
              "  'then',\n",
              "  'the',\n",
              "  'cops',\n",
              "  'had',\n",
              "  'already',\n",
              "  'taken',\n",
              "  'him',\n",
              "  'to',\n",
              "  'the',\n",
              "  'hospital',\n",
              "  'but',\n",
              "  'me',\n",
              "  'and',\n",
              "  'a',\n",
              "  'friend',\n",
              "  'went',\n",
              "  'and',\n",
              "  'hung',\n",
              "  'out',\n",
              "  'with',\n",
              "  'him.',\n",
              "  'Also',\n",
              "  'been',\n",
              "  'there',\n",
              "  'to',\n",
              "  'help',\n",
              "  'try',\n",
              "  'and',\n",
              "  'talk',\n",
              "  'him',\n",
              "  'down.',\n",
              "  'Another',\n",
              "  'person',\n",
              "  'I',\n",
              "  'hadnt',\n",
              "  'been',\n",
              "  'friends',\n",
              "  'with',\n",
              "  'for',\n",
              "  'years',\n",
              "  'cause',\n",
              "  'of',\n",
              "  'some',\n",
              "  'stuff',\n",
              "  'called',\n",
              "  'me',\n",
              "  'out',\n",
              "  'of',\n",
              "  'the',\n",
              "  'blue',\n",
              "  'on',\n",
              "  'thankgiving',\n",
              "  'last',\n",
              "  'year.',\n",
              "  'I',\n",
              "  'called',\n",
              "  'back',\n",
              "  'and',\n",
              "  'got',\n",
              "  'a',\n",
              "  'hospital',\n",
              "  'number',\n",
              "  'so',\n",
              "  'I',\n",
              "  'knew',\n",
              "  'something',\n",
              "  'was',\n",
              "  'up.',\n",
              "  'Ended',\n",
              "  'up',\n",
              "  'being',\n",
              "  'a',\n",
              "  'kid',\n",
              "  'who',\n",
              "  'I',\n",
              "  'was',\n",
              "  'friends',\n",
              "  'with',\n",
              "  'years',\n",
              "  'before',\n",
              "  'but',\n",
              "  'was',\n",
              "  'a',\n",
              "  'huge',\n",
              "  'douche',\n",
              "  'to',\n",
              "  'me.',\n",
              "  'He',\n",
              "  'was',\n",
              "  'in',\n",
              "  'the',\n",
              "  'psych',\n",
              "  'ward',\n",
              "  'for',\n",
              "  'trying',\n",
              "  'to',\n",
              "  'kill',\n",
              "  'himself.',\n",
              "  'I',\n",
              "  'got',\n",
              "  'a',\n",
              "  'hold',\n",
              "  'of',\n",
              "  'him',\n",
              "  'and',\n",
              "  'talked',\n",
              "  'to',\n",
              "  'him',\n",
              "  'for',\n",
              "  'a',\n",
              "  'while.',\n",
              "  'Whenever',\n",
              "  'he',\n",
              "  'would',\n",
              "  'call',\n",
              "  'I',\n",
              "  'would',\n",
              "  'answer',\n",
              "  'and',\n",
              "  'be',\n",
              "  'there',\n",
              "  'even',\n",
              "  'though',\n",
              "  'I',\n",
              "  'still',\n",
              "  'had',\n",
              "  'the',\n",
              "  'shit',\n",
              "  'from',\n",
              "  'years',\n",
              "  'earlier',\n",
              "  'on',\n",
              "  'my',\n",
              "  'mind.',\n",
              "  'There',\n",
              "  'are',\n",
              "  'people',\n",
              "  'that',\n",
              "  'I',\n",
              "  'might',\n",
              "  'not',\n",
              "  'want',\n",
              "  'to',\n",
              "  'be',\n",
              "  'around',\n",
              "  'but',\n",
              "  'if',\n",
              "  \"it's\",\n",
              "  'a',\n",
              "  'situation',\n",
              "  'like',\n",
              "  'this',\n",
              "  \"I'll\",\n",
              "  'be',\n",
              "  'there',\n",
              "  'for',\n",
              "  'people.',\n",
              "  'My',\n",
              "  'goal',\n",
              "  'or',\n",
              "  'purpose',\n",
              "  'in',\n",
              "  'life',\n",
              "  \"that's\",\n",
              "  'sustained',\n",
              "  'my',\n",
              "  'survival',\n",
              "  'is',\n",
              "  'to',\n",
              "  'help',\n",
              "  'make',\n",
              "  'other',\n",
              "  'peoples',\n",
              "  'lives',\n",
              "  'a',\n",
              "  'little',\n",
              "  'bit',\n",
              "  'better.',\n",
              "  'Make',\n",
              "  'people',\n",
              "  'laugh',\n",
              "  'when',\n",
              "  \"they're\",\n",
              "  'sad,',\n",
              "  'help',\n",
              "  'people',\n",
              "  'out',\n",
              "  'when',\n",
              "  'nobody',\n",
              "  'else',\n",
              "  'will.',\n",
              "  'Basically',\n",
              "  'treat',\n",
              "  'other',\n",
              "  'humans',\n",
              "  'even',\n",
              "  'strangers',\n",
              "  'with',\n",
              "  'the',\n",
              "  'respect',\n",
              "  'and',\n",
              "  'kindness',\n",
              "  'of',\n",
              "  'a',\n",
              "  'friend.',\n",
              "  \"That's\",\n",
              "  'all',\n",
              "  'people',\n",
              "  'need',\n",
              "  'sometime.',\n",
              "  'Let',\n",
              "  'people',\n",
              "  'talk',\n",
              "  'through',\n",
              "  'their',\n",
              "  'shit',\n",
              "  'with',\n",
              "  'me',\n",
              "  'and',\n",
              "  'offer',\n",
              "  'helpful',\n",
              "  'advice',\n",
              "  'if',\n",
              "  'I',\n",
              "  'can.',\n",
              "  \"I'm\",\n",
              "  'still',\n",
              "  'swimming',\n",
              "  'in',\n",
              "  'my',\n",
              "  'own',\n",
              "  'shit',\n",
              "  'but',\n",
              "  \"that's\",\n",
              "  'enough',\n",
              "  'to',\n",
              "  'keep',\n",
              "  'me',\n",
              "  'going,',\n",
              "  'keep',\n",
              "  'that',\n",
              "  'little',\n",
              "  'light',\n",
              "  'at',\n",
              "  'the',\n",
              "  'end',\n",
              "  'of',\n",
              "  'the',\n",
              "  'tunnel',\n",
              "  'switched',\n",
              "  'on.',\n",
              "  'Idk',\n",
              "  'how',\n",
              "  'long',\n",
              "  'that',\n",
              "  'will',\n",
              "  'last',\n",
              "  'but',\n",
              "  \"I'll\",\n",
              "  'be',\n",
              "  'here',\n",
              "  'till',\n",
              "  'it',\n",
              "  'flickers',\n",
              "  'out.'],\n",
              " ['Sometimes',\n",
              "  \"I'll\",\n",
              "  'calm',\n",
              "  'my',\n",
              "  'friends',\n",
              "  'down',\n",
              "  'after',\n",
              "  'bad',\n",
              "  'stuff',\n",
              "  'happens.'],\n",
              " ['I',\n",
              "  'once',\n",
              "  'acted',\n",
              "  'as',\n",
              "  'a',\n",
              "  'resource',\n",
              "  'for',\n",
              "  'someone',\n",
              "  'who',\n",
              "  'was',\n",
              "  'struggling',\n",
              "  'in',\n",
              "  'school,',\n",
              "  'and',\n",
              "  'I',\n",
              "  'helped',\n",
              "  'them',\n",
              "  'with',\n",
              "  'their',\n",
              "  'schoolwork.'],\n",
              " ['My',\n",
              "  'friend',\n",
              "  'was',\n",
              "  'going',\n",
              "  'through',\n",
              "  'a',\n",
              "  'period',\n",
              "  'of',\n",
              "  'intense',\n",
              "  'depression',\n",
              "  'and',\n",
              "  'i',\n",
              "  'made',\n",
              "  'sure',\n",
              "  'that',\n",
              "  'i',\n",
              "  'was',\n",
              "  'always',\n",
              "  'there',\n",
              "  'for',\n",
              "  'him.'],\n",
              " ['I',\n",
              "  'have',\n",
              "  'talked',\n",
              "  'though',\n",
              "  'some',\n",
              "  'major',\n",
              "  'blows',\n",
              "  'in',\n",
              "  'my',\n",
              "  'girlfriends',\n",
              "  'life.',\n",
              "  'She',\n",
              "  'has',\n",
              "  'had',\n",
              "  'some',\n",
              "  'tough',\n",
              "  'times,',\n",
              "  'and',\n",
              "  'I',\n",
              "  'helped',\n",
              "  'her',\n",
              "  'with',\n",
              "  'them.'],\n",
              " ['Talking', 'to', 'a', 'friend', 'over', 'a', 'break', 'up.'],\n",
              " ['I',\n",
              "  'care',\n",
              "  'about',\n",
              "  'other',\n",
              "  'people',\n",
              "  'more',\n",
              "  'than',\n",
              "  'myself',\n",
              "  'so',\n",
              "  'I',\n",
              "  'listen',\n",
              "  'and',\n",
              "  'help',\n",
              "  'them',\n",
              "  'through',\n",
              "  'tough',\n",
              "  'times'],\n",
              " ['Over',\n",
              "  'the',\n",
              "  'internet',\n",
              "  'a',\n",
              "  'LOT',\n",
              "  'of',\n",
              "  'people',\n",
              "  'write',\n",
              "  'to',\n",
              "  'me',\n",
              "  'to',\n",
              "  'talk',\n",
              "  'about',\n",
              "  'their',\n",
              "  'problems.',\n",
              "  'Its',\n",
              "  'often',\n",
              "  'girl',\n",
              "  'related,',\n",
              "  'I',\n",
              "  'dont',\n",
              "  'know,',\n",
              "  'I',\n",
              "  'guess',\n",
              "  'it',\n",
              "  'can',\n",
              "  'be',\n",
              "  'nice',\n",
              "  'to',\n",
              "  'rant',\n",
              "  'to',\n",
              "  'someone',\n",
              "  'you',\n",
              "  'dont',\n",
              "  'know',\n",
              "  'irl/someone',\n",
              "  'who',\n",
              "  'can',\n",
              "  'look',\n",
              "  'at',\n",
              "  'the',\n",
              "  'situation',\n",
              "  'a',\n",
              "  'little',\n",
              "  'bit',\n",
              "  'more',\n",
              "  'objective?',\n",
              "  'I',\n",
              "  'think',\n",
              "  'a',\n",
              "  'lot',\n",
              "  'of',\n",
              "  'guys',\n",
              "  'also',\n",
              "  'feel',\n",
              "  'that',\n",
              "  'it',\n",
              "  'can',\n",
              "  'be',\n",
              "  'hard',\n",
              "  'to',\n",
              "  'talk',\n",
              "  'to',\n",
              "  'girl',\n",
              "  'friends',\n",
              "  'irl',\n",
              "  'about',\n",
              "  'their',\n",
              "  'innermost',\n",
              "  'feelings',\n",
              "  'sometimes,',\n",
              "  'thats',\n",
              "  'the',\n",
              "  'feeling',\n",
              "  'I',\n",
              "  'get',\n",
              "  'at',\n",
              "  'least.',\n",
              "  'My',\n",
              "  'friend',\n",
              "  'jokingly',\n",
              "  'refers',\n",
              "  'to',\n",
              "  'me',\n",
              "  'as',\n",
              "  'an',\n",
              "  'Agony',\n",
              "  'Aunt\"'],\n",
              " ['Friends',\n",
              "  'sometimes',\n",
              "  'come',\n",
              "  'up',\n",
              "  'to',\n",
              "  'me',\n",
              "  'and',\n",
              "  'ask',\n",
              "  'for',\n",
              "  'advice,',\n",
              "  '',\n",
              "  'I',\n",
              "  'try',\n",
              "  'and',\n",
              "  'give',\n",
              "  'it',\n",
              "  'the',\n",
              "  'best',\n",
              "  'I',\n",
              "  'possibly',\n",
              "  'can'],\n",
              " ['My',\n",
              "  'friend',\n",
              "  'dealt',\n",
              "  'with',\n",
              "  'anxiety',\n",
              "  'and',\n",
              "  'this',\n",
              "  'desire',\n",
              "  'for',\n",
              "  'everything',\n",
              "  'in',\n",
              "  'her',\n",
              "  'life',\n",
              "  'to',\n",
              "  'be',\n",
              "  'perfect,',\n",
              "  'she',\n",
              "  'describes',\n",
              "  'it',\n",
              "  'as',\n",
              "  'caring',\n",
              "  'what',\n",
              "  'happens',\n",
              "  'to',\n",
              "  'much,',\n",
              "  'but',\n",
              "  'either',\n",
              "  'way',\n",
              "  'I',\n",
              "  'simply',\n",
              "  'talked',\n",
              "  'to',\n",
              "  'her',\n",
              "  'and',\n",
              "  'when',\n",
              "  'she',\n",
              "  'would',\n",
              "  'try',\n",
              "  'and',\n",
              "  'change',\n",
              "  'the',\n",
              "  'subject',\n",
              "  'I',\n",
              "  'would',\n",
              "  'have',\n",
              "  'to',\n",
              "  'drag',\n",
              "  'her',\n",
              "  'back',\n",
              "  'in',\n",
              "  'due',\n",
              "  'the',\n",
              "  'fact',\n",
              "  'that',\n",
              "  'she',\n",
              "  \"didn't\",\n",
              "  'want',\n",
              "  'to',\n",
              "  'talk',\n",
              "  'about',\n",
              "  'it,',\n",
              "  'but',\n",
              "  'in',\n",
              "  'reality',\n",
              "  'she',\n",
              "  \"wouldn't\",\n",
              "  'get',\n",
              "  'better',\n",
              "  'unless',\n",
              "  'i',\n",
              "  'pulled',\n",
              "  'her',\n",
              "  'back',\n",
              "  'into',\n",
              "  'it',\n",
              "  'and',\n",
              "  'helped',\n",
              "  'her',\n",
              "  'through',\n",
              "  'it.',\n",
              "  'But',\n",
              "  'how',\n",
              "  'i',\n",
              "  'helped',\n",
              "  'was',\n",
              "  'by',\n",
              "  'basically',\n",
              "  'talking',\n",
              "  'to',\n",
              "  'her,',\n",
              "  'and',\n",
              "  'giving',\n",
              "  'her',\n",
              "  'the',\n",
              "  'advice',\n",
              "  'she',\n",
              "  'needed',\n",
              "  'to',\n",
              "  'hear,',\n",
              "  'not',\n",
              "  'the',\n",
              "  'one',\n",
              "  'she',\n",
              "  'wanted',\n",
              "  'to',\n",
              "  'such',\n",
              "  'as',\n",
              "  'oh',\n",
              "  \"you'll\",\n",
              "  'be',\n",
              "  'ok',\n",
              "  '',\n",
              "  'this',\n",
              "  'will',\n",
              "  'all',\n",
              "  'blow',\n",
              "  'over\"',\n",
              "  'what',\n",
              "  'i',\n",
              "  'said',\n",
              "  'was',\n",
              "  'more',\n",
              "  'along',\n",
              "  'the',\n",
              "  'lines',\n",
              "  'of',\n",
              "  'being',\n",
              "  'so',\n",
              "  'blunt',\n",
              "  'that',\n",
              "  'many',\n",
              "  'may',\n",
              "  'find',\n",
              "  'it',\n",
              "  'rude',\n",
              "  'but',\n",
              "  'for',\n",
              "  'her',\n",
              "  'and',\n",
              "  'i',\n",
              "  'it',\n",
              "  'was',\n",
              "  'essential',\n",
              "  'to',\n",
              "  'making',\n",
              "  'any',\n",
              "  'progress.\"\"y',\n",
              "  'friend',\n",
              "  'dealt',\n",
              "  'with',\n",
              "  'anxiety',\n",
              "  'and',\n",
              "  'this',\n",
              "  'desire',\n",
              "  'for',\n",
              "  'everything',\n",
              "  'in',\n",
              "  'her',\n",
              "  'life',\n",
              "  'to',\n",
              "  'be',\n",
              "  'perfect',\n",
              "  '',\n",
              "  'she',\n",
              "  'describes',\n",
              "  'it',\n",
              "  'as',\n",
              "  'caring',\n",
              "  'what',\n",
              "  'happens',\n",
              "  'to',\n",
              "  'much',\n",
              "  '',\n",
              "  'but',\n",
              "  'either',\n",
              "  'way',\n",
              "  'I',\n",
              "  'simply',\n",
              "  'talked',\n",
              "  'to',\n",
              "  'her',\n",
              "  'and',\n",
              "  'when',\n",
              "  '\"'],\n",
              " ['Simply',\n",
              "  'being',\n",
              "  'there',\n",
              "  'as',\n",
              "  'a',\n",
              "  'friend',\n",
              "  'for',\n",
              "  'somebody',\n",
              "  \"who's\",\n",
              "  'struggling.'],\n",
              " [\"I've\",\n",
              "  'had',\n",
              "  'some',\n",
              "  'friends',\n",
              "  'come',\n",
              "  'to',\n",
              "  'me',\n",
              "  'saying',\n",
              "  'people',\n",
              "  'or',\n",
              "  'acquaintances',\n",
              "  \"they've\",\n",
              "  'known',\n",
              "  'who',\n",
              "  'have',\n",
              "  'killed',\n",
              "  'themselves',\n",
              "  'try',\n",
              "  'and',\n",
              "  'find',\n",
              "  'comfort',\n",
              "  'with',\n",
              "  'me',\n",
              "  'because',\n",
              "  'my',\n",
              "  'best',\n",
              "  'friend',\n",
              "  'killed',\n",
              "  'himself',\n",
              "  'my',\n",
              "  'junior',\n",
              "  'year',\n",
              "  'of',\n",
              "  'high',\n",
              "  'school',\n",
              "  'so',\n",
              "  \"they've\",\n",
              "  'come',\n",
              "  'to',\n",
              "  'me',\n",
              "  'hoping',\n",
              "  'to',\n",
              "  'find',\n",
              "  'some',\n",
              "  'answers',\n",
              "  'or',\n",
              "  'peace',\n",
              "  'in',\n",
              "  'the',\n",
              "  'turmoil.'],\n",
              " ['People',\n",
              "  'calling,',\n",
              "  'talk',\n",
              "  'some',\n",
              "  'sense',\n",
              "  'into',\n",
              "  'them,',\n",
              "  'maybe',\n",
              "  'facebook',\n",
              "  'chat..'],\n",
              " ['Having',\n",
              "  'self',\n",
              "  'harmed',\n",
              "  'in',\n",
              "  'the',\n",
              "  'past,',\n",
              "  '',\n",
              "  'I',\n",
              "  'shared',\n",
              "  'my',\n",
              "  'experience',\n",
              "  'with',\n",
              "  'a',\n",
              "  'friend',\n",
              "  'in',\n",
              "  'hopes',\n",
              "  'of',\n",
              "  'swaying',\n",
              "  'her',\n",
              "  'from',\n",
              "  'those',\n",
              "  'actions.'],\n",
              " ['Have', 'worked', 'through', 'problems', 'with', 'friends'],\n",
              " ['When',\n",
              "  'my',\n",
              "  'friend',\n",
              "  'needed',\n",
              "  'help',\n",
              "  'when',\n",
              "  'she',\n",
              "  'was',\n",
              "  'going',\n",
              "  'through',\n",
              "  'some',\n",
              "  'tough',\n",
              "  'stuff.',\n",
              "  'I',\n",
              "  'knew',\n",
              "  'that',\n",
              "  'she',\n",
              "  'needed',\n",
              "  'it',\n",
              "  'but',\n",
              "  'she',\n",
              "  \"wouldn't\",\n",
              "  'admit',\n",
              "  'it.',\n",
              "  'So',\n",
              "  'I',\n",
              "  'brought',\n",
              "  'it',\n",
              "  'up',\n",
              "  'and',\n",
              "  'initiated',\n",
              "  'it',\n",
              "  'and',\n",
              "  'we',\n",
              "  'talked',\n",
              "  'about',\n",
              "  'it',\n",
              "  'and',\n",
              "  'it',\n",
              "  'really',\n",
              "  'helped',\n",
              "  'her.'],\n",
              " ['My',\n",
              "  'sister',\n",
              "  'has',\n",
              "  'some',\n",
              "  'pretty',\n",
              "  'severe',\n",
              "  'issues',\n",
              "  '',\n",
              "  'with',\n",
              "  'her',\n",
              "  'mental',\n",
              "  'health.',\n",
              "  'I',\n",
              "  'try',\n",
              "  'to',\n",
              "  'be',\n",
              "  'there',\n",
              "  'for',\n",
              "  'her',\n",
              "  'when',\n",
              "  'she',\n",
              "  'needs',\n",
              "  'it',\n",
              "  'and',\n",
              "  \"I'd\",\n",
              "  'like',\n",
              "  'to',\n",
              "  'think',\n",
              "  'its',\n",
              "  'helped',\n",
              "  'her.'],\n",
              " ['Helped', 'friends', 'through', 'stuff.'],\n",
              " ['I',\n",
              "  'helped',\n",
              "  'encourage',\n",
              "  'a',\n",
              "  'friend',\n",
              "  'to',\n",
              "  'go',\n",
              "  'to',\n",
              "  'therapy,',\n",
              "  'and',\n",
              "  'often',\n",
              "  'listened',\n",
              "  'to',\n",
              "  'their',\n",
              "  'problem',\n",
              "  'to',\n",
              "  'let',\n",
              "  'them',\n",
              "  'know',\n",
              "  'there',\n",
              "  'was',\n",
              "  'someone',\n",
              "  'there',\n",
              "  'for',\n",
              "  'them.'],\n",
              " ['I',\n",
              "  \"haven't\",\n",
              "  'really',\n",
              "  'met',\n",
              "  'anyone',\n",
              "  'dealing',\n",
              "  'with',\n",
              "  'attention',\n",
              "  'issues.',\n",
              "  'So',\n",
              "  'I',\n",
              "  \"haven't\",\n",
              "  'had',\n",
              "  'a',\n",
              "  'chance',\n",
              "  'to',\n",
              "  'help',\n",
              "  'unfortunately.'],\n",
              " ['there',\n",
              "  'are',\n",
              "  'too',\n",
              "  'many',\n",
              "  'to',\n",
              "  'remember',\n",
              "  'specifically,',\n",
              "  'but',\n",
              "  'being',\n",
              "  'as',\n",
              "  'helpful',\n",
              "  'and',\n",
              "  'rational',\n",
              "  'as',\n",
              "  'possible',\n",
              "  '(as',\n",
              "  'well',\n",
              "  'as',\n",
              "  'just',\n",
              "  'listening)',\n",
              "  'with',\n",
              "  'people',\n",
              "  'that',\n",
              "  'need',\n",
              "  'it',\n",
              "  'is',\n",
              "  'a',\n",
              "  'fairly',\n",
              "  'common',\n",
              "  'occurrence'],\n",
              " ['one',\n",
              "  'of',\n",
              "  'my',\n",
              "  'friends',\n",
              "  'was',\n",
              "  'feeling',\n",
              "  'down,',\n",
              "  'so',\n",
              "  'he',\n",
              "  'came',\n",
              "  'over',\n",
              "  'and',\n",
              "  'talked',\n",
              "  'it',\n",
              "  'out',\n",
              "  'while',\n",
              "  'I',\n",
              "  'listened',\n",
              "  'and',\n",
              "  'gave',\n",
              "  'him',\n",
              "  'some',\n",
              "  'input.'],\n",
              " ['never.'],\n",
              " ['I',\n",
              "  'have',\n",
              "  'tried',\n",
              "  'but',\n",
              "  'am',\n",
              "  'absolutely',\n",
              "  'horrable',\n",
              "  'at',\n",
              "  'it',\n",
              "  'and',\n",
              "  'am',\n",
              "  'way',\n",
              "  'too',\n",
              "  'blunt.'],\n",
              " ['Ex',\n",
              "  'girlfriend',\n",
              "  'had',\n",
              "  'depression',\n",
              "  'and',\n",
              "  'anxiety.',\n",
              "  'I',\n",
              "  'used',\n",
              "  'to',\n",
              "  'hold',\n",
              "  'her',\n",
              "  'and',\n",
              "  'listen',\n",
              "  'as',\n",
              "  'she',\n",
              "  'told',\n",
              "  'me',\n",
              "  'what',\n",
              "  'was',\n",
              "  'going',\n",
              "  'on'],\n",
              " ['Always.',\n",
              "  'I',\n",
              "  \"don't\",\n",
              "  'judge',\n",
              "  'people',\n",
              "  'to',\n",
              "  'much,',\n",
              "  'and',\n",
              "  'can',\n",
              "  'listen',\n",
              "  'well',\n",
              "  'most',\n",
              "  'of',\n",
              "  'the',\n",
              "  'time.',\n",
              "  'So',\n",
              "  'naturally',\n",
              "  'people',\n",
              "  'come',\n",
              "  'to',\n",
              "  'me',\n",
              "  'with',\n",
              "  'their',\n",
              "  'problems.'],\n",
              " ['My',\n",
              "  'grandmother',\n",
              "  'went',\n",
              "  'through',\n",
              "  'some',\n",
              "  'severe',\n",
              "  'depression',\n",
              "  'shortly',\n",
              "  'after',\n",
              "  'I',\n",
              "  'had',\n",
              "  'some',\n",
              "  'difficulties.',\n",
              "  'Using',\n",
              "  'my',\n",
              "  'personal',\n",
              "  'experience',\n",
              "  'to',\n",
              "  'relate',\n",
              "  'with',\n",
              "  'her',\n",
              "  'and',\n",
              "  'share',\n",
              "  'what',\n",
              "  'I',\n",
              "  'used',\n",
              "  'to',\n",
              "  'get',\n",
              "  'better',\n",
              "  'was',\n",
              "  'helpful',\n",
              "  'to',\n",
              "  'comfort',\n",
              "  'her.'],\n",
              " ['Now',\n",
              "  'that',\n",
              "  \"I've\",\n",
              "  'been',\n",
              "  'through',\n",
              "  'it,',\n",
              "  'although',\n",
              "  \"i'm\",\n",
              "  'not',\n",
              "  'even',\n",
              "  'where',\n",
              "  \"I'd\",\n",
              "  'like',\n",
              "  'to',\n",
              "  'be,',\n",
              "  \"I'm\",\n",
              "  'extremely',\n",
              "  'open',\n",
              "  'about',\n",
              "  'sharing',\n",
              "  'my',\n",
              "  'experience',\n",
              "  'with',\n",
              "  'others',\n",
              "  'and',\n",
              "  'helping',\n",
              "  'friends',\n",
              "  'going',\n",
              "  'through',\n",
              "  'similar',\n",
              "  'situations.',\n",
              "  'And',\n",
              "  'PLEASE',\n",
              "  'if',\n",
              "  'you',\n",
              "  'have',\n",
              "  'any',\n",
              "  'other',\n",
              "  'questions',\n",
              "  'about',\n",
              "  'my',\n",
              "  'situation',\n",
              "  \"don't\",\n",
              "  'hesitate',\n",
              "  'to',\n",
              "  'email',\n",
              "  'me.',\n",
              "  \"I'm\",\n",
              "  'an',\n",
              "  'open',\n",
              "  'book',\n",
              "  'and',\n",
              "  'excited',\n",
              "  'to',\n",
              "  'see',\n",
              "  'how',\n",
              "  'many',\n",
              "  'people',\n",
              "  \"you're\",\n",
              "  'going',\n",
              "  'to',\n",
              "  'help.'],\n",
              " ['when',\n",
              "  'my',\n",
              "  'best',\n",
              "  'friends',\n",
              "  'mom',\n",
              "  'past',\n",
              "  'away',\n",
              "  'from',\n",
              "  \"od'ing\",\n",
              "  'when',\n",
              "  'he',\n",
              "  'was',\n",
              "  'in',\n",
              "  'grade',\n",
              "  '5'],\n",
              " ['As',\n",
              "  'a',\n",
              "  'camp',\n",
              "  'counselor',\n",
              "  'I',\n",
              "  'provide',\n",
              "  'stability',\n",
              "  'in',\n",
              "  'kids',\n",
              "  'lives',\n",
              "  'who',\n",
              "  'may',\n",
              "  'have',\n",
              "  'troubled',\n",
              "  'home',\n",
              "  'situations.'],\n",
              " ['My',\n",
              "  'now',\n",
              "  'girlfriend',\n",
              "  'used',\n",
              "  'to',\n",
              "  'have',\n",
              "  'serious',\n",
              "  'addiction',\n",
              "  'troubles',\n",
              "  'before',\n",
              "  'we',\n",
              "  'started',\n",
              "  'dating',\n",
              "  'and',\n",
              "  'felt',\n",
              "  'as',\n",
              "  'though',\n",
              "  'her',\n",
              "  'addiction',\n",
              "  'defined',\n",
              "  'her',\n",
              "  'as',\n",
              "  'a',\n",
              "  'person.',\n",
              "  'She',\n",
              "  'thought',\n",
              "  'that',\n",
              "  'all',\n",
              "  'people',\n",
              "  'saw',\n",
              "  'when',\n",
              "  'they',\n",
              "  'looked',\n",
              "  'at',\n",
              "  'her',\n",
              "  'was',\n",
              "  'the',\n",
              "  'addiction.',\n",
              "  'I',\n",
              "  'spent',\n",
              "  'many',\n",
              "  'nights',\n",
              "  'with',\n",
              "  'her',\n",
              "  'talking',\n",
              "  'and',\n",
              "  'letting',\n",
              "  'her',\n",
              "  'vent.',\n",
              "  'I',\n",
              "  'was',\n",
              "  'one',\n",
              "  'of',\n",
              "  'the',\n",
              "  'only',\n",
              "  'people',\n",
              "  'supporting',\n",
              "  'her',\n",
              "  'and',\n",
              "  'she',\n",
              "  'felt',\n",
              "  'as',\n",
              "  'though',\n",
              "  'I',\n",
              "  'could',\n",
              "  'help',\n",
              "  'because',\n",
              "  'I',\n",
              "  'had',\n",
              "  'been',\n",
              "  'in',\n",
              "  'her',\n",
              "  'spot.'],\n",
              " ['The',\n",
              "  'one',\n",
              "  'person',\n",
              "  'I',\n",
              "  'ever',\n",
              "  'talked',\n",
              "  'to',\n",
              "  'it',\n",
              "  'was',\n",
              "  'because',\n",
              "  'we',\n",
              "  'were',\n",
              "  'both',\n",
              "  'going',\n",
              "  'through',\n",
              "  'the',\n",
              "  'same',\n",
              "  'thing.',\n",
              "  'Us',\n",
              "  'talking',\n",
              "  'together',\n",
              "  'helped,',\n",
              "  'it',\n",
              "  'was',\n",
              "  'important',\n",
              "  'to',\n",
              "  'realize',\n",
              "  'you',\n",
              "  \"aren't\",\n",
              "  'alone']]"
            ]
          },
          "execution_count": 24,
          "metadata": {},
          "output_type": "execute_result"
        }
      ],
      "source": [
        "splitted_words"
      ]
    },
    {
      "cell_type": "code",
      "execution_count": 14,
      "metadata": {},
      "outputs": [
        {
          "data": {
            "application/vnd.plotly.v1+json": {
              "config": {
                "plotlyServerURL": "https://plot.ly"
              },
              "data": [
                {
                  "alignmentgroup": "True",
                  "hovertemplate": "word=%{x}<br>tfidf_score_sum=%{y}<extra></extra>",
                  "legendgroup": "",
                  "marker": {
                    "color": "#636efa",
                    "pattern": {
                      "shape": ""
                    }
                  },
                  "name": "",
                  "offsetgroup": "",
                  "orientation": "v",
                  "showlegend": false,
                  "textposition": "auto",
                  "type": "bar",
                  "x": [
                    "self",
                    "diagnosed",
                    "time",
                    "think",
                    "managed",
                    "days",
                    "thinking",
                    "problems",
                    "sure",
                    "intense",
                    "period",
                    "like",
                    "way",
                    "talked",
                    "mother",
                    "girlfriend",
                    "sister",
                    "try",
                    "support",
                    "experience",
                    "life",
                    "personal",
                    "did",
                    "listen",
                    "having",
                    "mental",
                    "past",
                    "help",
                    "gf",
                    "ex",
                    "talk",
                    "severe",
                    "ve",
                    "used",
                    "alcoholic",
                    "helping",
                    "issues",
                    "dealing",
                    "tried",
                    "anxiety",
                    "school",
                    "suicide",
                    "helped",
                    "addiction",
                    "people",
                    "best",
                    "going",
                    "friends",
                    "depression",
                    "friend"
                  ],
                  "xaxis": "x",
                  "y": [
                    0.46931185707741147,
                    0.4701413805304782,
                    0.4701413805304782,
                    0.4717297005754083,
                    0.4753013193081607,
                    0.4753013193081607,
                    0.4753013193081607,
                    0.4820349287449691,
                    0.4952145159798505,
                    0.4952145159798505,
                    0.4952145159798505,
                    0.4964374018868231,
                    0.5005941020731227,
                    0.5226735988462043,
                    0.5283718550575307,
                    0.5284556467333926,
                    0.5365603252375727,
                    0.5503701105889941,
                    0.5531228170171113,
                    0.5624985401052253,
                    0.5692845930706323,
                    0.5767654810182372,
                    0.5880894692840025,
                    0.5901667189978359,
                    0.6360325503908378,
                    0.6466913586385054,
                    0.6484985449611657,
                    0.653540961534342,
                    0.6754815569159349,
                    0.677559822164576,
                    0.7058111083132407,
                    0.707634261497178,
                    0.7124515177275044,
                    0.7131317502966054,
                    0.7514337411488758,
                    0.7514337411488758,
                    0.7978329375860824,
                    0.8043239998448755,
                    0.8208123930175144,
                    0.8245721751800652,
                    0.8613670974489382,
                    0.8637112742552103,
                    0.8798134347395865,
                    0.9079979328128758,
                    0.9303916475095917,
                    1.0235215672630262,
                    1.2467300657693863,
                    1.2875889855245297,
                    1.3889621192180432,
                    1.9296343305049115
                  ],
                  "yaxis": "y"
                }
              ],
              "layout": {
                "barmode": "relative",
                "legend": {
                  "tracegroupgap": 0
                },
                "margin": {
                  "t": 60
                },
                "template": {
                  "data": {
                    "bar": [
                      {
                        "error_x": {
                          "color": "#2a3f5f"
                        },
                        "error_y": {
                          "color": "#2a3f5f"
                        },
                        "marker": {
                          "line": {
                            "color": "#E5ECF6",
                            "width": 0.5
                          },
                          "pattern": {
                            "fillmode": "overlay",
                            "size": 10,
                            "solidity": 0.2
                          }
                        },
                        "type": "bar"
                      }
                    ],
                    "barpolar": [
                      {
                        "marker": {
                          "line": {
                            "color": "#E5ECF6",
                            "width": 0.5
                          },
                          "pattern": {
                            "fillmode": "overlay",
                            "size": 10,
                            "solidity": 0.2
                          }
                        },
                        "type": "barpolar"
                      }
                    ],
                    "carpet": [
                      {
                        "aaxis": {
                          "endlinecolor": "#2a3f5f",
                          "gridcolor": "white",
                          "linecolor": "white",
                          "minorgridcolor": "white",
                          "startlinecolor": "#2a3f5f"
                        },
                        "baxis": {
                          "endlinecolor": "#2a3f5f",
                          "gridcolor": "white",
                          "linecolor": "white",
                          "minorgridcolor": "white",
                          "startlinecolor": "#2a3f5f"
                        },
                        "type": "carpet"
                      }
                    ],
                    "choropleth": [
                      {
                        "colorbar": {
                          "outlinewidth": 0,
                          "ticks": ""
                        },
                        "type": "choropleth"
                      }
                    ],
                    "contour": [
                      {
                        "colorbar": {
                          "outlinewidth": 0,
                          "ticks": ""
                        },
                        "colorscale": [
                          [
                            0,
                            "#0d0887"
                          ],
                          [
                            0.1111111111111111,
                            "#46039f"
                          ],
                          [
                            0.2222222222222222,
                            "#7201a8"
                          ],
                          [
                            0.3333333333333333,
                            "#9c179e"
                          ],
                          [
                            0.4444444444444444,
                            "#bd3786"
                          ],
                          [
                            0.5555555555555556,
                            "#d8576b"
                          ],
                          [
                            0.6666666666666666,
                            "#ed7953"
                          ],
                          [
                            0.7777777777777778,
                            "#fb9f3a"
                          ],
                          [
                            0.8888888888888888,
                            "#fdca26"
                          ],
                          [
                            1,
                            "#f0f921"
                          ]
                        ],
                        "type": "contour"
                      }
                    ],
                    "contourcarpet": [
                      {
                        "colorbar": {
                          "outlinewidth": 0,
                          "ticks": ""
                        },
                        "type": "contourcarpet"
                      }
                    ],
                    "heatmap": [
                      {
                        "colorbar": {
                          "outlinewidth": 0,
                          "ticks": ""
                        },
                        "colorscale": [
                          [
                            0,
                            "#0d0887"
                          ],
                          [
                            0.1111111111111111,
                            "#46039f"
                          ],
                          [
                            0.2222222222222222,
                            "#7201a8"
                          ],
                          [
                            0.3333333333333333,
                            "#9c179e"
                          ],
                          [
                            0.4444444444444444,
                            "#bd3786"
                          ],
                          [
                            0.5555555555555556,
                            "#d8576b"
                          ],
                          [
                            0.6666666666666666,
                            "#ed7953"
                          ],
                          [
                            0.7777777777777778,
                            "#fb9f3a"
                          ],
                          [
                            0.8888888888888888,
                            "#fdca26"
                          ],
                          [
                            1,
                            "#f0f921"
                          ]
                        ],
                        "type": "heatmap"
                      }
                    ],
                    "heatmapgl": [
                      {
                        "colorbar": {
                          "outlinewidth": 0,
                          "ticks": ""
                        },
                        "colorscale": [
                          [
                            0,
                            "#0d0887"
                          ],
                          [
                            0.1111111111111111,
                            "#46039f"
                          ],
                          [
                            0.2222222222222222,
                            "#7201a8"
                          ],
                          [
                            0.3333333333333333,
                            "#9c179e"
                          ],
                          [
                            0.4444444444444444,
                            "#bd3786"
                          ],
                          [
                            0.5555555555555556,
                            "#d8576b"
                          ],
                          [
                            0.6666666666666666,
                            "#ed7953"
                          ],
                          [
                            0.7777777777777778,
                            "#fb9f3a"
                          ],
                          [
                            0.8888888888888888,
                            "#fdca26"
                          ],
                          [
                            1,
                            "#f0f921"
                          ]
                        ],
                        "type": "heatmapgl"
                      }
                    ],
                    "histogram": [
                      {
                        "marker": {
                          "pattern": {
                            "fillmode": "overlay",
                            "size": 10,
                            "solidity": 0.2
                          }
                        },
                        "type": "histogram"
                      }
                    ],
                    "histogram2d": [
                      {
                        "colorbar": {
                          "outlinewidth": 0,
                          "ticks": ""
                        },
                        "colorscale": [
                          [
                            0,
                            "#0d0887"
                          ],
                          [
                            0.1111111111111111,
                            "#46039f"
                          ],
                          [
                            0.2222222222222222,
                            "#7201a8"
                          ],
                          [
                            0.3333333333333333,
                            "#9c179e"
                          ],
                          [
                            0.4444444444444444,
                            "#bd3786"
                          ],
                          [
                            0.5555555555555556,
                            "#d8576b"
                          ],
                          [
                            0.6666666666666666,
                            "#ed7953"
                          ],
                          [
                            0.7777777777777778,
                            "#fb9f3a"
                          ],
                          [
                            0.8888888888888888,
                            "#fdca26"
                          ],
                          [
                            1,
                            "#f0f921"
                          ]
                        ],
                        "type": "histogram2d"
                      }
                    ],
                    "histogram2dcontour": [
                      {
                        "colorbar": {
                          "outlinewidth": 0,
                          "ticks": ""
                        },
                        "colorscale": [
                          [
                            0,
                            "#0d0887"
                          ],
                          [
                            0.1111111111111111,
                            "#46039f"
                          ],
                          [
                            0.2222222222222222,
                            "#7201a8"
                          ],
                          [
                            0.3333333333333333,
                            "#9c179e"
                          ],
                          [
                            0.4444444444444444,
                            "#bd3786"
                          ],
                          [
                            0.5555555555555556,
                            "#d8576b"
                          ],
                          [
                            0.6666666666666666,
                            "#ed7953"
                          ],
                          [
                            0.7777777777777778,
                            "#fb9f3a"
                          ],
                          [
                            0.8888888888888888,
                            "#fdca26"
                          ],
                          [
                            1,
                            "#f0f921"
                          ]
                        ],
                        "type": "histogram2dcontour"
                      }
                    ],
                    "mesh3d": [
                      {
                        "colorbar": {
                          "outlinewidth": 0,
                          "ticks": ""
                        },
                        "type": "mesh3d"
                      }
                    ],
                    "parcoords": [
                      {
                        "line": {
                          "colorbar": {
                            "outlinewidth": 0,
                            "ticks": ""
                          }
                        },
                        "type": "parcoords"
                      }
                    ],
                    "pie": [
                      {
                        "automargin": true,
                        "type": "pie"
                      }
                    ],
                    "scatter": [
                      {
                        "fillpattern": {
                          "fillmode": "overlay",
                          "size": 10,
                          "solidity": 0.2
                        },
                        "type": "scatter"
                      }
                    ],
                    "scatter3d": [
                      {
                        "line": {
                          "colorbar": {
                            "outlinewidth": 0,
                            "ticks": ""
                          }
                        },
                        "marker": {
                          "colorbar": {
                            "outlinewidth": 0,
                            "ticks": ""
                          }
                        },
                        "type": "scatter3d"
                      }
                    ],
                    "scattercarpet": [
                      {
                        "marker": {
                          "colorbar": {
                            "outlinewidth": 0,
                            "ticks": ""
                          }
                        },
                        "type": "scattercarpet"
                      }
                    ],
                    "scattergeo": [
                      {
                        "marker": {
                          "colorbar": {
                            "outlinewidth": 0,
                            "ticks": ""
                          }
                        },
                        "type": "scattergeo"
                      }
                    ],
                    "scattergl": [
                      {
                        "marker": {
                          "colorbar": {
                            "outlinewidth": 0,
                            "ticks": ""
                          }
                        },
                        "type": "scattergl"
                      }
                    ],
                    "scattermapbox": [
                      {
                        "marker": {
                          "colorbar": {
                            "outlinewidth": 0,
                            "ticks": ""
                          }
                        },
                        "type": "scattermapbox"
                      }
                    ],
                    "scatterpolar": [
                      {
                        "marker": {
                          "colorbar": {
                            "outlinewidth": 0,
                            "ticks": ""
                          }
                        },
                        "type": "scatterpolar"
                      }
                    ],
                    "scatterpolargl": [
                      {
                        "marker": {
                          "colorbar": {
                            "outlinewidth": 0,
                            "ticks": ""
                          }
                        },
                        "type": "scatterpolargl"
                      }
                    ],
                    "scatterternary": [
                      {
                        "marker": {
                          "colorbar": {
                            "outlinewidth": 0,
                            "ticks": ""
                          }
                        },
                        "type": "scatterternary"
                      }
                    ],
                    "surface": [
                      {
                        "colorbar": {
                          "outlinewidth": 0,
                          "ticks": ""
                        },
                        "colorscale": [
                          [
                            0,
                            "#0d0887"
                          ],
                          [
                            0.1111111111111111,
                            "#46039f"
                          ],
                          [
                            0.2222222222222222,
                            "#7201a8"
                          ],
                          [
                            0.3333333333333333,
                            "#9c179e"
                          ],
                          [
                            0.4444444444444444,
                            "#bd3786"
                          ],
                          [
                            0.5555555555555556,
                            "#d8576b"
                          ],
                          [
                            0.6666666666666666,
                            "#ed7953"
                          ],
                          [
                            0.7777777777777778,
                            "#fb9f3a"
                          ],
                          [
                            0.8888888888888888,
                            "#fdca26"
                          ],
                          [
                            1,
                            "#f0f921"
                          ]
                        ],
                        "type": "surface"
                      }
                    ],
                    "table": [
                      {
                        "cells": {
                          "fill": {
                            "color": "#EBF0F8"
                          },
                          "line": {
                            "color": "white"
                          }
                        },
                        "header": {
                          "fill": {
                            "color": "#C8D4E3"
                          },
                          "line": {
                            "color": "white"
                          }
                        },
                        "type": "table"
                      }
                    ]
                  },
                  "layout": {
                    "annotationdefaults": {
                      "arrowcolor": "#2a3f5f",
                      "arrowhead": 0,
                      "arrowwidth": 1
                    },
                    "autotypenumbers": "strict",
                    "coloraxis": {
                      "colorbar": {
                        "outlinewidth": 0,
                        "ticks": ""
                      }
                    },
                    "colorscale": {
                      "diverging": [
                        [
                          0,
                          "#8e0152"
                        ],
                        [
                          0.1,
                          "#c51b7d"
                        ],
                        [
                          0.2,
                          "#de77ae"
                        ],
                        [
                          0.3,
                          "#f1b6da"
                        ],
                        [
                          0.4,
                          "#fde0ef"
                        ],
                        [
                          0.5,
                          "#f7f7f7"
                        ],
                        [
                          0.6,
                          "#e6f5d0"
                        ],
                        [
                          0.7,
                          "#b8e186"
                        ],
                        [
                          0.8,
                          "#7fbc41"
                        ],
                        [
                          0.9,
                          "#4d9221"
                        ],
                        [
                          1,
                          "#276419"
                        ]
                      ],
                      "sequential": [
                        [
                          0,
                          "#0d0887"
                        ],
                        [
                          0.1111111111111111,
                          "#46039f"
                        ],
                        [
                          0.2222222222222222,
                          "#7201a8"
                        ],
                        [
                          0.3333333333333333,
                          "#9c179e"
                        ],
                        [
                          0.4444444444444444,
                          "#bd3786"
                        ],
                        [
                          0.5555555555555556,
                          "#d8576b"
                        ],
                        [
                          0.6666666666666666,
                          "#ed7953"
                        ],
                        [
                          0.7777777777777778,
                          "#fb9f3a"
                        ],
                        [
                          0.8888888888888888,
                          "#fdca26"
                        ],
                        [
                          1,
                          "#f0f921"
                        ]
                      ],
                      "sequentialminus": [
                        [
                          0,
                          "#0d0887"
                        ],
                        [
                          0.1111111111111111,
                          "#46039f"
                        ],
                        [
                          0.2222222222222222,
                          "#7201a8"
                        ],
                        [
                          0.3333333333333333,
                          "#9c179e"
                        ],
                        [
                          0.4444444444444444,
                          "#bd3786"
                        ],
                        [
                          0.5555555555555556,
                          "#d8576b"
                        ],
                        [
                          0.6666666666666666,
                          "#ed7953"
                        ],
                        [
                          0.7777777777777778,
                          "#fb9f3a"
                        ],
                        [
                          0.8888888888888888,
                          "#fdca26"
                        ],
                        [
                          1,
                          "#f0f921"
                        ]
                      ]
                    },
                    "colorway": [
                      "#636efa",
                      "#EF553B",
                      "#00cc96",
                      "#ab63fa",
                      "#FFA15A",
                      "#19d3f3",
                      "#FF6692",
                      "#B6E880",
                      "#FF97FF",
                      "#FECB52"
                    ],
                    "font": {
                      "color": "#2a3f5f"
                    },
                    "geo": {
                      "bgcolor": "white",
                      "lakecolor": "white",
                      "landcolor": "#E5ECF6",
                      "showlakes": true,
                      "showland": true,
                      "subunitcolor": "white"
                    },
                    "hoverlabel": {
                      "align": "left"
                    },
                    "hovermode": "closest",
                    "mapbox": {
                      "style": "light"
                    },
                    "paper_bgcolor": "white",
                    "plot_bgcolor": "#E5ECF6",
                    "polar": {
                      "angularaxis": {
                        "gridcolor": "white",
                        "linecolor": "white",
                        "ticks": ""
                      },
                      "bgcolor": "#E5ECF6",
                      "radialaxis": {
                        "gridcolor": "white",
                        "linecolor": "white",
                        "ticks": ""
                      }
                    },
                    "scene": {
                      "xaxis": {
                        "backgroundcolor": "#E5ECF6",
                        "gridcolor": "white",
                        "gridwidth": 2,
                        "linecolor": "white",
                        "showbackground": true,
                        "ticks": "",
                        "zerolinecolor": "white"
                      },
                      "yaxis": {
                        "backgroundcolor": "#E5ECF6",
                        "gridcolor": "white",
                        "gridwidth": 2,
                        "linecolor": "white",
                        "showbackground": true,
                        "ticks": "",
                        "zerolinecolor": "white"
                      },
                      "zaxis": {
                        "backgroundcolor": "#E5ECF6",
                        "gridcolor": "white",
                        "gridwidth": 2,
                        "linecolor": "white",
                        "showbackground": true,
                        "ticks": "",
                        "zerolinecolor": "white"
                      }
                    },
                    "shapedefaults": {
                      "line": {
                        "color": "#2a3f5f"
                      }
                    },
                    "ternary": {
                      "aaxis": {
                        "gridcolor": "white",
                        "linecolor": "white",
                        "ticks": ""
                      },
                      "baxis": {
                        "gridcolor": "white",
                        "linecolor": "white",
                        "ticks": ""
                      },
                      "bgcolor": "#E5ECF6",
                      "caxis": {
                        "gridcolor": "white",
                        "linecolor": "white",
                        "ticks": ""
                      }
                    },
                    "title": {
                      "x": 0.05
                    },
                    "xaxis": {
                      "automargin": true,
                      "gridcolor": "white",
                      "linecolor": "white",
                      "ticks": "",
                      "title": {
                        "standoff": 15
                      },
                      "zerolinecolor": "white",
                      "zerolinewidth": 2
                    },
                    "yaxis": {
                      "automargin": true,
                      "gridcolor": "white",
                      "linecolor": "white",
                      "ticks": "",
                      "title": {
                        "standoff": 15
                      },
                      "zerolinecolor": "white",
                      "zerolinewidth": 2
                    }
                  }
                },
                "xaxis": {
                  "anchor": "y",
                  "domain": [
                    0,
                    1
                  ],
                  "tickangle": -45,
                  "title": {
                    "text": "word"
                  }
                },
                "yaxis": {
                  "anchor": "x",
                  "domain": [
                    0,
                    1
                  ],
                  "title": {
                    "text": "tfidf_score_sum"
                  }
                }
              }
            },
            "text/html": [
              "<div>                            <div id=\"7222eda6-8ff4-46e8-af4b-10ef75800dcc\" class=\"plotly-graph-div\" style=\"height:525px; width:100%;\"></div>            <script type=\"text/javascript\">                require([\"plotly\"], function(Plotly) {                    window.PLOTLYENV=window.PLOTLYENV || {};                                    if (document.getElementById(\"7222eda6-8ff4-46e8-af4b-10ef75800dcc\")) {                    Plotly.newPlot(                        \"7222eda6-8ff4-46e8-af4b-10ef75800dcc\",                        [{\"alignmentgroup\":\"True\",\"hovertemplate\":\"word=%{x}<br>tfidf_score_sum=%{y}<extra></extra>\",\"legendgroup\":\"\",\"marker\":{\"color\":\"#636efa\",\"pattern\":{\"shape\":\"\"}},\"name\":\"\",\"offsetgroup\":\"\",\"orientation\":\"v\",\"showlegend\":false,\"textposition\":\"auto\",\"x\":[\"self\",\"diagnosed\",\"time\",\"think\",\"managed\",\"days\",\"thinking\",\"problems\",\"sure\",\"intense\",\"period\",\"like\",\"way\",\"talked\",\"mother\",\"girlfriend\",\"sister\",\"try\",\"support\",\"experience\",\"life\",\"personal\",\"did\",\"listen\",\"having\",\"mental\",\"past\",\"help\",\"gf\",\"ex\",\"talk\",\"severe\",\"ve\",\"used\",\"alcoholic\",\"helping\",\"issues\",\"dealing\",\"tried\",\"anxiety\",\"school\",\"suicide\",\"helped\",\"addiction\",\"people\",\"best\",\"going\",\"friends\",\"depression\",\"friend\"],\"xaxis\":\"x\",\"y\":[0.46931185707741147,0.4701413805304782,0.4701413805304782,0.4717297005754083,0.4753013193081607,0.4753013193081607,0.4753013193081607,0.4820349287449691,0.4952145159798505,0.4952145159798505,0.4952145159798505,0.4964374018868231,0.5005941020731227,0.5226735988462043,0.5283718550575307,0.5284556467333926,0.5365603252375727,0.5503701105889941,0.5531228170171113,0.5624985401052253,0.5692845930706323,0.5767654810182372,0.5880894692840025,0.5901667189978359,0.6360325503908378,0.6466913586385054,0.6484985449611657,0.653540961534342,0.6754815569159349,0.677559822164576,0.7058111083132407,0.707634261497178,0.7124515177275044,0.7131317502966054,0.7514337411488758,0.7514337411488758,0.7978329375860824,0.8043239998448755,0.8208123930175144,0.8245721751800652,0.8613670974489382,0.8637112742552103,0.8798134347395865,0.9079979328128758,0.9303916475095917,1.0235215672630262,1.2467300657693863,1.2875889855245297,1.3889621192180432,1.9296343305049115],\"yaxis\":\"y\",\"type\":\"bar\"}],                        {\"template\":{\"data\":{\"histogram2dcontour\":[{\"type\":\"histogram2dcontour\",\"colorbar\":{\"outlinewidth\":0,\"ticks\":\"\"},\"colorscale\":[[0.0,\"#0d0887\"],[0.1111111111111111,\"#46039f\"],[0.2222222222222222,\"#7201a8\"],[0.3333333333333333,\"#9c179e\"],[0.4444444444444444,\"#bd3786\"],[0.5555555555555556,\"#d8576b\"],[0.6666666666666666,\"#ed7953\"],[0.7777777777777778,\"#fb9f3a\"],[0.8888888888888888,\"#fdca26\"],[1.0,\"#f0f921\"]]}],\"choropleth\":[{\"type\":\"choropleth\",\"colorbar\":{\"outlinewidth\":0,\"ticks\":\"\"}}],\"histogram2d\":[{\"type\":\"histogram2d\",\"colorbar\":{\"outlinewidth\":0,\"ticks\":\"\"},\"colorscale\":[[0.0,\"#0d0887\"],[0.1111111111111111,\"#46039f\"],[0.2222222222222222,\"#7201a8\"],[0.3333333333333333,\"#9c179e\"],[0.4444444444444444,\"#bd3786\"],[0.5555555555555556,\"#d8576b\"],[0.6666666666666666,\"#ed7953\"],[0.7777777777777778,\"#fb9f3a\"],[0.8888888888888888,\"#fdca26\"],[1.0,\"#f0f921\"]]}],\"heatmap\":[{\"type\":\"heatmap\",\"colorbar\":{\"outlinewidth\":0,\"ticks\":\"\"},\"colorscale\":[[0.0,\"#0d0887\"],[0.1111111111111111,\"#46039f\"],[0.2222222222222222,\"#7201a8\"],[0.3333333333333333,\"#9c179e\"],[0.4444444444444444,\"#bd3786\"],[0.5555555555555556,\"#d8576b\"],[0.6666666666666666,\"#ed7953\"],[0.7777777777777778,\"#fb9f3a\"],[0.8888888888888888,\"#fdca26\"],[1.0,\"#f0f921\"]]}],\"heatmapgl\":[{\"type\":\"heatmapgl\",\"colorbar\":{\"outlinewidth\":0,\"ticks\":\"\"},\"colorscale\":[[0.0,\"#0d0887\"],[0.1111111111111111,\"#46039f\"],[0.2222222222222222,\"#7201a8\"],[0.3333333333333333,\"#9c179e\"],[0.4444444444444444,\"#bd3786\"],[0.5555555555555556,\"#d8576b\"],[0.6666666666666666,\"#ed7953\"],[0.7777777777777778,\"#fb9f3a\"],[0.8888888888888888,\"#fdca26\"],[1.0,\"#f0f921\"]]}],\"contourcarpet\":[{\"type\":\"contourcarpet\",\"colorbar\":{\"outlinewidth\":0,\"ticks\":\"\"}}],\"contour\":[{\"type\":\"contour\",\"colorbar\":{\"outlinewidth\":0,\"ticks\":\"\"},\"colorscale\":[[0.0,\"#0d0887\"],[0.1111111111111111,\"#46039f\"],[0.2222222222222222,\"#7201a8\"],[0.3333333333333333,\"#9c179e\"],[0.4444444444444444,\"#bd3786\"],[0.5555555555555556,\"#d8576b\"],[0.6666666666666666,\"#ed7953\"],[0.7777777777777778,\"#fb9f3a\"],[0.8888888888888888,\"#fdca26\"],[1.0,\"#f0f921\"]]}],\"surface\":[{\"type\":\"surface\",\"colorbar\":{\"outlinewidth\":0,\"ticks\":\"\"},\"colorscale\":[[0.0,\"#0d0887\"],[0.1111111111111111,\"#46039f\"],[0.2222222222222222,\"#7201a8\"],[0.3333333333333333,\"#9c179e\"],[0.4444444444444444,\"#bd3786\"],[0.5555555555555556,\"#d8576b\"],[0.6666666666666666,\"#ed7953\"],[0.7777777777777778,\"#fb9f3a\"],[0.8888888888888888,\"#fdca26\"],[1.0,\"#f0f921\"]]}],\"mesh3d\":[{\"type\":\"mesh3d\",\"colorbar\":{\"outlinewidth\":0,\"ticks\":\"\"}}],\"scatter\":[{\"fillpattern\":{\"fillmode\":\"overlay\",\"size\":10,\"solidity\":0.2},\"type\":\"scatter\"}],\"parcoords\":[{\"type\":\"parcoords\",\"line\":{\"colorbar\":{\"outlinewidth\":0,\"ticks\":\"\"}}}],\"scatterpolargl\":[{\"type\":\"scatterpolargl\",\"marker\":{\"colorbar\":{\"outlinewidth\":0,\"ticks\":\"\"}}}],\"bar\":[{\"error_x\":{\"color\":\"#2a3f5f\"},\"error_y\":{\"color\":\"#2a3f5f\"},\"marker\":{\"line\":{\"color\":\"#E5ECF6\",\"width\":0.5},\"pattern\":{\"fillmode\":\"overlay\",\"size\":10,\"solidity\":0.2}},\"type\":\"bar\"}],\"scattergeo\":[{\"type\":\"scattergeo\",\"marker\":{\"colorbar\":{\"outlinewidth\":0,\"ticks\":\"\"}}}],\"scatterpolar\":[{\"type\":\"scatterpolar\",\"marker\":{\"colorbar\":{\"outlinewidth\":0,\"ticks\":\"\"}}}],\"histogram\":[{\"marker\":{\"pattern\":{\"fillmode\":\"overlay\",\"size\":10,\"solidity\":0.2}},\"type\":\"histogram\"}],\"scattergl\":[{\"type\":\"scattergl\",\"marker\":{\"colorbar\":{\"outlinewidth\":0,\"ticks\":\"\"}}}],\"scatter3d\":[{\"type\":\"scatter3d\",\"line\":{\"colorbar\":{\"outlinewidth\":0,\"ticks\":\"\"}},\"marker\":{\"colorbar\":{\"outlinewidth\":0,\"ticks\":\"\"}}}],\"scattermapbox\":[{\"type\":\"scattermapbox\",\"marker\":{\"colorbar\":{\"outlinewidth\":0,\"ticks\":\"\"}}}],\"scatterternary\":[{\"type\":\"scatterternary\",\"marker\":{\"colorbar\":{\"outlinewidth\":0,\"ticks\":\"\"}}}],\"scattercarpet\":[{\"type\":\"scattercarpet\",\"marker\":{\"colorbar\":{\"outlinewidth\":0,\"ticks\":\"\"}}}],\"carpet\":[{\"aaxis\":{\"endlinecolor\":\"#2a3f5f\",\"gridcolor\":\"white\",\"linecolor\":\"white\",\"minorgridcolor\":\"white\",\"startlinecolor\":\"#2a3f5f\"},\"baxis\":{\"endlinecolor\":\"#2a3f5f\",\"gridcolor\":\"white\",\"linecolor\":\"white\",\"minorgridcolor\":\"white\",\"startlinecolor\":\"#2a3f5f\"},\"type\":\"carpet\"}],\"table\":[{\"cells\":{\"fill\":{\"color\":\"#EBF0F8\"},\"line\":{\"color\":\"white\"}},\"header\":{\"fill\":{\"color\":\"#C8D4E3\"},\"line\":{\"color\":\"white\"}},\"type\":\"table\"}],\"barpolar\":[{\"marker\":{\"line\":{\"color\":\"#E5ECF6\",\"width\":0.5},\"pattern\":{\"fillmode\":\"overlay\",\"size\":10,\"solidity\":0.2}},\"type\":\"barpolar\"}],\"pie\":[{\"automargin\":true,\"type\":\"pie\"}]},\"layout\":{\"autotypenumbers\":\"strict\",\"colorway\":[\"#636efa\",\"#EF553B\",\"#00cc96\",\"#ab63fa\",\"#FFA15A\",\"#19d3f3\",\"#FF6692\",\"#B6E880\",\"#FF97FF\",\"#FECB52\"],\"font\":{\"color\":\"#2a3f5f\"},\"hovermode\":\"closest\",\"hoverlabel\":{\"align\":\"left\"},\"paper_bgcolor\":\"white\",\"plot_bgcolor\":\"#E5ECF6\",\"polar\":{\"bgcolor\":\"#E5ECF6\",\"angularaxis\":{\"gridcolor\":\"white\",\"linecolor\":\"white\",\"ticks\":\"\"},\"radialaxis\":{\"gridcolor\":\"white\",\"linecolor\":\"white\",\"ticks\":\"\"}},\"ternary\":{\"bgcolor\":\"#E5ECF6\",\"aaxis\":{\"gridcolor\":\"white\",\"linecolor\":\"white\",\"ticks\":\"\"},\"baxis\":{\"gridcolor\":\"white\",\"linecolor\":\"white\",\"ticks\":\"\"},\"caxis\":{\"gridcolor\":\"white\",\"linecolor\":\"white\",\"ticks\":\"\"}},\"coloraxis\":{\"colorbar\":{\"outlinewidth\":0,\"ticks\":\"\"}},\"colorscale\":{\"sequential\":[[0.0,\"#0d0887\"],[0.1111111111111111,\"#46039f\"],[0.2222222222222222,\"#7201a8\"],[0.3333333333333333,\"#9c179e\"],[0.4444444444444444,\"#bd3786\"],[0.5555555555555556,\"#d8576b\"],[0.6666666666666666,\"#ed7953\"],[0.7777777777777778,\"#fb9f3a\"],[0.8888888888888888,\"#fdca26\"],[1.0,\"#f0f921\"]],\"sequentialminus\":[[0.0,\"#0d0887\"],[0.1111111111111111,\"#46039f\"],[0.2222222222222222,\"#7201a8\"],[0.3333333333333333,\"#9c179e\"],[0.4444444444444444,\"#bd3786\"],[0.5555555555555556,\"#d8576b\"],[0.6666666666666666,\"#ed7953\"],[0.7777777777777778,\"#fb9f3a\"],[0.8888888888888888,\"#fdca26\"],[1.0,\"#f0f921\"]],\"diverging\":[[0,\"#8e0152\"],[0.1,\"#c51b7d\"],[0.2,\"#de77ae\"],[0.3,\"#f1b6da\"],[0.4,\"#fde0ef\"],[0.5,\"#f7f7f7\"],[0.6,\"#e6f5d0\"],[0.7,\"#b8e186\"],[0.8,\"#7fbc41\"],[0.9,\"#4d9221\"],[1,\"#276419\"]]},\"xaxis\":{\"gridcolor\":\"white\",\"linecolor\":\"white\",\"ticks\":\"\",\"title\":{\"standoff\":15},\"zerolinecolor\":\"white\",\"automargin\":true,\"zerolinewidth\":2},\"yaxis\":{\"gridcolor\":\"white\",\"linecolor\":\"white\",\"ticks\":\"\",\"title\":{\"standoff\":15},\"zerolinecolor\":\"white\",\"automargin\":true,\"zerolinewidth\":2},\"scene\":{\"xaxis\":{\"backgroundcolor\":\"#E5ECF6\",\"gridcolor\":\"white\",\"linecolor\":\"white\",\"showbackground\":true,\"ticks\":\"\",\"zerolinecolor\":\"white\",\"gridwidth\":2},\"yaxis\":{\"backgroundcolor\":\"#E5ECF6\",\"gridcolor\":\"white\",\"linecolor\":\"white\",\"showbackground\":true,\"ticks\":\"\",\"zerolinecolor\":\"white\",\"gridwidth\":2},\"zaxis\":{\"backgroundcolor\":\"#E5ECF6\",\"gridcolor\":\"white\",\"linecolor\":\"white\",\"showbackground\":true,\"ticks\":\"\",\"zerolinecolor\":\"white\",\"gridwidth\":2}},\"shapedefaults\":{\"line\":{\"color\":\"#2a3f5f\"}},\"annotationdefaults\":{\"arrowcolor\":\"#2a3f5f\",\"arrowhead\":0,\"arrowwidth\":1},\"geo\":{\"bgcolor\":\"white\",\"landcolor\":\"#E5ECF6\",\"subunitcolor\":\"white\",\"showland\":true,\"showlakes\":true,\"lakecolor\":\"white\"},\"title\":{\"x\":0.05},\"mapbox\":{\"style\":\"light\"}}},\"xaxis\":{\"anchor\":\"y\",\"domain\":[0.0,1.0],\"title\":{\"text\":\"word\"},\"tickangle\":-45},\"yaxis\":{\"anchor\":\"x\",\"domain\":[0.0,1.0],\"title\":{\"text\":\"tfidf_score_sum\"}},\"legend\":{\"tracegroupgap\":0},\"margin\":{\"t\":60},\"barmode\":\"relative\"},                        {\"responsive\": true}                    ).then(function(){\n",
              "                            \n",
              "var gd = document.getElementById('7222eda6-8ff4-46e8-af4b-10ef75800dcc');\n",
              "var x = new MutationObserver(function (mutations, observer) {{\n",
              "        var display = window.getComputedStyle(gd).display;\n",
              "        if (!display || display === 'none') {{\n",
              "            console.log([gd, 'removed!']);\n",
              "            Plotly.purge(gd);\n",
              "            observer.disconnect();\n",
              "        }}\n",
              "}});\n",
              "\n",
              "// Listen for the removal of the full notebook cells\n",
              "var notebookContainer = gd.closest('#notebook-container');\n",
              "if (notebookContainer) {{\n",
              "    x.observe(notebookContainer, {childList: true});\n",
              "}}\n",
              "\n",
              "// Listen for the clearing of the current output cell\n",
              "var outputEl = gd.closest('.output');\n",
              "if (outputEl) {{\n",
              "    x.observe(outputEl, {childList: true});\n",
              "}}\n",
              "\n",
              "                        })                };                });            </script>        </div>"
            ]
          },
          "metadata": {},
          "output_type": "display_data"
        }
      ],
      "source": [
        "fig = px.bar(words_df.tail(50), x='word', y='tfidf_score_sum')\n",
        "fig.update_xaxes(tickangle= -45)  \n",
        "fig.show()"
      ]
    },
    {
      "cell_type": "markdown",
      "metadata": {},
      "source": [
        "Take a look at what these are like:\n"
      ]
    },
    {
      "cell_type": "code",
      "execution_count": 18,
      "metadata": {},
      "outputs": [
        {
          "data": {
            "text/html": [
              "<div>\n",
              "<style scoped>\n",
              "    .dataframe tbody tr th:only-of-type {\n",
              "        vertical-align: middle;\n",
              "    }\n",
              "\n",
              "    .dataframe tbody tr th {\n",
              "        vertical-align: top;\n",
              "    }\n",
              "\n",
              "    .dataframe thead th {\n",
              "        text-align: right;\n",
              "    }\n",
              "</style>\n",
              "<table border=\"1\" class=\"dataframe\">\n",
              "  <thead>\n",
              "    <tr style=\"text-align: right;\">\n",
              "      <th></th>\n",
              "      <th>response_id</th>\n",
              "      <th>class</th>\n",
              "      <th>response_text</th>\n",
              "    </tr>\n",
              "  </thead>\n",
              "  <tbody>\n",
              "    <tr>\n",
              "      <th>15</th>\n",
              "      <td>response_16</td>\n",
              "      <td>flagged</td>\n",
              "      <td>ex gf was a cutter/suicidal, got her out of her own issues while slowly dying inside.</td>\n",
              "    </tr>\n",
              "  </tbody>\n",
              "</table>\n",
              "</div>"
            ],
            "text/plain": [
              "    response_id    class  \\\n",
              "15  response_16  flagged   \n",
              "\n",
              "                                                                            response_text  \n",
              "15  ex gf was a cutter/suicidal, got her out of her own issues while slowly dying inside.  "
            ]
          },
          "execution_count": 18,
          "metadata": {},
          "output_type": "execute_result"
        }
      ],
      "source": [
        "df[df['response_text'].str.contains('ex[^a-z]')]"
      ]
    },
    {
      "cell_type": "code",
      "execution_count": 55,
      "metadata": {},
      "outputs": [],
      "source": [
        "#list(vectorizer.get_feature_names_out())"
      ]
    },
    {
      "cell_type": "code",
      "execution_count": 19,
      "metadata": {},
      "outputs": [
        {
          "data": {
            "text/html": [
              "<div>\n",
              "<style scoped>\n",
              "    .dataframe tbody tr th:only-of-type {\n",
              "        vertical-align: middle;\n",
              "    }\n",
              "\n",
              "    .dataframe tbody tr th {\n",
              "        vertical-align: top;\n",
              "    }\n",
              "\n",
              "    .dataframe thead th {\n",
              "        text-align: right;\n",
              "    }\n",
              "</style>\n",
              "<table border=\"1\" class=\"dataframe\">\n",
              "  <thead>\n",
              "    <tr style=\"text-align: right;\">\n",
              "      <th></th>\n",
              "      <th>response_id</th>\n",
              "      <th>class</th>\n",
              "      <th>response_text</th>\n",
              "    </tr>\n",
              "  </thead>\n",
              "  <tbody>\n",
              "    <tr>\n",
              "      <th>8</th>\n",
              "      <td>response_9</td>\n",
              "      <td>not_flagged</td>\n",
              "      <td>Listened to someone talk about relationship troubles. Offered some advice from personal experience.</td>\n",
              "    </tr>\n",
              "    <tr>\n",
              "      <th>15</th>\n",
              "      <td>response_16</td>\n",
              "      <td>flagged</td>\n",
              "      <td>ex gf was a cutter/suicidal, got her out of her own issues while slowly dying inside.</td>\n",
              "    </tr>\n",
              "    <tr>\n",
              "      <th>19</th>\n",
              "      <td>response_20</td>\n",
              "      <td>not_flagged</td>\n",
              "      <td>expressing concern and openness to friends when they are dealing with troubles. letting them know they can fell open for dialog.</td>\n",
              "    </tr>\n",
              "    <tr>\n",
              "      <th>22</th>\n",
              "      <td>response_23</td>\n",
              "      <td>flagged</td>\n",
              "      <td>Having gone through depression and anxiety myself, I understand the struggles and have a few personal methods to cope when stuff hits. Having this knowledge has allowed me to help several people on the internet as well as my other friends when they have faced similar issues and talk to me about them. I understand how important listening is and offer my experiences to help them get through what they face.</td>\n",
              "    </tr>\n",
              "    <tr>\n",
              "      <th>34</th>\n",
              "      <td>response_35</td>\n",
              "      <td>not_flagged</td>\n",
              "      <td>Don't have a specific example but just letting people know you're there if they want to talk.</td>\n",
              "    </tr>\n",
              "    <tr>\n",
              "      <th>37</th>\n",
              "      <td>response_38</td>\n",
              "      <td>not_flagged</td>\n",
              "      <td>I've always been a good listener for people and I think a lot of people just want to be heard and not necessarily fixed. They just need to express themselves to relief their thoughts to others so they're not trapped so much within the confines of their own head.  I've always lent an ear for someone to speak to.</td>\n",
              "    </tr>\n",
              "    <tr>\n",
              "      <th>61</th>\n",
              "      <td>response_62</td>\n",
              "      <td>flagged</td>\n",
              "      <td>Having self harmed in the past,  I shared my experience with a friend in hopes of swaying her from those actions.</td>\n",
              "    </tr>\n",
              "    <tr>\n",
              "      <th>74</th>\n",
              "      <td>response_75</td>\n",
              "      <td>flagged</td>\n",
              "      <td>My grandmother went through some severe depression shortly after I had some difficulties. Using my personal experience to relate with her and share what I used to get better was helpful to comfort her.</td>\n",
              "    </tr>\n",
              "    <tr>\n",
              "      <th>75</th>\n",
              "      <td>response_76</td>\n",
              "      <td>not_flagged</td>\n",
              "      <td>Now that I've been through it, although i'm not even where I'd like to be, I'm extremely open about sharing my experience with others and helping friends going through similar situations. And PLEASE if you have any other questions about my situation don't hesitate to email me. I'm an open book and excited to see how many people you're going to help.</td>\n",
              "    </tr>\n",
              "  </tbody>\n",
              "</table>\n",
              "</div>"
            ],
            "text/plain": [
              "    response_id        class  \\\n",
              "8    response_9  not_flagged   \n",
              "15  response_16      flagged   \n",
              "19  response_20  not_flagged   \n",
              "22  response_23      flagged   \n",
              "34  response_35  not_flagged   \n",
              "37  response_38  not_flagged   \n",
              "61  response_62      flagged   \n",
              "74  response_75      flagged   \n",
              "75  response_76  not_flagged   \n",
              "\n",
              "                                                                                                                                                                                                                                                                                                                                                                                                              response_text  \n",
              "8                                                                                                                                                                                                                                                                                                                       Listened to someone talk about relationship troubles. Offered some advice from personal experience.  \n",
              "15                                                                                                                                                                                                                                                                                                                                    ex gf was a cutter/suicidal, got her out of her own issues while slowly dying inside.  \n",
              "19                                                                                                                                                                                                                                                                                         expressing concern and openness to friends when they are dealing with troubles. letting them know they can fell open for dialog.  \n",
              "22  Having gone through depression and anxiety myself, I understand the struggles and have a few personal methods to cope when stuff hits. Having this knowledge has allowed me to help several people on the internet as well as my other friends when they have faced similar issues and talk to me about them. I understand how important listening is and offer my experiences to help them get through what they face.  \n",
              "34                                                                                                                                                                                                                                                                                                                            Don't have a specific example but just letting people know you're there if they want to talk.  \n",
              "37                                                                                                 I've always been a good listener for people and I think a lot of people just want to be heard and not necessarily fixed. They just need to express themselves to relief their thoughts to others so they're not trapped so much within the confines of their own head.  I've always lent an ear for someone to speak to.  \n",
              "61                                                                                                                                                                                                                                                                                                        Having self harmed in the past,  I shared my experience with a friend in hopes of swaying her from those actions.  \n",
              "74                                                                                                                                                                                                                My grandmother went through some severe depression shortly after I had some difficulties. Using my personal experience to relate with her and share what I used to get better was helpful to comfort her.  \n",
              "75                                                          Now that I've been through it, although i'm not even where I'd like to be, I'm extremely open about sharing my experience with others and helping friends going through similar situations. And PLEASE if you have any other questions about my situation don't hesitate to email me. I'm an open book and excited to see how many people you're going to help.  "
            ]
          },
          "execution_count": 19,
          "metadata": {},
          "output_type": "execute_result"
        }
      ],
      "source": [
        "df[df['response_text'].str.contains('ex')]"
      ]
    },
    {
      "cell_type": "code",
      "execution_count": null,
      "metadata": {},
      "outputs": [],
      "source": []
    }
  ],
  "metadata": {
    "colab": {
      "authorship_tag": "ABX9TyN9Yy1Lal6twyzGT8J1/R7O",
      "include_colab_link": true,
      "name": "deepNLP - notebook 1.ipynb",
      "provenance": [],
      "toc_visible": true
    },
    "interpreter": {
      "hash": "adfccd5c958d70cd78f22c942a5f90dd259f52bf203482d766a0ca6ec5e2e798"
    },
    "kernelspec": {
      "display_name": "Python 3.9.7 ('base')",
      "language": "python",
      "name": "python3"
    },
    "language_info": {
      "codemirror_mode": {
        "name": "ipython",
        "version": 3
      },
      "file_extension": ".py",
      "mimetype": "text/x-python",
      "name": "python",
      "nbconvert_exporter": "python",
      "pygments_lexer": "ipython3",
      "version": "3.9.7"
    }
  },
  "nbformat": 4,
  "nbformat_minor": 0
}
